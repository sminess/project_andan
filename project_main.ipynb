{
 "cells": [
  {
   "cell_type": "code",
   "execution_count": 1049,
   "id": "159c0f1a",
   "metadata": {},
   "outputs": [],
   "source": [
    "import numpy as np\n",
    "import pandas as pd\n",
    "import matplotlib.pyplot as plt\n",
    "import seaborn as sns\n",
    "\n",
    "from scipy import stats"
   ]
  },
  {
   "cell_type": "markdown",
   "id": "98769116",
   "metadata": {},
   "source": [
    "Загрузим файл с данными, которые ранее были получены с помощью парсинг сайта по продаже телефонов."
   ]
  },
  {
   "cell_type": "code",
   "execution_count": 914,
   "id": "2cb7e8e1",
   "metadata": {
    "scrolled": true
   },
   "outputs": [
    {
     "data": {
      "text/html": [
       "<div>\n",
       "<style scoped>\n",
       "    .dataframe tbody tr th:only-of-type {\n",
       "        vertical-align: middle;\n",
       "    }\n",
       "\n",
       "    .dataframe tbody tr th {\n",
       "        vertical-align: top;\n",
       "    }\n",
       "\n",
       "    .dataframe thead th {\n",
       "        text-align: right;\n",
       "    }\n",
       "</style>\n",
       "<table border=\"1\" class=\"dataframe\">\n",
       "  <thead>\n",
       "    <tr style=\"text-align: right;\">\n",
       "      <th></th>\n",
       "      <th>Name</th>\n",
       "      <th>Price</th>\n",
       "      <th>Articul</th>\n",
       "      <th>Screen</th>\n",
       "      <th>Inch</th>\n",
       "      <th>Main camera</th>\n",
       "      <th>Second camera</th>\n",
       "      <th>Processor name</th>\n",
       "      <th>Processor rate</th>\n",
       "      <th>Internal memory</th>\n",
       "      <th>RAM</th>\n",
       "      <th>Battery</th>\n",
       "    </tr>\n",
       "  </thead>\n",
       "  <tbody>\n",
       "    <tr>\n",
       "      <th>0</th>\n",
       "      <td>Xiaomi Redmi Note 11 NFC 4 64Gb RU Star Blue</td>\n",
       "      <td>11790</td>\n",
       "      <td>111788</td>\n",
       "      <td>2400x1080</td>\n",
       "      <td>6.43</td>\n",
       "      <td>50.0</td>\n",
       "      <td>13.0</td>\n",
       "      <td>Snapdragon 680 4G</td>\n",
       "      <td>2.4</td>\n",
       "      <td>64.0</td>\n",
       "      <td>4.0</td>\n",
       "      <td>5000.0</td>\n",
       "    </tr>\n",
       "    <tr>\n",
       "      <th>1</th>\n",
       "      <td>Xiaomi Redmi 10C 4 64Gb RU Green</td>\n",
       "      <td>8350</td>\n",
       "      <td>114089</td>\n",
       "      <td>1650x720</td>\n",
       "      <td>6.71</td>\n",
       "      <td>50.0</td>\n",
       "      <td>5.0</td>\n",
       "      <td>Snapdragon 680 4G</td>\n",
       "      <td>2.4</td>\n",
       "      <td>64.0</td>\n",
       "      <td>4.0</td>\n",
       "      <td>5000.0</td>\n",
       "    </tr>\n",
       "    <tr>\n",
       "      <th>2</th>\n",
       "      <td>Xiaomi Redmi Note 12 6 128Gb NFC RU Onyx Gray</td>\n",
       "      <td>15350</td>\n",
       "      <td>126457</td>\n",
       "      <td>2400x1080</td>\n",
       "      <td>6.67</td>\n",
       "      <td>50.0</td>\n",
       "      <td>13.0</td>\n",
       "      <td>Snapdragon 685</td>\n",
       "      <td>2.8</td>\n",
       "      <td>128.0</td>\n",
       "      <td>6.0</td>\n",
       "      <td>5000.0</td>\n",
       "    </tr>\n",
       "    <tr>\n",
       "      <th>3</th>\n",
       "      <td>Realme C55 8 256Gb Black</td>\n",
       "      <td>14850</td>\n",
       "      <td>126955</td>\n",
       "      <td>2400x1080</td>\n",
       "      <td>6.72</td>\n",
       "      <td>64.0</td>\n",
       "      <td>8.0</td>\n",
       "      <td>Helio G88</td>\n",
       "      <td>2.0</td>\n",
       "      <td>256.0</td>\n",
       "      <td>8.0</td>\n",
       "      <td>5000.0</td>\n",
       "    </tr>\n",
       "    <tr>\n",
       "      <th>4</th>\n",
       "      <td>Xiaomi Redmi 10C 4 64Gb RU Blue</td>\n",
       "      <td>8350</td>\n",
       "      <td>112138</td>\n",
       "      <td>1650x720</td>\n",
       "      <td>6.71</td>\n",
       "      <td>50.0</td>\n",
       "      <td>5.0</td>\n",
       "      <td>Snapdragon 680 4G</td>\n",
       "      <td>2.4</td>\n",
       "      <td>64.0</td>\n",
       "      <td>4.0</td>\n",
       "      <td>5000.0</td>\n",
       "    </tr>\n",
       "    <tr>\n",
       "      <th>...</th>\n",
       "      <td>...</td>\n",
       "      <td>...</td>\n",
       "      <td>...</td>\n",
       "      <td>...</td>\n",
       "      <td>...</td>\n",
       "      <td>...</td>\n",
       "      <td>...</td>\n",
       "      <td>...</td>\n",
       "      <td>...</td>\n",
       "      <td>...</td>\n",
       "      <td>...</td>\n",
       "      <td>...</td>\n",
       "    </tr>\n",
       "    <tr>\n",
       "      <th>514</th>\n",
       "      <td>Xiaomi Redmi Note 12 Pro 5G 6 128Gb EU Blue</td>\n",
       "      <td>26990</td>\n",
       "      <td>118992</td>\n",
       "      <td>2400x1080</td>\n",
       "      <td>6.67</td>\n",
       "      <td>50.0</td>\n",
       "      <td>16.0</td>\n",
       "      <td>Dimensity 1080</td>\n",
       "      <td>2.6</td>\n",
       "      <td>128.0</td>\n",
       "      <td>6.0</td>\n",
       "      <td>5000.0</td>\n",
       "    </tr>\n",
       "    <tr>\n",
       "      <th>515</th>\n",
       "      <td>Xiaomi Redmi Note 12 Pro 5G 8 128Gb EU Blue</td>\n",
       "      <td>28990</td>\n",
       "      <td>118995</td>\n",
       "      <td>2400x1080</td>\n",
       "      <td>6.67</td>\n",
       "      <td>50.0</td>\n",
       "      <td>16.0</td>\n",
       "      <td>Dimensity 1080</td>\n",
       "      <td>2.6</td>\n",
       "      <td>128.0</td>\n",
       "      <td>8.0</td>\n",
       "      <td>5000.0</td>\n",
       "    </tr>\n",
       "    <tr>\n",
       "      <th>516</th>\n",
       "      <td>Xiaomi Redmi Note 12 Pro 5G 8 128Gb EU Pink</td>\n",
       "      <td>28990</td>\n",
       "      <td>118994</td>\n",
       "      <td>2400x1080</td>\n",
       "      <td>6.67</td>\n",
       "      <td>50.0</td>\n",
       "      <td>16.0</td>\n",
       "      <td>Dimensity 1080</td>\n",
       "      <td>2.6</td>\n",
       "      <td>128.0</td>\n",
       "      <td>8.0</td>\n",
       "      <td>5000.0</td>\n",
       "    </tr>\n",
       "    <tr>\n",
       "      <th>517</th>\n",
       "      <td>Xiaomi Redmi Note 12 Pro 5G 8 128Gb EU White</td>\n",
       "      <td>28990</td>\n",
       "      <td>118996</td>\n",
       "      <td>2400x1080</td>\n",
       "      <td>6.67</td>\n",
       "      <td>50.0</td>\n",
       "      <td>16.0</td>\n",
       "      <td>Dimensity 1080</td>\n",
       "      <td>2.6</td>\n",
       "      <td>128.0</td>\n",
       "      <td>8.0</td>\n",
       "      <td>5000.0</td>\n",
       "    </tr>\n",
       "    <tr>\n",
       "      <th>518</th>\n",
       "      <td>Xiaomi Redmi Note 12 Pro 5G 8 256Gb EU Pink</td>\n",
       "      <td>39990</td>\n",
       "      <td>119001</td>\n",
       "      <td>2400x1080</td>\n",
       "      <td>6.67</td>\n",
       "      <td>50.0</td>\n",
       "      <td>16.0</td>\n",
       "      <td>Dimensity 1080</td>\n",
       "      <td>2.6</td>\n",
       "      <td>256.0</td>\n",
       "      <td>8.0</td>\n",
       "      <td>5000.0</td>\n",
       "    </tr>\n",
       "  </tbody>\n",
       "</table>\n",
       "<p>519 rows × 12 columns</p>\n",
       "</div>"
      ],
      "text/plain": [
       "                                               Name  Price  Articul  \\\n",
       "0      Xiaomi Redmi Note 11 NFC 4 64Gb RU Star Blue  11790   111788   \n",
       "1                  Xiaomi Redmi 10C 4 64Gb RU Green   8350   114089   \n",
       "2     Xiaomi Redmi Note 12 6 128Gb NFC RU Onyx Gray  15350   126457   \n",
       "3                          Realme C55 8 256Gb Black  14850   126955   \n",
       "4                   Xiaomi Redmi 10C 4 64Gb RU Blue   8350   112138   \n",
       "..                                              ...    ...      ...   \n",
       "514     Xiaomi Redmi Note 12 Pro 5G 6 128Gb EU Blue  26990   118992   \n",
       "515     Xiaomi Redmi Note 12 Pro 5G 8 128Gb EU Blue  28990   118995   \n",
       "516     Xiaomi Redmi Note 12 Pro 5G 8 128Gb EU Pink  28990   118994   \n",
       "517    Xiaomi Redmi Note 12 Pro 5G 8 128Gb EU White  28990   118996   \n",
       "518     Xiaomi Redmi Note 12 Pro 5G 8 256Gb EU Pink  39990   119001   \n",
       "\n",
       "        Screen  Inch  Main camera  Second camera     Processor name  \\\n",
       "0    2400x1080  6.43         50.0           13.0  Snapdragon 680 4G   \n",
       "1     1650x720  6.71         50.0            5.0  Snapdragon 680 4G   \n",
       "2    2400x1080  6.67         50.0           13.0     Snapdragon 685   \n",
       "3    2400x1080  6.72         64.0            8.0          Helio G88   \n",
       "4     1650x720  6.71         50.0            5.0  Snapdragon 680 4G   \n",
       "..         ...   ...          ...            ...                ...   \n",
       "514  2400x1080  6.67         50.0           16.0     Dimensity 1080   \n",
       "515  2400x1080  6.67         50.0           16.0     Dimensity 1080   \n",
       "516  2400x1080  6.67         50.0           16.0     Dimensity 1080   \n",
       "517  2400x1080  6.67         50.0           16.0     Dimensity 1080   \n",
       "518  2400x1080  6.67         50.0           16.0     Dimensity 1080   \n",
       "\n",
       "     Processor rate  Internal memory  RAM  Battery  \n",
       "0               2.4             64.0  4.0   5000.0  \n",
       "1               2.4             64.0  4.0   5000.0  \n",
       "2               2.8            128.0  6.0   5000.0  \n",
       "3               2.0            256.0  8.0   5000.0  \n",
       "4               2.4             64.0  4.0   5000.0  \n",
       "..              ...              ...  ...      ...  \n",
       "514             2.6            128.0  6.0   5000.0  \n",
       "515             2.6            128.0  8.0   5000.0  \n",
       "516             2.6            128.0  8.0   5000.0  \n",
       "517             2.6            128.0  8.0   5000.0  \n",
       "518             2.6            256.0  8.0   5000.0  \n",
       "\n",
       "[519 rows x 12 columns]"
      ]
     },
     "execution_count": 914,
     "metadata": {},
     "output_type": "execute_result"
    }
   ],
   "source": [
    "df = pd.read_csv('project_data')\n",
    "df.drop(columns=df.columns[0], axis=1, inplace=True)\n",
    "df"
   ]
  },
  {
   "cell_type": "markdown",
   "id": "bb59e5e1",
   "metadata": {},
   "source": [
    "Описание переменных:"
   ]
  },
  {
   "cell_type": "markdown",
   "id": "efc56919",
   "metadata": {},
   "source": [
    "- Name - полное название телефона\n",
    "- Price - цена \n",
    "- Articul - артикул на сайте\n",
    "- Screen - разрешение экрана\n",
    "- Inch - диагональ смартфона (в дюймах)\n",
    "- Main camera - основная камера(в мп)\n",
    "- Second camera - фронтальная камера (в мп)\n",
    "- Processor name - модель процессора\n",
    "- Processor rate - частота процессора (в ГГц)\n",
    "- Internal memory - встроенная память (в ГБ)\n",
    "- RAM - оперативная память (в ГБ)\n",
    "- Battery - характеристика аккумулятора"
   ]
  },
  {
   "cell_type": "markdown",
   "id": "4522542b",
   "metadata": {},
   "source": [
    "Необходимо обработать разрешение экрана, чтобы сделать его числовым. "
   ]
  },
  {
   "cell_type": "code",
   "execution_count": 915,
   "id": "2d90d53d",
   "metadata": {},
   "outputs": [],
   "source": [
    "a = 0\n",
    "for i in df['Screen']:\n",
    "    if 'х' in str(i):\n",
    "        a = i.split('х')\n",
    "        df = df.replace(i, int(a[1]))\n",
    "    elif 'x' in str(i):\n",
    "        a = i.split('x')\n",
    "        df = df.replace(i, int(a[1]))\n",
    "    else:\n",
    "        df = df.replace(i, None)"
   ]
  },
  {
   "cell_type": "markdown",
   "id": "7a8ac14c",
   "metadata": {},
   "source": [
    "Займемся обработкой пропусков. Для начала посмотрим на их количество по каждому признаку:"
   ]
  },
  {
   "cell_type": "code",
   "execution_count": 916,
   "id": "bbc33e4a",
   "metadata": {},
   "outputs": [
    {
     "data": {
      "text/plain": [
       "Name                0\n",
       "Price               0\n",
       "Articul             0\n",
       "Screen             15\n",
       "Inch               15\n",
       "Main camera        26\n",
       "Second camera      77\n",
       "Processor name     91\n",
       "Processor rate     91\n",
       "Internal memory    71\n",
       "RAM                75\n",
       "Battery            88\n",
       "dtype: int64"
      ]
     },
     "execution_count": 916,
     "metadata": {},
     "output_type": "execute_result"
    }
   ],
   "source": [
    "df.isnull().sum()"
   ]
  },
  {
   "cell_type": "markdown",
   "id": "44753198",
   "metadata": {},
   "source": [
    "Я буду заполнять None значения модой по каждому столбцу соответственно, так как использовать среднее в данном случае будет не лучшим вариантом, ведь переменные могут принимать только конкретные значения. Подсчет среднего может привести к тому, что средним значением будет, например, RAM=7,25, однако данный показатель не может принимать дробное значение. "
   ]
  },
  {
   "cell_type": "code",
   "execution_count": 917,
   "id": "4cafe661",
   "metadata": {},
   "outputs": [
    {
     "name": "stderr",
     "output_type": "stream",
     "text": [
      "/var/folders/db/n7ph30_n6793fmm710rhb95m0000gn/T/ipykernel_9490/2915442042.py:1: SettingWithCopyWarning: \n",
      "A value is trying to be set on a copy of a slice from a DataFrame\n",
      "\n",
      "See the caveats in the documentation: https://pandas.pydata.org/pandas-docs/stable/user_guide/indexing.html#returning-a-view-versus-a-copy\n",
      "  df['Screen'][df['Screen'].isnull()] = df['Screen'].mode()[0]  # заполняем пропуски в столбце \"Screen\"\n",
      "/var/folders/db/n7ph30_n6793fmm710rhb95m0000gn/T/ipykernel_9490/2915442042.py:2: SettingWithCopyWarning: \n",
      "A value is trying to be set on a copy of a slice from a DataFrame\n",
      "\n",
      "See the caveats in the documentation: https://pandas.pydata.org/pandas-docs/stable/user_guide/indexing.html#returning-a-view-versus-a-copy\n",
      "  df['Inch'][df['Inch'].isnull()] = df['Inch'].mode()[0]  # заполняем пропуски в столбце \"Inch\"\n",
      "/var/folders/db/n7ph30_n6793fmm710rhb95m0000gn/T/ipykernel_9490/2915442042.py:3: SettingWithCopyWarning: \n",
      "A value is trying to be set on a copy of a slice from a DataFrame\n",
      "\n",
      "See the caveats in the documentation: https://pandas.pydata.org/pandas-docs/stable/user_guide/indexing.html#returning-a-view-versus-a-copy\n",
      "  df['Main camera'][df['Main camera'].isnull()] = df['Main camera'].mode()[0]  # заполняем пропуски в столбце \"Main camera\"\n",
      "/var/folders/db/n7ph30_n6793fmm710rhb95m0000gn/T/ipykernel_9490/2915442042.py:4: SettingWithCopyWarning: \n",
      "A value is trying to be set on a copy of a slice from a DataFrame\n",
      "\n",
      "See the caveats in the documentation: https://pandas.pydata.org/pandas-docs/stable/user_guide/indexing.html#returning-a-view-versus-a-copy\n",
      "  df['Second camera'][df['Second camera'].isnull()] = df['Second camera'].mode()[0]  # заполняем пропуски в столбце \"Second camera\"\n",
      "/var/folders/db/n7ph30_n6793fmm710rhb95m0000gn/T/ipykernel_9490/2915442042.py:5: SettingWithCopyWarning: \n",
      "A value is trying to be set on a copy of a slice from a DataFrame\n",
      "\n",
      "See the caveats in the documentation: https://pandas.pydata.org/pandas-docs/stable/user_guide/indexing.html#returning-a-view-versus-a-copy\n",
      "  df['Processor name'][df['Processor name'].isnull()] = df['Processor name'].mode()[0]  # заполняем пропуски в столбце \"Processor name\"\n",
      "/var/folders/db/n7ph30_n6793fmm710rhb95m0000gn/T/ipykernel_9490/2915442042.py:6: SettingWithCopyWarning: \n",
      "A value is trying to be set on a copy of a slice from a DataFrame\n",
      "\n",
      "See the caveats in the documentation: https://pandas.pydata.org/pandas-docs/stable/user_guide/indexing.html#returning-a-view-versus-a-copy\n",
      "  df['Processor rate'][df['Processor rate'].isnull()] = df['Processor rate'].mode()[0]  # заполняем пропуски в столбце \"Processor rate\"\n",
      "/var/folders/db/n7ph30_n6793fmm710rhb95m0000gn/T/ipykernel_9490/2915442042.py:7: SettingWithCopyWarning: \n",
      "A value is trying to be set on a copy of a slice from a DataFrame\n",
      "\n",
      "See the caveats in the documentation: https://pandas.pydata.org/pandas-docs/stable/user_guide/indexing.html#returning-a-view-versus-a-copy\n",
      "  df['Internal memory'][df['Internal memory'].isnull()] = df['Internal memory'].mode()[0]  # заполняем пропуски в столбце \"Internal memory\"\n",
      "/var/folders/db/n7ph30_n6793fmm710rhb95m0000gn/T/ipykernel_9490/2915442042.py:8: SettingWithCopyWarning: \n",
      "A value is trying to be set on a copy of a slice from a DataFrame\n",
      "\n",
      "See the caveats in the documentation: https://pandas.pydata.org/pandas-docs/stable/user_guide/indexing.html#returning-a-view-versus-a-copy\n",
      "  df['RAM'][df['RAM'].isnull()] = df['RAM'].mode()[0]  # заполняем пропуски в столбце \"RAM\"\n",
      "/var/folders/db/n7ph30_n6793fmm710rhb95m0000gn/T/ipykernel_9490/2915442042.py:9: SettingWithCopyWarning: \n",
      "A value is trying to be set on a copy of a slice from a DataFrame\n",
      "\n",
      "See the caveats in the documentation: https://pandas.pydata.org/pandas-docs/stable/user_guide/indexing.html#returning-a-view-versus-a-copy\n",
      "  df['Battery'][df['Battery'].isnull()] = df['Battery'].mode()[0]  # заполняем пропуски в столбце \"Battery\"\n"
     ]
    }
   ],
   "source": [
    "df['Screen'][df['Screen'].isnull()] = df['Screen'].mode()[0]  # заполняем пропуски в столбце \"Screen\"\n",
    "df['Inch'][df['Inch'].isnull()] = df['Inch'].mode()[0]  # заполняем пропуски в столбце \"Inch\"\n",
    "df['Main camera'][df['Main camera'].isnull()] = df['Main camera'].mode()[0]  # заполняем пропуски в столбце \"Main camera\"\n",
    "df['Second camera'][df['Second camera'].isnull()] = df['Second camera'].mode()[0]  # заполняем пропуски в столбце \"Second camera\"\n",
    "df['Processor name'][df['Processor name'].isnull()] = df['Processor name'].mode()[0]  # заполняем пропуски в столбце \"Processor name\"\n",
    "df['Processor rate'][df['Processor rate'].isnull()] = df['Processor rate'].mode()[0]  # заполняем пропуски в столбце \"Processor rate\"\n",
    "df['Internal memory'][df['Internal memory'].isnull()] = df['Internal memory'].mode()[0]  # заполняем пропуски в столбце \"Internal memory\"\n",
    "df['RAM'][df['RAM'].isnull()] = df['RAM'].mode()[0]  # заполняем пропуски в столбце \"RAM\"\n",
    "df['Battery'][df['Battery'].isnull()] = df['Battery'].mode()[0]  # заполняем пропуски в столбце \"Battery\""
   ]
  },
  {
   "cell_type": "code",
   "execution_count": 918,
   "id": "24dbddc9",
   "metadata": {},
   "outputs": [],
   "source": [
    "df['Screen'] = df['Screen'].astype(int)\n",
    "df['Main camera'] = df['Main camera'].astype(int)\n",
    "df['Second camera'] = df['Second camera'].astype(int)\n",
    "df['Price'] = df['Price'].astype(int)\n",
    "df['Inch'] = df['Inch'].astype(int)\n",
    "df['Processor rate'] = df['Processor rate'].astype(int)\n",
    "df['Internal memory'] = df['Internal memory'].astype(int)\n",
    "df['RAM'] = df['RAM'].astype(int)\n",
    "df['Battery'] = df['Battery'].astype(int)"
   ]
  },
  {
   "cell_type": "markdown",
   "id": "69bc6d53",
   "metadata": {},
   "source": [
    "### Cоздание новых переменных. "
   ]
  },
  {
   "cell_type": "markdown",
   "id": "f871327c",
   "metadata": {},
   "source": [
    "Создадим новые переменные на основе уже имеющихся данных. Во-первых, создадим признак \"brand\", который позволит анализировать не просто численные данные каждого телефона, но и также сравнивать по брендам, так как можно выдвинуть гипотезу о том, что цена телефона сильно зависит от производителя (даже в большей степени, чем от численных характеристик)."
   ]
  },
  {
   "cell_type": "code",
   "execution_count": 919,
   "id": "569c0be9",
   "metadata": {},
   "outputs": [],
   "source": [
    "brand = []\n",
    "for elem in df['Name']:\n",
    "    brand.append(elem.split()[0])"
   ]
  },
  {
   "cell_type": "code",
   "execution_count": 920,
   "id": "14e5de54",
   "metadata": {},
   "outputs": [],
   "source": [
    "df['Name of brand'] = brand"
   ]
  },
  {
   "cell_type": "markdown",
   "id": "ff013866",
   "metadata": {},
   "source": [
    "Обобщим и добавим еще один признак \"operating system\". Он позволит сравнивать телефоны по отношению к большим классам (операционным системам). Возможно, этот признак будет очень полезен для построения модели машинного обучения."
   ]
  },
  {
   "cell_type": "code",
   "execution_count": 921,
   "id": "0059df62",
   "metadata": {},
   "outputs": [],
   "source": [
    "operating_system = []\n",
    "for x in df['Name of brand']:\n",
    "    if x == 'Apple':\n",
    "        operating_system.append('IOS')\n",
    "    elif x == 'Philips':\n",
    "        operating_system.append('Nucleus')\n",
    "    elif x == 'Digma' or x == 'Vertex' or x == 'Alcatel' or x == 'Corn' or x == 'Sunwind' or x == 'Joys' or x == 'Panasonic':\n",
    "        operating_system.append('Not defined')\n",
    "    else:\n",
    "        operating_system.append('Android')"
   ]
  },
  {
   "cell_type": "code",
   "execution_count": 922,
   "id": "c859540c",
   "metadata": {},
   "outputs": [],
   "source": [
    "df['Operating system'] = operating_system"
   ]
  },
  {
   "cell_type": "markdown",
   "id": "87659f1c",
   "metadata": {},
   "source": [
    "Создадим еще один признак - цвет телефона. Данный признак будет интересен в блоке тестирования гипотез, а также для сравнения цены на одну и ту же модель телефона, но разного цвета. Возможно, что цвет также играет большую роль в формировании цены."
   ]
  },
  {
   "cell_type": "code",
   "execution_count": 923,
   "id": "d1dc6ddf",
   "metadata": {},
   "outputs": [],
   "source": [
    "color = []\n",
    "for elem in df['Name']:\n",
    "    color.append(elem.split()[-1])"
   ]
  },
  {
   "cell_type": "code",
   "execution_count": 924,
   "id": "7c2bf971",
   "metadata": {},
   "outputs": [],
   "source": [
    "df['Color'] = color"
   ]
  },
  {
   "cell_type": "markdown",
   "id": "be18a337",
   "metadata": {},
   "source": [
    "Добавим признак - наличие eSim. Возможность использования такой встроенной симкарты также может сильно влиять на цену телефона."
   ]
  },
  {
   "cell_type": "code",
   "execution_count": 925,
   "id": "4b2206c2",
   "metadata": {},
   "outputs": [],
   "source": [
    "eSim = []\n",
    "for i in df['Name']:\n",
    "    if 'eSim' in i:\n",
    "        eSim.append(1)\n",
    "    else:\n",
    "        eSim.append(0)"
   ]
  },
  {
   "cell_type": "code",
   "execution_count": 926,
   "id": "c26ec220",
   "metadata": {},
   "outputs": [],
   "source": [
    "df['eSim'] = eSim"
   ]
  },
  {
   "cell_type": "markdown",
   "id": "a3963889",
   "metadata": {},
   "source": [
    "Посмотрим на итоговую таблицу."
   ]
  },
  {
   "cell_type": "code",
   "execution_count": 927,
   "id": "d0fd40d5",
   "metadata": {},
   "outputs": [
    {
     "data": {
      "text/html": [
       "<div>\n",
       "<style scoped>\n",
       "    .dataframe tbody tr th:only-of-type {\n",
       "        vertical-align: middle;\n",
       "    }\n",
       "\n",
       "    .dataframe tbody tr th {\n",
       "        vertical-align: top;\n",
       "    }\n",
       "\n",
       "    .dataframe thead th {\n",
       "        text-align: right;\n",
       "    }\n",
       "</style>\n",
       "<table border=\"1\" class=\"dataframe\">\n",
       "  <thead>\n",
       "    <tr style=\"text-align: right;\">\n",
       "      <th></th>\n",
       "      <th>Name</th>\n",
       "      <th>Price</th>\n",
       "      <th>Articul</th>\n",
       "      <th>Screen</th>\n",
       "      <th>Inch</th>\n",
       "      <th>Main camera</th>\n",
       "      <th>Second camera</th>\n",
       "      <th>Processor name</th>\n",
       "      <th>Processor rate</th>\n",
       "      <th>Internal memory</th>\n",
       "      <th>RAM</th>\n",
       "      <th>Battery</th>\n",
       "      <th>Name of brand</th>\n",
       "      <th>Operating system</th>\n",
       "      <th>Color</th>\n",
       "      <th>eSim</th>\n",
       "    </tr>\n",
       "  </thead>\n",
       "  <tbody>\n",
       "    <tr>\n",
       "      <th>0</th>\n",
       "      <td>Xiaomi Redmi Note 11 NFC 4 64Gb RU Star Blue</td>\n",
       "      <td>11790</td>\n",
       "      <td>111788</td>\n",
       "      <td>1080</td>\n",
       "      <td>6</td>\n",
       "      <td>50</td>\n",
       "      <td>13</td>\n",
       "      <td>Snapdragon 680 4G</td>\n",
       "      <td>2</td>\n",
       "      <td>64</td>\n",
       "      <td>4</td>\n",
       "      <td>5000</td>\n",
       "      <td>Xiaomi</td>\n",
       "      <td>Android</td>\n",
       "      <td>Blue</td>\n",
       "      <td>0</td>\n",
       "    </tr>\n",
       "    <tr>\n",
       "      <th>1</th>\n",
       "      <td>Xiaomi Redmi 10C 4 64Gb RU Green</td>\n",
       "      <td>8350</td>\n",
       "      <td>114089</td>\n",
       "      <td>720</td>\n",
       "      <td>6</td>\n",
       "      <td>50</td>\n",
       "      <td>5</td>\n",
       "      <td>Snapdragon 680 4G</td>\n",
       "      <td>2</td>\n",
       "      <td>64</td>\n",
       "      <td>4</td>\n",
       "      <td>5000</td>\n",
       "      <td>Xiaomi</td>\n",
       "      <td>Android</td>\n",
       "      <td>Green</td>\n",
       "      <td>0</td>\n",
       "    </tr>\n",
       "    <tr>\n",
       "      <th>2</th>\n",
       "      <td>Xiaomi Redmi Note 12 6 128Gb NFC RU Onyx Gray</td>\n",
       "      <td>15350</td>\n",
       "      <td>126457</td>\n",
       "      <td>1080</td>\n",
       "      <td>6</td>\n",
       "      <td>50</td>\n",
       "      <td>13</td>\n",
       "      <td>Snapdragon 685</td>\n",
       "      <td>2</td>\n",
       "      <td>128</td>\n",
       "      <td>6</td>\n",
       "      <td>5000</td>\n",
       "      <td>Xiaomi</td>\n",
       "      <td>Android</td>\n",
       "      <td>Gray</td>\n",
       "      <td>0</td>\n",
       "    </tr>\n",
       "    <tr>\n",
       "      <th>3</th>\n",
       "      <td>Realme C55 8 256Gb Black</td>\n",
       "      <td>14850</td>\n",
       "      <td>126955</td>\n",
       "      <td>1080</td>\n",
       "      <td>6</td>\n",
       "      <td>64</td>\n",
       "      <td>8</td>\n",
       "      <td>Helio G88</td>\n",
       "      <td>2</td>\n",
       "      <td>256</td>\n",
       "      <td>8</td>\n",
       "      <td>5000</td>\n",
       "      <td>Realme</td>\n",
       "      <td>Android</td>\n",
       "      <td>Black</td>\n",
       "      <td>0</td>\n",
       "    </tr>\n",
       "    <tr>\n",
       "      <th>4</th>\n",
       "      <td>Xiaomi Redmi 10C 4 64Gb RU Blue</td>\n",
       "      <td>8350</td>\n",
       "      <td>112138</td>\n",
       "      <td>720</td>\n",
       "      <td>6</td>\n",
       "      <td>50</td>\n",
       "      <td>5</td>\n",
       "      <td>Snapdragon 680 4G</td>\n",
       "      <td>2</td>\n",
       "      <td>64</td>\n",
       "      <td>4</td>\n",
       "      <td>5000</td>\n",
       "      <td>Xiaomi</td>\n",
       "      <td>Android</td>\n",
       "      <td>Blue</td>\n",
       "      <td>0</td>\n",
       "    </tr>\n",
       "    <tr>\n",
       "      <th>...</th>\n",
       "      <td>...</td>\n",
       "      <td>...</td>\n",
       "      <td>...</td>\n",
       "      <td>...</td>\n",
       "      <td>...</td>\n",
       "      <td>...</td>\n",
       "      <td>...</td>\n",
       "      <td>...</td>\n",
       "      <td>...</td>\n",
       "      <td>...</td>\n",
       "      <td>...</td>\n",
       "      <td>...</td>\n",
       "      <td>...</td>\n",
       "      <td>...</td>\n",
       "      <td>...</td>\n",
       "      <td>...</td>\n",
       "    </tr>\n",
       "    <tr>\n",
       "      <th>514</th>\n",
       "      <td>Xiaomi Redmi Note 12 Pro 5G 6 128Gb EU Blue</td>\n",
       "      <td>26990</td>\n",
       "      <td>118992</td>\n",
       "      <td>1080</td>\n",
       "      <td>6</td>\n",
       "      <td>50</td>\n",
       "      <td>16</td>\n",
       "      <td>Dimensity 1080</td>\n",
       "      <td>2</td>\n",
       "      <td>128</td>\n",
       "      <td>6</td>\n",
       "      <td>5000</td>\n",
       "      <td>Xiaomi</td>\n",
       "      <td>Android</td>\n",
       "      <td>Blue</td>\n",
       "      <td>0</td>\n",
       "    </tr>\n",
       "    <tr>\n",
       "      <th>515</th>\n",
       "      <td>Xiaomi Redmi Note 12 Pro 5G 8 128Gb EU Blue</td>\n",
       "      <td>28990</td>\n",
       "      <td>118995</td>\n",
       "      <td>1080</td>\n",
       "      <td>6</td>\n",
       "      <td>50</td>\n",
       "      <td>16</td>\n",
       "      <td>Dimensity 1080</td>\n",
       "      <td>2</td>\n",
       "      <td>128</td>\n",
       "      <td>8</td>\n",
       "      <td>5000</td>\n",
       "      <td>Xiaomi</td>\n",
       "      <td>Android</td>\n",
       "      <td>Blue</td>\n",
       "      <td>0</td>\n",
       "    </tr>\n",
       "    <tr>\n",
       "      <th>516</th>\n",
       "      <td>Xiaomi Redmi Note 12 Pro 5G 8 128Gb EU Pink</td>\n",
       "      <td>28990</td>\n",
       "      <td>118994</td>\n",
       "      <td>1080</td>\n",
       "      <td>6</td>\n",
       "      <td>50</td>\n",
       "      <td>16</td>\n",
       "      <td>Dimensity 1080</td>\n",
       "      <td>2</td>\n",
       "      <td>128</td>\n",
       "      <td>8</td>\n",
       "      <td>5000</td>\n",
       "      <td>Xiaomi</td>\n",
       "      <td>Android</td>\n",
       "      <td>Pink</td>\n",
       "      <td>0</td>\n",
       "    </tr>\n",
       "    <tr>\n",
       "      <th>517</th>\n",
       "      <td>Xiaomi Redmi Note 12 Pro 5G 8 128Gb EU White</td>\n",
       "      <td>28990</td>\n",
       "      <td>118996</td>\n",
       "      <td>1080</td>\n",
       "      <td>6</td>\n",
       "      <td>50</td>\n",
       "      <td>16</td>\n",
       "      <td>Dimensity 1080</td>\n",
       "      <td>2</td>\n",
       "      <td>128</td>\n",
       "      <td>8</td>\n",
       "      <td>5000</td>\n",
       "      <td>Xiaomi</td>\n",
       "      <td>Android</td>\n",
       "      <td>White</td>\n",
       "      <td>0</td>\n",
       "    </tr>\n",
       "    <tr>\n",
       "      <th>518</th>\n",
       "      <td>Xiaomi Redmi Note 12 Pro 5G 8 256Gb EU Pink</td>\n",
       "      <td>39990</td>\n",
       "      <td>119001</td>\n",
       "      <td>1080</td>\n",
       "      <td>6</td>\n",
       "      <td>50</td>\n",
       "      <td>16</td>\n",
       "      <td>Dimensity 1080</td>\n",
       "      <td>2</td>\n",
       "      <td>256</td>\n",
       "      <td>8</td>\n",
       "      <td>5000</td>\n",
       "      <td>Xiaomi</td>\n",
       "      <td>Android</td>\n",
       "      <td>Pink</td>\n",
       "      <td>0</td>\n",
       "    </tr>\n",
       "  </tbody>\n",
       "</table>\n",
       "<p>519 rows × 16 columns</p>\n",
       "</div>"
      ],
      "text/plain": [
       "                                               Name  Price  Articul  Screen  \\\n",
       "0      Xiaomi Redmi Note 11 NFC 4 64Gb RU Star Blue  11790   111788    1080   \n",
       "1                  Xiaomi Redmi 10C 4 64Gb RU Green   8350   114089     720   \n",
       "2     Xiaomi Redmi Note 12 6 128Gb NFC RU Onyx Gray  15350   126457    1080   \n",
       "3                          Realme C55 8 256Gb Black  14850   126955    1080   \n",
       "4                   Xiaomi Redmi 10C 4 64Gb RU Blue   8350   112138     720   \n",
       "..                                              ...    ...      ...     ...   \n",
       "514     Xiaomi Redmi Note 12 Pro 5G 6 128Gb EU Blue  26990   118992    1080   \n",
       "515     Xiaomi Redmi Note 12 Pro 5G 8 128Gb EU Blue  28990   118995    1080   \n",
       "516     Xiaomi Redmi Note 12 Pro 5G 8 128Gb EU Pink  28990   118994    1080   \n",
       "517    Xiaomi Redmi Note 12 Pro 5G 8 128Gb EU White  28990   118996    1080   \n",
       "518     Xiaomi Redmi Note 12 Pro 5G 8 256Gb EU Pink  39990   119001    1080   \n",
       "\n",
       "     Inch  Main camera  Second camera     Processor name  Processor rate  \\\n",
       "0       6           50             13  Snapdragon 680 4G               2   \n",
       "1       6           50              5  Snapdragon 680 4G               2   \n",
       "2       6           50             13     Snapdragon 685               2   \n",
       "3       6           64              8          Helio G88               2   \n",
       "4       6           50              5  Snapdragon 680 4G               2   \n",
       "..    ...          ...            ...                ...             ...   \n",
       "514     6           50             16     Dimensity 1080               2   \n",
       "515     6           50             16     Dimensity 1080               2   \n",
       "516     6           50             16     Dimensity 1080               2   \n",
       "517     6           50             16     Dimensity 1080               2   \n",
       "518     6           50             16     Dimensity 1080               2   \n",
       "\n",
       "     Internal memory  RAM  Battery Name of brand Operating system  Color  eSim  \n",
       "0                 64    4     5000        Xiaomi          Android   Blue     0  \n",
       "1                 64    4     5000        Xiaomi          Android  Green     0  \n",
       "2                128    6     5000        Xiaomi          Android   Gray     0  \n",
       "3                256    8     5000        Realme          Android  Black     0  \n",
       "4                 64    4     5000        Xiaomi          Android   Blue     0  \n",
       "..               ...  ...      ...           ...              ...    ...   ...  \n",
       "514              128    6     5000        Xiaomi          Android   Blue     0  \n",
       "515              128    8     5000        Xiaomi          Android   Blue     0  \n",
       "516              128    8     5000        Xiaomi          Android   Pink     0  \n",
       "517              128    8     5000        Xiaomi          Android  White     0  \n",
       "518              256    8     5000        Xiaomi          Android   Pink     0  \n",
       "\n",
       "[519 rows x 16 columns]"
      ]
     },
     "execution_count": 927,
     "metadata": {},
     "output_type": "execute_result"
    }
   ],
   "source": [
    "df"
   ]
  },
  {
   "cell_type": "markdown",
   "id": "db1da6de",
   "metadata": {},
   "source": [
    "### Визуализация."
   ]
  },
  {
   "cell_type": "markdown",
   "id": "93dc520c",
   "metadata": {},
   "source": [
    "Построим графики для того, чтобы посмотреть на распределение разных признаков. Это позволит нам лучше \"понимать\" данные для дальнейшего исследования, а также выдвинуть несколько гипотез."
   ]
  },
  {
   "cell_type": "code",
   "execution_count": 928,
   "id": "e80120a9",
   "metadata": {},
   "outputs": [
    {
     "data": {
      "image/png": "[encoded data removed]",
      "text/plain": [
       "<Figure size 720x576 with 1 Axes>"
      ]
     },
     "metadata": {
      "needs_background": "light"
     },
     "output_type": "display_data"
    }
   ],
   "source": [
    "plt.figure(figsize=(10, 8))\n",
    "popular_brands = df['Name of brand'].value_counts()[:10]\n",
    "plt.bar(popular_brands.index, popular_brands)\n",
    "plt.xlabel('Название фирмы телефона')\n",
    "plt.ylabel('Количество телефонов с заданной фирмой')\n",
    "plt.title('10 самых популярных фирм телефонов');"
   ]
  },
  {
   "cell_type": "markdown",
   "id": "be776f46",
   "metadata": {},
   "source": [
    "Визуально распределение похоже на экспоненциальное. Можем увидеть, что телефоны бренда Xiaomi встречаются чаще всего. Также достаточно распространены модели Samsung и Realme. "
   ]
  },
  {
   "cell_type": "code",
   "execution_count": 929,
   "id": "1727b4ea",
   "metadata": {},
   "outputs": [
    {
     "data": {
      "image/png": "[encoded data removed]",
      "text/plain": [
       "<Figure size 432x288 with 1 Axes>"
      ]
     },
     "metadata": {
      "needs_background": "light"
     },
     "output_type": "display_data"
    }
   ],
   "source": [
    "plt.bar(df['Operating system'].value_counts().index, df['Operating system'].value_counts());\n",
    "plt.xlabel('Операционная система телефона')\n",
    "plt.ylabel('Количество телефонов')\n",
    "plt.title('Распределение операционных систем');"
   ]
  },
  {
   "cell_type": "markdown",
   "id": "0d6f6310",
   "metadata": {},
   "source": [
    "На графике можно заметить, что большинство телефонов с операционной системой - Android. Таким образом, для построения модели машинного обучения необходимо будет научиться сравнивать и определять различие между телефонами Android, чтобы лучшим образом прогнозировать цену. А также важно будет в целом учитывать операционную систему телефона, так как от нее будет сильно зависить ценовые границы. К примеру, можно заметить, что телефоны с операционной системой Nucleus, в большинстве, проивзодит Philips, поэтому цены на такие телефоны не сильно высокие. "
   ]
  },
  {
   "cell_type": "code",
   "execution_count": 930,
   "id": "9e754933",
   "metadata": {},
   "outputs": [
    {
     "data": {
      "image/png": "[encoded data removed]",
      "text/plain": [
       "<Figure size 1440x1800 with 8 Axes>"
      ]
     },
     "metadata": {
      "needs_background": "light"
     },
     "output_type": "display_data"
    }
   ],
   "source": [
    "plt.figure(figsize=(20, 25))\n",
    "\n",
    "sp = plt.subplot(421)\n",
    "df['Price'].hist(bins=30)\n",
    "plt.xlabel('Цена')\n",
    "plt.ylabel('Количество телефонов')\n",
    "plt.title('Распределение цены телефона');\n",
    "\n",
    "sp = plt.subplot(422)\n",
    "df['Inch'].hist(bins=30)\n",
    "plt.xlabel('Экран в дюймах')\n",
    "plt.ylabel('Количество телефонов')\n",
    "plt.title('Распределение характеристики экрана');\n",
    "\n",
    "sp = plt.subplot(423)\n",
    "df['Main camera'].hist(bins=30)\n",
    "plt.xlabel('Значение 1 камеры в мп')\n",
    "plt.ylabel('Количество телефонов')\n",
    "plt.title('Распределение характеристики основной камеры');\n",
    "\n",
    "sp = plt.subplot(424)\n",
    "df['Second camera'].hist(bins=30)\n",
    "plt.xlabel('Значение 2 камеры в мп')\n",
    "plt.ylabel('Количество телефонов')\n",
    "plt.title('Распределение второй камеры');\n",
    "\n",
    "sp = plt.subplot(425)\n",
    "df['Processor rate'].hist(bins=30)\n",
    "plt.xlabel('Частота процессора')\n",
    "plt.ylabel('Количество телефонов')\n",
    "plt.title('Распределение частоты процессора');\n",
    "\n",
    "sp = plt.subplot(426)\n",
    "df['Internal memory'].hist(bins=10)\n",
    "plt.xlabel('Значение встроенной памяти')\n",
    "plt.ylabel('Количество телефонов')\n",
    "plt.title('Распределение встроенной памяти');\n",
    "\n",
    "sp = plt.subplot(427)\n",
    "df['RAM'].hist(bins=10)\n",
    "plt.xlabel('Оперативная память телефона')\n",
    "plt.ylabel('Количество телефонов')\n",
    "plt.title('Распределение оперативной памяти');\n",
    "\n",
    "sp = plt.subplot(428)\n",
    "df['Battery'].hist(bins=30)\n",
    "plt.xlabel('Емкость аккумулятора')\n",
    "plt.ylabel('Количество телефонов')\n",
    "plt.title('Распределение емкости аккумулятора');"
   ]
  },
  {
   "cell_type": "markdown",
   "id": "0bfc2ca5",
   "metadata": {},
   "source": [
    "На каждом графике можно заметить значения, которые похожи на выбросы. Например, на графике с распределением основной камеры телефона есть несколько выбросов больше 175. Аналогично на графике с внутренней памятью выбросы со значениями больше 800. \n",
    "Лучше всего их удалить, так как иначе некоторые предпосылки для проверки гипотез будут нарушены, а так же выбросы могут оказать негативное влияние на ML. \n",
    "\n",
    "Таким образом, удалим выбросы в основных характеристиках смартфонов.\n",
    "\n",
    "Также на основе визуализаций можно выдвинуть гипотезу о том, что распределение частоты процессора имеет нормальное распределение. Проверим это в дальнейшем."
   ]
  },
  {
   "cell_type": "code",
   "execution_count": 931,
   "id": "726a1094",
   "metadata": {},
   "outputs": [],
   "source": [
    "df = df[df['Screen'] < 1500]\n",
    "df = df[df['Main camera'] < 150]\n",
    "df = df[df['Second camera'] < 50]\n",
    "df = df[df['Processor rate'] < 4]\n",
    "df = df[df['Internal memory'] < 800]\n",
    "df = df[df['Battery'] < 8000]"
   ]
  },
  {
   "cell_type": "markdown",
   "id": "675c0043",
   "metadata": {},
   "source": [
    "Теперь попробуем найти определенные зависимости в признаках:"
   ]
  },
  {
   "cell_type": "code",
   "execution_count": 932,
   "id": "e2c4c8fb",
   "metadata": {},
   "outputs": [
    {
     "data": {
      "image/png": "[encoded data removed]",
      "text/plain": [
       "<Figure size 432x288 with 1 Axes>"
      ]
     },
     "metadata": {
      "needs_background": "light"
     },
     "output_type": "display_data"
    }
   ],
   "source": [
    "plt.scatter(df['Operating system'], df['Second camera'])\n",
    "plt.xlabel('Операционная система')\n",
    "plt.ylabel('Вторая камера телефона')\n",
    "plt.title('Зависимость операционной системы от второй камеры');"
   ]
  },
  {
   "cell_type": "markdown",
   "id": "6ff88602",
   "metadata": {},
   "source": [
    "Кажется, что у телефонов андроид значение второй камеры лучше, чем у других телефонов."
   ]
  },
  {
   "cell_type": "code",
   "execution_count": 933,
   "id": "557ab08a",
   "metadata": {
    "scrolled": true
   },
   "outputs": [
    {
     "data": {
      "image/png": "[encoded data removed]",
      "text/plain": [
       "<Figure size 432x288 with 1 Axes>"
      ]
     },
     "metadata": {
      "needs_background": "light"
     },
     "output_type": "display_data"
    }
   ],
   "source": [
    "plt.scatter(x=df['Price'], y=df['Processor rate'])\n",
    "plt.xlabel('Цена')\n",
    "plt.ylabel('Частота процессора')\n",
    "plt.title('Зависимость цены и процессора телефона');"
   ]
  },
  {
   "cell_type": "markdown",
   "id": "f7188fc0",
   "metadata": {},
   "source": [
    "Чем ниже цена, то меньше значение частоты процессора. Также на графике можно увидеть, что процессор принимает только 3 значения. Визуально кажется, что можно построить модель классификации (на 3 класса)."
   ]
  },
  {
   "cell_type": "code",
   "execution_count": 934,
   "id": "de273a03",
   "metadata": {},
   "outputs": [
    {
     "data": {
      "image/png": "[encoded data removed]",
      "text/plain": [
       "<Figure size 432x288 with 1 Axes>"
      ]
     },
     "metadata": {
      "needs_background": "light"
     },
     "output_type": "display_data"
    }
   ],
   "source": [
    "plt.scatter(x=df['Price'], y=df['Battery'])\n",
    "plt.xlabel('Цена')\n",
    "plt.ylabel('Емкость батареи')\n",
    "plt.title('Зависимость характеристики аккумулятора от цены');"
   ]
  },
  {
   "cell_type": "markdown",
   "id": "12883558",
   "metadata": {},
   "source": [
    "Кажется, что зависимости между ценой и аккамулятором не наблюдается. Эту гипотезу необходимо будет проверить в дальнейшем. "
   ]
  },
  {
   "cell_type": "code",
   "execution_count": 935,
   "id": "3183279b",
   "metadata": {},
   "outputs": [
    {
     "data": {
      "image/png": "[encoded data removed]",
      "text/plain": [
       "<Figure size 432x288 with 1 Axes>"
      ]
     },
     "metadata": {
      "needs_background": "light"
     },
     "output_type": "display_data"
    }
   ],
   "source": [
    "plt.scatter(x=df['Internal memory'], y=df['RAM'])\n",
    "plt.xlabel('Память телефона')\n",
    "plt.ylabel('RAM')\n",
    "plt.title('Зависимость внутренней памяти от операционной памяти');"
   ]
  },
  {
   "cell_type": "markdown",
   "id": "9b4d1750",
   "metadata": {},
   "source": [
    "В начале графика можно заметить небольшую зависимость: чем больше внутренняя память, тем больше оперативная память. Однако далее зависимость, скорее всего, пропадает."
   ]
  },
  {
   "cell_type": "code",
   "execution_count": 936,
   "id": "5e724be2",
   "metadata": {},
   "outputs": [
    {
     "data": {
      "image/png": "[encoded data removed]",
      "text/plain": [
       "<Figure size 432x288 with 1 Axes>"
      ]
     },
     "metadata": {
      "needs_background": "light"
     },
     "output_type": "display_data"
    }
   ],
   "source": [
    "plt.scatter(df['Operating system'], df['Price'])\n",
    "plt.xlabel('Операционная система')\n",
    "plt.ylabel('Цена')\n",
    "plt.title('Соотношение цены и операционной системы');"
   ]
  },
  {
   "cell_type": "markdown",
   "id": "30660a46",
   "metadata": {},
   "source": [
    "На графике можно заметить, что телефоны с операционной системой IOS стоят в среднем чуть больше, чем другие. Отдельно стоит отметить,что телефоны Nucleus и с неопределенной операционной системой стоят очень мало. В основном, это были кнопочные телефоны, либо очень дешевые телефоны с плохими характеристиками."
   ]
  },
  {
   "cell_type": "code",
   "execution_count": 937,
   "id": "d887c4c2",
   "metadata": {},
   "outputs": [
    {
     "data": {
      "image/png": "[encoded data removed]",
      "text/plain": [
       "<Figure size 432x288 with 1 Axes>"
      ]
     },
     "metadata": {
      "needs_background": "light"
     },
     "output_type": "display_data"
    }
   ],
   "source": [
    "plt.scatter(df['Articul'], df['Price'])\n",
    "plt.xlabel('Артикул')\n",
    "plt.ylabel('Цена')\n",
    "plt.title('Соотношение артикула на сайте с ценой');"
   ]
  },
  {
   "cell_type": "markdown",
   "id": "97a4e5ed",
   "metadata": {},
   "source": [
    "На графике кажется, что зависимости нет, однако также будет интересно проверить гипотезу о зависимости между артикулом и ценой на телефон. Возможно, что артикул телефону присваивается не рандомно, а по некоторому правилу (в зависимости от цены)."
   ]
  },
  {
   "cell_type": "markdown",
   "id": "faecb9c9",
   "metadata": {},
   "source": [
    "Теперь построим тепловую диаграмму, чтобы в целом посмотреть на корреляции между численными переменными датафрейма."
   ]
  },
  {
   "cell_type": "code",
   "execution_count": 1053,
   "id": "da3171c2",
   "metadata": {},
   "outputs": [
    {
     "name": "stderr",
     "output_type": "stream",
     "text": [
      "/var/folders/db/n7ph30_n6793fmm710rhb95m0000gn/T/ipykernel_9490/690442803.py:1: FutureWarning: The default value of numeric_only in DataFrame.corr is deprecated. In a future version, it will default to False. Select only valid columns or specify the value of numeric_only to silence this warning.\n",
      "  correlation = df.corr()\n"
     ]
    },
    {
     "data": {
      "image/png": "[encoded data removed]",
      "text/plain": [
       "<Figure size 432x288 with 2 Axes>"
      ]
     },
     "metadata": {
      "needs_background": "light"
     },
     "output_type": "display_data"
    }
   ],
   "source": [
    "correlation = df.corr()\n",
    "sns.heatmap(correlation)\n",
    "plt.title('Тепловая диаграмма корреляции между переменными');"
   ]
  },
  {
   "cell_type": "markdown",
   "id": "8fbcf363",
   "metadata": {},
   "source": [
    "Можем заметить, что артикул и цена имееют очень маленький коэффициент корреляции. Также баттареию и цена имеют совсем небольшую отрицательную взаимосвязь. Проверим обе эти гипотезы в дальнейшем. В целом можем заметить, что с ценой наибольшим образом коррелируют память (как внутренняя, так и операционная) и частота процессора."
   ]
  },
  {
   "cell_type": "code",
   "execution_count": 938,
   "id": "13769149",
   "metadata": {},
   "outputs": [
    {
     "data": {
      "image/png": "[encoded data removed]",
      "text/plain": [
       "<Figure size 720x576 with 1 Axes>"
      ]
     },
     "metadata": {
      "needs_background": "light"
     },
     "output_type": "display_data"
    }
   ],
   "source": [
    "plt.figure(figsize=(10, 8))\n",
    "plt.scatter(df['Name of brand'], df['Color'])\n",
    "plt.xlabel('Бренд')\n",
    "plt.ylabel('Цвет')\n",
    "plt.title('Соотношение бренда и цвета телефона');"
   ]
  },
  {
   "cell_type": "markdown",
   "id": "dbf75219",
   "metadata": {},
   "source": [
    "Можно заметить, что почти у всех брендов есть телефоны черного цвета. Также достаточно популярны серый, голубой и белый цвета. Это можно заметить и в построенной ниже круговой диаграмме. Эти данные можно использовать в гипотезах."
   ]
  },
  {
   "cell_type": "code",
   "execution_count": 1055,
   "id": "b213a70f",
   "metadata": {},
   "outputs": [
    {
     "name": "stderr",
     "output_type": "stream",
     "text": [
      "/var/folders/db/n7ph30_n6793fmm710rhb95m0000gn/T/ipykernel_9490/3208617560.py:8: FutureWarning: The series.append method is deprecated and will be removed from pandas in a future version. Use pandas.concat instead.\n",
      "  all_colors = all_colors.append(pd.Series(others, name='others'))\n"
     ]
    }
   ],
   "source": [
    "all_colors = df['Color'].value_counts()[:13]  # посмотрим на первые 13 цветов, остальные встречаются слишком редко\n",
    "\n",
    "others = 0\n",
    "for color in df['Color'].value_counts().index:\n",
    "    if color not in all_colors:\n",
    "        others += df['Color'].value_counts()[color]\n",
    "        \n",
    "all_colors = all_colors.append(pd.Series(others, name='others'))"
   ]
  },
  {
   "cell_type": "code",
   "execution_count": 1056,
   "id": "e41e37da",
   "metadata": {},
   "outputs": [
    {
     "data": {
      "image/png": "[encoded data removed]",
      "text/plain": [
       "<Figure size 432x288 with 1 Axes>"
      ]
     },
     "metadata": {},
     "output_type": "display_data"
    }
   ],
   "source": [
    "plt.pie(all_colors, labels=all_colors.index)\n",
    "plt.title('Распределение цветов');"
   ]
  },
  {
   "cell_type": "markdown",
   "id": "135d1089",
   "metadata": {},
   "source": [
    "### Проверка гипотез."
   ]
  },
  {
   "cell_type": "markdown",
   "id": "76f41f2e",
   "metadata": {},
   "source": [
    "1. айфон в среднем стоит дороже чем андроид\n",
    "2. цвет не влияет на цену телефона\n",
    "3. цена и батарея независимы\n",
    "4. цена и артикул независимы\n",
    "5. частота процессора имеет нормальное распределение\n",
    "6. телефоны андроид имеют лучшие характеристики второй камеры\n",
    "7. цена не зависит от вариации цветов телефона"
   ]
  },
  {
   "cell_type": "markdown",
   "id": "d76f1c1b",
   "metadata": {},
   "source": [
    "Все гипотезы будут проверяться на уровне значимости 5%."
   ]
  },
  {
   "cell_type": "markdown",
   "id": "bc506bd0",
   "metadata": {},
   "source": [
    "1.Проверим гипотезу о равенстве математических ожиданий цены айфона и цены на операционной системе андроид с помощью t-теста. Предпосылки: большое n, независимость выборок и отсутствие выбросов соблюдаются. Использовала t-test, так как буду использовать выборочную дисперсию."
   ]
  },
  {
   "cell_type": "code",
   "execution_count": 984,
   "id": "25aa351b",
   "metadata": {},
   "outputs": [],
   "source": [
    "alpha = 0.05  \n",
    "y = df[df['Operating system'] == 'Android'].Price\n",
    "x = df[df['Operating system'] == 'IOS'].Price\n",
    "\n",
    "diff = x.mean() - y.mean() \n",
    "nx, ny = x.size, y.size\n",
    "diff_std = np.sqrt(x.var(ddof=1)/nx + y.var(ddof=1)/ny)\n",
    "                                    \n",
    "t_obs = diff/diff_std    \n",
    "t_crit = stats.t.ppf(1 - alpha, nx+ny-2) "
   ]
  },
  {
   "cell_type": "code",
   "execution_count": 985,
   "id": "d78cd850",
   "metadata": {},
   "outputs": [
    {
     "name": "stdout",
     "output_type": "stream",
     "text": [
      "Наблюдаемое значение статистики = 15.256214665922842\n",
      "Критическое значение статистики = 1.6484049694330078\n"
     ]
    }
   ],
   "source": [
    "print(f'Наблюдаемое значение статистики = {t_obs}')\n",
    "print(f'Критическое значение статистики = {t_crit}')"
   ]
  },
  {
   "cell_type": "markdown",
   "id": "0d00e411",
   "metadata": {},
   "source": [
    "z-obs > z-crit, поэтому гипотеза о равенстве математических ожиданий отвергается. Так как мы рассматривали нодносторонную альтернативу, что можно сделать вывод, что айфоны действительно стоят дороже."
   ]
  },
  {
   "cell_type": "markdown",
   "id": "59ce529a",
   "metadata": {},
   "source": [
    "2.Теперь проверим гипотезу о том, что цвет не влияет на цену телефона. Возьмем для сравнения black и blue телефоны (самых распорстраненных цветов). Проверим с помощью теста Манна-Уитни."
   ]
  },
  {
   "cell_type": "code",
   "execution_count": 986,
   "id": "b64b58c3",
   "metadata": {},
   "outputs": [
    {
     "data": {
      "text/plain": [
       "Black    125\n",
       "Blue     122\n",
       "Name: Color, dtype: int64"
      ]
     },
     "execution_count": 986,
     "metadata": {},
     "output_type": "execute_result"
    }
   ],
   "source": [
    "df['Color'].value_counts()[:2]"
   ]
  },
  {
   "cell_type": "code",
   "execution_count": 987,
   "id": "31b58f36",
   "metadata": {},
   "outputs": [],
   "source": [
    "df_black = df['Price'][df['Color'] == 'Black']\n",
    "df_blue = df['Price'][df['Color'] == 'Blue']"
   ]
  },
  {
   "cell_type": "markdown",
   "id": "d927c763",
   "metadata": {},
   "source": [
    "Для того, чтобы тест Манна-Уитни сработал, распределение телефонов разных цветов должно быть из одного распределения. Посмотрим на это."
   ]
  },
  {
   "cell_type": "code",
   "execution_count": 988,
   "id": "cae60aa6",
   "metadata": {},
   "outputs": [
    {
     "data": {
      "image/png": "[encoded data removed]",
      "text/plain": [
       "<Figure size 720x360 with 1 Axes>"
      ]
     },
     "metadata": {
      "needs_background": "light"
     },
     "output_type": "display_data"
    }
   ],
   "source": [
    "plt.figure(figsize=(10,5))\n",
    "plt.hist(df_blue, bins=20, density=True, alpha=0.4, label='Blue')\n",
    "plt.hist(df_black, bins=20, density=True, alpha=0.4, label='Black')\n",
    "plt.legend();"
   ]
  },
  {
   "cell_type": "markdown",
   "id": "1963a5d0",
   "metadata": {},
   "source": [
    "Визуально кажется, что выборки из одного распределения. Можем применить тест Манна-Уитни. Использую именно его, так как есть длинные хвосты в данных, поэтому обычный z-tets омжет дать ложные результаты."
   ]
  },
  {
   "cell_type": "code",
   "execution_count": 990,
   "id": "5245b947",
   "metadata": {},
   "outputs": [
    {
     "data": {
      "text/plain": [
       "0.18272238831963517"
      ]
     },
     "execution_count": 990,
     "metadata": {},
     "output_type": "execute_result"
    }
   ],
   "source": [
    "_, pval = stats.mannwhitneyu(df_black, df_blue, alternative='two-sided')\n",
    "pval"
   ]
  },
  {
   "cell_type": "markdown",
   "id": "6d05ff80",
   "metadata": {},
   "source": [
    "P-value > alpha, поэтому нет оснований отвергнуть гипотезу о том, что цвет не влияет на цену телефона."
   ]
  },
  {
   "cell_type": "markdown",
   "id": "0ecf1180",
   "metadata": {},
   "source": [
    "Теперь попробуем проверить эту же гипотезу с помощью бутстрапа. "
   ]
  },
  {
   "cell_type": "code",
   "execution_count": 991,
   "id": "72eb7013",
   "metadata": {},
   "outputs": [],
   "source": [
    "def get_bootstrap_sample(x, B_sample=1):\n",
    "    N = x.size \n",
    "    sample = np.random.choice(x, size=(N, B_sample), replace=True)\n",
    "    \n",
    "    if B_sample == 1:\n",
    "        sample = sample.T[0]\n",
    "    return sample"
   ]
  },
  {
   "cell_type": "code",
   "execution_count": 992,
   "id": "81bec00b",
   "metadata": {},
   "outputs": [],
   "source": [
    "x_boot = get_bootstrap_sample(df_black, B_sample=10**4)\n",
    "x_boot = np.median(x_boot, axis=0)\n",
    "\n",
    "y_boot = get_bootstrap_sample(df_blue, B_sample=10**4)\n",
    "y_boot = np.median(y_boot, axis=0)"
   ]
  },
  {
   "cell_type": "code",
   "execution_count": 993,
   "id": "e5f654f1",
   "metadata": {},
   "outputs": [],
   "source": [
    "def stat_intervals(boot, alpha=0.05):\n",
    "    left = np.quantile(boot, alpha/2)\n",
    "    right = np.quantile(boot, 1-alpha/2)\n",
    "    return left, right"
   ]
  },
  {
   "cell_type": "code",
   "execution_count": 994,
   "id": "3d0578de",
   "metadata": {},
   "outputs": [
    {
     "data": {
      "text/plain": [
       "(-3450.0, 1700.0)"
      ]
     },
     "execution_count": 994,
     "metadata": {},
     "output_type": "execute_result"
    }
   ],
   "source": [
    "stat_intervals(x_boot - y_boot)"
   ]
  },
  {
   "cell_type": "markdown",
   "id": "6f0bdc70",
   "metadata": {},
   "source": [
    "Ноль попадает в доверительный интервал, значит нет оснований отвергнуть гипотезу. "
   ]
  },
  {
   "cell_type": "markdown",
   "id": "5bebea2c",
   "metadata": {},
   "source": [
    "3.Проверим гипотезу, которая возникла в ходе визуализации о том, что батарея и цена на телефон независимы. Будем делать это с помощью критерия согласия Пирсона."
   ]
  },
  {
   "cell_type": "code",
   "execution_count": 995,
   "id": "7d56d78c",
   "metadata": {},
   "outputs": [
    {
     "data": {
      "text/html": [
       "<div>\n",
       "<style scoped>\n",
       "    .dataframe tbody tr th:only-of-type {\n",
       "        vertical-align: middle;\n",
       "    }\n",
       "\n",
       "    .dataframe tbody tr th {\n",
       "        vertical-align: top;\n",
       "    }\n",
       "\n",
       "    .dataframe thead th {\n",
       "        text-align: right;\n",
       "    }\n",
       "</style>\n",
       "<table border=\"1\" class=\"dataframe\">\n",
       "  <thead>\n",
       "    <tr style=\"text-align: right;\">\n",
       "      <th></th>\n",
       "      <th>Price</th>\n",
       "      <th>Battery</th>\n",
       "    </tr>\n",
       "  </thead>\n",
       "  <tbody>\n",
       "    <tr>\n",
       "      <th>0</th>\n",
       "      <td>11790</td>\n",
       "      <td>5000</td>\n",
       "    </tr>\n",
       "    <tr>\n",
       "      <th>1</th>\n",
       "      <td>8350</td>\n",
       "      <td>5000</td>\n",
       "    </tr>\n",
       "    <tr>\n",
       "      <th>2</th>\n",
       "      <td>15350</td>\n",
       "      <td>5000</td>\n",
       "    </tr>\n",
       "    <tr>\n",
       "      <th>3</th>\n",
       "      <td>14850</td>\n",
       "      <td>5000</td>\n",
       "    </tr>\n",
       "    <tr>\n",
       "      <th>4</th>\n",
       "      <td>8350</td>\n",
       "      <td>5000</td>\n",
       "    </tr>\n",
       "    <tr>\n",
       "      <th>...</th>\n",
       "      <td>...</td>\n",
       "      <td>...</td>\n",
       "    </tr>\n",
       "    <tr>\n",
       "      <th>514</th>\n",
       "      <td>26990</td>\n",
       "      <td>5000</td>\n",
       "    </tr>\n",
       "    <tr>\n",
       "      <th>515</th>\n",
       "      <td>28990</td>\n",
       "      <td>5000</td>\n",
       "    </tr>\n",
       "    <tr>\n",
       "      <th>516</th>\n",
       "      <td>28990</td>\n",
       "      <td>5000</td>\n",
       "    </tr>\n",
       "    <tr>\n",
       "      <th>517</th>\n",
       "      <td>28990</td>\n",
       "      <td>5000</td>\n",
       "    </tr>\n",
       "    <tr>\n",
       "      <th>518</th>\n",
       "      <td>39990</td>\n",
       "      <td>5000</td>\n",
       "    </tr>\n",
       "  </tbody>\n",
       "</table>\n",
       "<p>504 rows × 2 columns</p>\n",
       "</div>"
      ],
      "text/plain": [
       "     Price  Battery\n",
       "0    11790     5000\n",
       "1     8350     5000\n",
       "2    15350     5000\n",
       "3    14850     5000\n",
       "4     8350     5000\n",
       "..     ...      ...\n",
       "514  26990     5000\n",
       "515  28990     5000\n",
       "516  28990     5000\n",
       "517  28990     5000\n",
       "518  39990     5000\n",
       "\n",
       "[504 rows x 2 columns]"
      ]
     },
     "execution_count": 995,
     "metadata": {},
     "output_type": "execute_result"
    }
   ],
   "source": [
    "df_pr_bat = df[['Price', 'Battery']]\n",
    "df_pr_bat"
   ]
  },
  {
   "cell_type": "code",
   "execution_count": 996,
   "id": "3e951ce1",
   "metadata": {},
   "outputs": [
    {
     "data": {
      "text/plain": [
       "Price       379\n",
       "Battery    1400\n",
       "dtype: int64"
      ]
     },
     "execution_count": 996,
     "metadata": {},
     "output_type": "execute_result"
    }
   ],
   "source": [
    "df_pr_bat.min()"
   ]
  },
  {
   "cell_type": "code",
   "execution_count": 997,
   "id": "6bba8932",
   "metadata": {},
   "outputs": [
    {
     "data": {
      "text/plain": [
       "Price      114490\n",
       "Battery      7000\n",
       "dtype: int64"
      ]
     },
     "execution_count": 997,
     "metadata": {},
     "output_type": "execute_result"
    }
   ],
   "source": [
    "df_pr_bat.max()"
   ]
  },
  {
   "cell_type": "code",
   "execution_count": 1001,
   "id": "c8d610b9",
   "metadata": {},
   "outputs": [],
   "source": [
    "matrix = pd.crosstab(df_pr_bat['Battery'], pd.cut(df['Price'], [0, 10000, 20000, 30000, 40000, 60000, 80000, 100000, 120000]))"
   ]
  },
  {
   "cell_type": "code",
   "execution_count": 1005,
   "id": "d9223b49",
   "metadata": {},
   "outputs": [
    {
     "data": {
      "text/plain": [
       "array([[1, 0, 0, 0, 0, 0, 0, 0],\n",
       "       [8, 0, 0, 0, 0, 0, 0, 0],\n",
       "       [1, 0, 0, 0, 0, 0, 0, 0],\n",
       "       [7, 0, 0, 0, 0, 0, 0, 0],\n",
       "       [2, 0, 0, 0, 0, 0, 3, 0]])"
      ]
     },
     "execution_count": 1005,
     "metadata": {},
     "output_type": "execute_result"
    }
   ],
   "source": [
    "matrix = np.array(matrix)\n",
    "matrix[:5]"
   ]
  },
  {
   "cell_type": "code",
   "execution_count": 1006,
   "id": "655879b8",
   "metadata": {},
   "outputs": [
    {
     "data": {
      "text/plain": [
       "(1348.6223044771289, 2.5505439832308402e-183, 168)"
      ]
     },
     "execution_count": 1006,
     "metadata": {},
     "output_type": "execute_result"
    }
   ],
   "source": [
    "from scipy.stats import chi2_contingency\n",
    "chi2_contingency(matrix)[:3]"
   ]
  },
  {
   "cell_type": "markdown",
   "id": "f3850abe",
   "metadata": {},
   "source": [
    "p-value < alpha, поэтому гипотезу о том, что признаки независимы можно отвергнуть."
   ]
  },
  {
   "cell_type": "markdown",
   "id": "79a28caf",
   "metadata": {},
   "source": [
    "4.Аналогично проверим гипотезу о независимости цены и артикула, которая была интересна в процессе визуализаций."
   ]
  },
  {
   "cell_type": "code",
   "execution_count": 1007,
   "id": "69a0021d",
   "metadata": {},
   "outputs": [
    {
     "data": {
      "text/html": [
       "<div>\n",
       "<style scoped>\n",
       "    .dataframe tbody tr th:only-of-type {\n",
       "        vertical-align: middle;\n",
       "    }\n",
       "\n",
       "    .dataframe tbody tr th {\n",
       "        vertical-align: top;\n",
       "    }\n",
       "\n",
       "    .dataframe thead th {\n",
       "        text-align: right;\n",
       "    }\n",
       "</style>\n",
       "<table border=\"1\" class=\"dataframe\">\n",
       "  <thead>\n",
       "    <tr style=\"text-align: right;\">\n",
       "      <th></th>\n",
       "      <th>Price</th>\n",
       "      <th>Articul</th>\n",
       "    </tr>\n",
       "  </thead>\n",
       "  <tbody>\n",
       "    <tr>\n",
       "      <th>0</th>\n",
       "      <td>11790</td>\n",
       "      <td>111788</td>\n",
       "    </tr>\n",
       "    <tr>\n",
       "      <th>1</th>\n",
       "      <td>8350</td>\n",
       "      <td>114089</td>\n",
       "    </tr>\n",
       "    <tr>\n",
       "      <th>2</th>\n",
       "      <td>15350</td>\n",
       "      <td>126457</td>\n",
       "    </tr>\n",
       "    <tr>\n",
       "      <th>3</th>\n",
       "      <td>14850</td>\n",
       "      <td>126955</td>\n",
       "    </tr>\n",
       "    <tr>\n",
       "      <th>4</th>\n",
       "      <td>8350</td>\n",
       "      <td>112138</td>\n",
       "    </tr>\n",
       "    <tr>\n",
       "      <th>...</th>\n",
       "      <td>...</td>\n",
       "      <td>...</td>\n",
       "    </tr>\n",
       "    <tr>\n",
       "      <th>514</th>\n",
       "      <td>26990</td>\n",
       "      <td>118992</td>\n",
       "    </tr>\n",
       "    <tr>\n",
       "      <th>515</th>\n",
       "      <td>28990</td>\n",
       "      <td>118995</td>\n",
       "    </tr>\n",
       "    <tr>\n",
       "      <th>516</th>\n",
       "      <td>28990</td>\n",
       "      <td>118994</td>\n",
       "    </tr>\n",
       "    <tr>\n",
       "      <th>517</th>\n",
       "      <td>28990</td>\n",
       "      <td>118996</td>\n",
       "    </tr>\n",
       "    <tr>\n",
       "      <th>518</th>\n",
       "      <td>39990</td>\n",
       "      <td>119001</td>\n",
       "    </tr>\n",
       "  </tbody>\n",
       "</table>\n",
       "<p>504 rows × 2 columns</p>\n",
       "</div>"
      ],
      "text/plain": [
       "     Price  Articul\n",
       "0    11790   111788\n",
       "1     8350   114089\n",
       "2    15350   126457\n",
       "3    14850   126955\n",
       "4     8350   112138\n",
       "..     ...      ...\n",
       "514  26990   118992\n",
       "515  28990   118995\n",
       "516  28990   118994\n",
       "517  28990   118996\n",
       "518  39990   119001\n",
       "\n",
       "[504 rows x 2 columns]"
      ]
     },
     "execution_count": 1007,
     "metadata": {},
     "output_type": "execute_result"
    }
   ],
   "source": [
    "df_pr_art = df[['Price', 'Articul']]\n",
    "df_pr_art"
   ]
  },
  {
   "cell_type": "code",
   "execution_count": 1008,
   "id": "6c64408c",
   "metadata": {},
   "outputs": [
    {
     "data": {
      "text/plain": [
       "array([[1, 0, 0, 0, 0, 0],\n",
       "       [1, 0, 0, 0, 0, 0],\n",
       "       [1, 0, 0, 0, 0, 0],\n",
       "       [1, 0, 0, 0, 0, 0],\n",
       "       [1, 0, 0, 0, 0, 0]])"
      ]
     },
     "execution_count": 1008,
     "metadata": {},
     "output_type": "execute_result"
    }
   ],
   "source": [
    "matrix_2 = pd.crosstab(df_pr_art['Articul'], pd.cut(df['Price'], [0, 20000, 40000, 60000, 80000, 100000, 120000]))\n",
    "matrix_2 = np.array(matrix_2)\n",
    "matrix_2[:5]"
   ]
  },
  {
   "cell_type": "code",
   "execution_count": 1009,
   "id": "1be98d65",
   "metadata": {},
   "outputs": [
    {
     "data": {
      "text/plain": [
       "(2520.0, 0.46817772686629217, 2515)"
      ]
     },
     "execution_count": 1009,
     "metadata": {},
     "output_type": "execute_result"
    }
   ],
   "source": [
    "from scipy.stats import chi2_contingency\n",
    "chi2_contingency(matrix_2)[:3]"
   ]
  },
  {
   "cell_type": "markdown",
   "id": "5fbcff27",
   "metadata": {},
   "source": [
    "p-value > alpha, поэтому гипотеза не отвергается. Таким образом, артикул телефона действительно не зависит от цены."
   ]
  },
  {
   "cell_type": "markdown",
   "id": "64b88a3d",
   "metadata": {},
   "source": [
    "5. Теперь проверим гипотезу о том, что данные по частоте процессора распределены нормально. Для этого воспользуемся встроенным в scipy тестом на нормальность."
   ]
  },
  {
   "cell_type": "code",
   "execution_count": 1010,
   "id": "72e224c1",
   "metadata": {},
   "outputs": [],
   "source": [
    "from scipy.stats import normaltest"
   ]
  },
  {
   "cell_type": "code",
   "execution_count": 1011,
   "id": "962c0b72",
   "metadata": {},
   "outputs": [
    {
     "name": "stdout",
     "output_type": "stream",
     "text": [
      "0.01785142558901523\n"
     ]
    }
   ],
   "source": [
    "_, p_val = normaltest(df['Processor rate'])\n",
    "print(p_val)"
   ]
  },
  {
   "cell_type": "markdown",
   "id": "d15fabbb",
   "metadata": {},
   "source": [
    "p-value < alpha = 0.05, поэтому гипотезу можно отвергнуть. Данные по частота процессора только визуально напоминают нормальное распределение. На самом деле, они соответствуют другому распределению."
   ]
  },
  {
   "cell_type": "markdown",
   "id": "dc7082cf",
   "metadata": {},
   "source": [
    "6.Проверим гипотезу о том, что у телефонов андроид в среднем вторая камера лучше с помощью t-теста."
   ]
  },
  {
   "cell_type": "code",
   "execution_count": 1012,
   "id": "e184bfbf",
   "metadata": {},
   "outputs": [],
   "source": [
    "from scipy.stats import ttest_ind"
   ]
  },
  {
   "cell_type": "code",
   "execution_count": 1013,
   "id": "59072761",
   "metadata": {},
   "outputs": [],
   "source": [
    "android = df['Second camera'][df['Operating system'] == 'Android']\n",
    "other = df['Second camera'][df['Operating system'] != 'Android']"
   ]
  },
  {
   "cell_type": "code",
   "execution_count": 1014,
   "id": "67cce5fa",
   "metadata": {},
   "outputs": [
    {
     "name": "stdout",
     "output_type": "stream",
     "text": [
      "5.6187040107013134e-36\n"
     ]
    }
   ],
   "source": [
    "_, p_value = ttest_ind(android, other, equal_var=False)\n",
    "print(p_value)"
   ]
  },
  {
   "cell_type": "markdown",
   "id": "fb966ff2",
   "metadata": {},
   "source": [
    "p-value < alpha, поэтому можно сделать вывод о том, что телефоны на базе Android имеют лучшее значение второй камеры, чем другие телефоны."
   ]
  },
  {
   "cell_type": "markdown",
   "id": "75f1032a",
   "metadata": {},
   "source": [
    "7.Проверим еще одну гипотезу о том, что вариация цветов телефона никак не влияет не стоимость."
   ]
  },
  {
   "cell_type": "code",
   "execution_count": 1015,
   "id": "de6ab6bf",
   "metadata": {},
   "outputs": [
    {
     "data": {
      "text/plain": [
       "Name of brand\n",
       "ARK                                               [Blue, Silver]\n",
       "Ark                                                      [Black]\n",
       "Caterpillar                                              [Black]\n",
       "Google                                                [Obsidian]\n",
       "HTC                                                [Black, Grey]\n",
       "Honor                        [Black, Silver, Lake, Blue, Orange]\n",
       "Huawei                                      [Blue, Black, Green]\n",
       "Infinix                        [Black, Gold, Blue, Green, White]\n",
       "Itel                                [Silver, Blue, Black, Green]\n",
       "Nokia          [Blue, Red, Yellow, Aqua, Black, Purple, Cyan,...\n",
       "OnePlus                              [Green, Blue, Black, Oasis]\n",
       "Oppo                      [Gold, Black, Orange, Starlight, Blue]\n",
       "Realme         [Black, Pearl, White, Silver, Green, Blue, Sea...\n",
       "Samsung        [Graphite, Blue, Purple, Lime, Black, White, S...\n",
       "TCL                            [Blue, Gray, Black, Purple, Mist]\n",
       "Tecno          [Black, Blue, White, Grey, Purple, Green, Cyan...\n",
       "Ulefone                                          [Black, Orange]\n",
       "Xiaomi         [Blue, Green, Gray, Grey, Black, Yellow, Bronz...\n",
       "ZTE                   [Grey, Gold, Green, Black, Blue, Obsidian]\n",
       "Name: Color, dtype: object"
      ]
     },
     "execution_count": 1015,
     "metadata": {},
     "output_type": "execute_result"
    }
   ],
   "source": [
    "df[df['Operating system'] == 'Android'].groupby(['Name of brand'])['Color'].unique()  # смотрим какие есть возможные цвета у каждого бренда"
   ]
  },
  {
   "cell_type": "code",
   "execution_count": 1016,
   "id": "e23fc92b",
   "metadata": {},
   "outputs": [
    {
     "name": "stdout",
     "output_type": "stream",
     "text": [
      "2.1613815237392325e-71\n"
     ]
    }
   ],
   "source": [
    "from scipy.stats import f_oneway  # буду использовать функции из библиотеки для проведения однофакторного дисперсионного анализа\n",
    "\n",
    "groups = df.groupby('Name of brand')\n",
    "\n",
    "means = groups['Price'].mean()\n",
    "variances = groups['Price'].var()\n",
    "\n",
    "_, p_val = f_oneway(*[group['Price'] for name, group in groups])\n",
    "print(p_val)"
   ]
  },
  {
   "cell_type": "markdown",
   "id": "10e36013",
   "metadata": {},
   "source": [
    "p_value < alpha, поэтому гипотеза о независимости отвергается. Таким образом, цена телефона зависит от вариации цветов данной модели."
   ]
  },
  {
   "cell_type": "markdown",
   "id": "9a9d778b",
   "metadata": {},
   "source": [
    "### Машинное обучение."
   ]
  },
  {
   "cell_type": "markdown",
   "id": "8c0292b0",
   "metadata": {},
   "source": [
    "Я буду предсказывать цену телефона, основываясь на других числовых переменных, то есть решать задачу линейной регрессии. В качестве метрик использую mae, r2."
   ]
  },
  {
   "cell_type": "code",
   "execution_count": 1017,
   "id": "3b00dda1",
   "metadata": {},
   "outputs": [],
   "source": [
    "from sklearn.model_selection import train_test_split\n",
    "from sklearn.preprocessing import PolynomialFeatures, StandardScaler, OneHotEncoder\n",
    "from sklearn.compose import ColumnTransformer\n",
    "from sklearn.linear_model import LinearRegression, Lasso\n",
    "from sklearn.metrics import mean_absolute_percentage_error\n",
    "from sklearn.pipeline import Pipeline\n",
    "from sklearn.model_selection import GridSearchCV"
   ]
  },
  {
   "cell_type": "code",
   "execution_count": 1018,
   "id": "b31d05c7",
   "metadata": {},
   "outputs": [],
   "source": [
    "y = df['Price']\n",
    "X = df.drop(columns=['Price'])\n",
    "feature_names = X.columns.values\n",
    "\n",
    "numeric_features = X.select_dtypes([np.number]).columns\n",
    "categorical_features = X.dtypes[X.dtypes == \"object\"].index\n",
    "\n",
    "X_train, X_test, y_train, y_test = train_test_split(X, y, test_size=0.2, random_state=111) "
   ]
  },
  {
   "cell_type": "markdown",
   "id": "54e74fa5",
   "metadata": {},
   "source": [
    "Необходимо сделать нормирование переменных, так как в нашем датафрейме характеристики сильно различаются по диапазонам и измеряются в разных единицах. К числовым применю стандартизацию, а к категориальным переменным OneHotEncoder. "
   ]
  },
  {
   "cell_type": "code",
   "execution_count": 1019,
   "id": "52ab44b7",
   "metadata": {},
   "outputs": [],
   "source": [
    "column_transformer = ColumnTransformer([\n",
    "    ('scaling', StandardScaler(), numeric_features),    \n",
    "    ('ohe', OneHotEncoder(handle_unknown=\"ignore\"), categorical_features)\n",
    "])"
   ]
  },
  {
   "cell_type": "code",
   "execution_count": 1020,
   "id": "74774a9d",
   "metadata": {},
   "outputs": [
    {
     "name": "stdout",
     "output_type": "stream",
     "text": [
      "Кол-во признаков до OneHot: 15\n",
      "Кол-во признаков после OneHot: 535\n"
     ]
    }
   ],
   "source": [
    "print(\"Кол-во признаков до OneHot:\", X_train.shape[1])\n",
    "print(\"Кол-во признаков после OneHot:\", column_transformer.fit_transform(X_train).shape[1])"
   ]
  },
  {
   "cell_type": "markdown",
   "id": "37e51df2",
   "metadata": {},
   "source": [
    "Можно заметить, что количество признаков сильно увеличилось после OneHotEncoding. Наверное, лучше оставить только самые основные категориальные признаки, иначе количество переменных становится больше, чем количество наблюдений.\n",
    "Оставим колонки Name of brand, Color. Сделаем еще раз. "
   ]
  },
  {
   "cell_type": "code",
   "execution_count": 1021,
   "id": "143479da",
   "metadata": {},
   "outputs": [],
   "source": [
    "numeric_features = X.select_dtypes([np.number]).columns\n",
    "categorical_features = [X.dtypes[X.dtypes == \"object\"].index[2], X.dtypes[X.dtypes == \"object\"].index[4]]"
   ]
  },
  {
   "cell_type": "code",
   "execution_count": 1022,
   "id": "90504f49",
   "metadata": {},
   "outputs": [],
   "source": [
    "column_transformer = ColumnTransformer([\n",
    "    ('scaling', StandardScaler(), numeric_features),    \n",
    "    ('ohe', OneHotEncoder(handle_unknown=\"ignore\"), categorical_features)\n",
    "])"
   ]
  },
  {
   "cell_type": "code",
   "execution_count": 1023,
   "id": "4eb31af7",
   "metadata": {},
   "outputs": [
    {
     "name": "stdout",
     "output_type": "stream",
     "text": [
      "Кол-во признаков до OneHot: 15\n",
      "Кол-во признаков после OneHot: 70\n"
     ]
    }
   ],
   "source": [
    "print(\"Кол-во признаков до OneHot:\", X_train.shape[1])\n",
    "print(\"Кол-во признаков после OneHot:\", column_transformer.fit_transform(X_train).shape[1])"
   ]
  },
  {
   "cell_type": "markdown",
   "id": "390ec490",
   "metadata": {},
   "source": [
    "Однако, чтобы не возникло переобучения, необходимо использовать регуляризацию. Я решила использовать Лассо, так как, возможно, какие-то признаки никак не влияют на цену (например, цвет телефона, гипотезу о котором мы проверяли выше), поэтому возможность зануления некоторых признаков в данном случае может пригодиться."
   ]
  },
  {
   "cell_type": "code",
   "execution_count": 1024,
   "id": "13285bd0",
   "metadata": {},
   "outputs": [],
   "source": [
    "from sklearn.metrics import r2_score, mean_absolute_error"
   ]
  },
  {
   "cell_type": "code",
   "execution_count": 1025,
   "id": "5d050eb8",
   "metadata": {},
   "outputs": [
    {
     "name": "stdout",
     "output_type": "stream",
     "text": [
      "MAE на тестовой выборке = 4505.494567576309\n",
      "MAE на обучающей выборке = 3399.435091967365\n"
     ]
    }
   ],
   "source": [
    "lasso_pipeline = Pipeline(steps=[\n",
    "    ('ohe_and_scaling', column_transformer),\n",
    "    ('regression', Lasso())\n",
    "])\n",
    "\n",
    "model = lasso_pipeline.fit(X_train, y_train)\n",
    "\n",
    "y_pred = model.predict(X_test)\n",
    "y_pred_train = model.predict(X_train)\n",
    "\n",
    "print(f'MAE на тестовой выборке = {mean_absolute_error(y_test, y_pred)}')\n",
    "print(f'MAE на обучающей выборке = {mean_absolute_error(y_train, y_pred_train)}')"
   ]
  },
  {
   "cell_type": "code",
   "execution_count": 1026,
   "id": "1cf24bd5",
   "metadata": {},
   "outputs": [
    {
     "name": "stdout",
     "output_type": "stream",
     "text": [
      "R2 на тестовой выборке = 0.8578017807599634\n",
      "R2 на обучающей выборке = 0.9163488330731547\n"
     ]
    }
   ],
   "source": [
    "print(f'R2 на тестовой выборке = {r2_score(y_test, y_pred)}')\n",
    "print(f'R2 на обучающей выборке = {r2_score(y_train, y_pred_train)}')"
   ]
  },
  {
   "cell_type": "markdown",
   "id": "cbb8f92a",
   "metadata": {},
   "source": [
    "Можем увидеть, что модель уже работает достаточно неплохо, однако улучшим ее через подбор гиперпараметра."
   ]
  },
  {
   "cell_type": "code",
   "execution_count": 1027,
   "id": "556e73c1",
   "metadata": {},
   "outputs": [
    {
     "name": "stderr",
     "output_type": "stream",
     "text": [
      "/Users/dasasoloveva/opt/anaconda3/lib/python3.9/site-packages/sklearn/linear_model/_coordinate_descent.py:592: ConvergenceWarning: Objective did not converge. You might want to increase the number of iterations. Duality gap: 2611631255.3241434, tolerance: 11806997.097332874\n",
      "  model = cd_fast.sparse_enet_coordinate_descent(\n",
      "/Users/dasasoloveva/opt/anaconda3/lib/python3.9/site-packages/sklearn/linear_model/_coordinate_descent.py:592: ConvergenceWarning: Objective did not converge. You might want to increase the number of iterations. Duality gap: 3114221990.2215843, tolerance: 12459668.080406614\n",
      "  model = cd_fast.sparse_enet_coordinate_descent(\n",
      "/Users/dasasoloveva/opt/anaconda3/lib/python3.9/site-packages/sklearn/linear_model/_coordinate_descent.py:592: ConvergenceWarning: Objective did not converge. You might want to increase the number of iterations. Duality gap: 3020966953.533087, tolerance: 11681967.757742148\n",
      "  model = cd_fast.sparse_enet_coordinate_descent(\n",
      "/Users/dasasoloveva/opt/anaconda3/lib/python3.9/site-packages/sklearn/linear_model/_coordinate_descent.py:592: ConvergenceWarning: Objective did not converge. You might want to increase the number of iterations. Duality gap: 3220152236.740399, tolerance: 12402283.903266668\n",
      "  model = cd_fast.sparse_enet_coordinate_descent(\n",
      "/Users/dasasoloveva/opt/anaconda3/lib/python3.9/site-packages/sklearn/linear_model/_coordinate_descent.py:592: ConvergenceWarning: Objective did not converge. You might want to increase the number of iterations. Duality gap: 2939352402.9022074, tolerance: 11165277.631839778\n",
      "  model = cd_fast.sparse_enet_coordinate_descent(\n",
      "/Users/dasasoloveva/opt/anaconda3/lib/python3.9/site-packages/sklearn/linear_model/_coordinate_descent.py:592: ConvergenceWarning: Objective did not converge. You might want to increase the number of iterations. Duality gap: 3392729801.983089, tolerance: 11788027.20630799\n",
      "  model = cd_fast.sparse_enet_coordinate_descent(\n",
      "/Users/dasasoloveva/opt/anaconda3/lib/python3.9/site-packages/sklearn/linear_model/_coordinate_descent.py:592: ConvergenceWarning: Objective did not converge. You might want to increase the number of iterations. Duality gap: 2492335429.5448227, tolerance: 11900457.240066668\n",
      "  model = cd_fast.sparse_enet_coordinate_descent(\n",
      "/Users/dasasoloveva/opt/anaconda3/lib/python3.9/site-packages/sklearn/linear_model/_coordinate_descent.py:592: ConvergenceWarning: Objective did not converge. You might want to increase the number of iterations. Duality gap: 2654673302.7530046, tolerance: 11010570.434496412\n",
      "  model = cd_fast.sparse_enet_coordinate_descent(\n",
      "/Users/dasasoloveva/opt/anaconda3/lib/python3.9/site-packages/sklearn/linear_model/_coordinate_descent.py:592: ConvergenceWarning: Objective did not converge. You might want to increase the number of iterations. Duality gap: 3065170721.2500887, tolerance: 11734890.071066668\n",
      "  model = cd_fast.sparse_enet_coordinate_descent(\n",
      "/Users/dasasoloveva/opt/anaconda3/lib/python3.9/site-packages/sklearn/linear_model/_coordinate_descent.py:592: ConvergenceWarning: Objective did not converge. You might want to increase the number of iterations. Duality gap: 2350228426.3676834, tolerance: 11806997.097332874\n",
      "  model = cd_fast.sparse_enet_coordinate_descent(\n",
      "/Users/dasasoloveva/opt/anaconda3/lib/python3.9/site-packages/sklearn/linear_model/_coordinate_descent.py:592: ConvergenceWarning: Objective did not converge. You might want to increase the number of iterations. Duality gap: 2991031245.206642, tolerance: 12376139.58238347\n",
      "  model = cd_fast.sparse_enet_coordinate_descent(\n",
      "/Users/dasasoloveva/opt/anaconda3/lib/python3.9/site-packages/sklearn/linear_model/_coordinate_descent.py:592: ConvergenceWarning: Objective did not converge. You might want to increase the number of iterations. Duality gap: 3021726977.420767, tolerance: 11681967.757742148\n",
      "  model = cd_fast.sparse_enet_coordinate_descent(\n",
      "/Users/dasasoloveva/opt/anaconda3/lib/python3.9/site-packages/sklearn/linear_model/_coordinate_descent.py:592: ConvergenceWarning: Objective did not converge. You might want to increase the number of iterations. Duality gap: 3393405756.536697, tolerance: 11788027.20630799\n",
      "  model = cd_fast.sparse_enet_coordinate_descent(\n",
      "/Users/dasasoloveva/opt/anaconda3/lib/python3.9/site-packages/sklearn/linear_model/_coordinate_descent.py:592: ConvergenceWarning: Objective did not converge. You might want to increase the number of iterations. Duality gap: 2655414040.658347, tolerance: 11010570.434496412\n",
      "  model = cd_fast.sparse_enet_coordinate_descent(\n",
      "/Users/dasasoloveva/opt/anaconda3/lib/python3.9/site-packages/sklearn/linear_model/_coordinate_descent.py:592: ConvergenceWarning: Objective did not converge. You might want to increase the number of iterations. Duality gap: 2940127455.8403606, tolerance: 11165277.631839778\n",
      "  model = cd_fast.sparse_enet_coordinate_descent(\n",
      "/Users/dasasoloveva/opt/anaconda3/lib/python3.9/site-packages/sklearn/linear_model/_coordinate_descent.py:592: ConvergenceWarning: Objective did not converge. You might want to increase the number of iterations. Duality gap: 2254019437.8527136, tolerance: 11900457.240066668\n",
      "  model = cd_fast.sparse_enet_coordinate_descent(\n",
      "/Users/dasasoloveva/opt/anaconda3/lib/python3.9/site-packages/sklearn/linear_model/_coordinate_descent.py:592: ConvergenceWarning: Objective did not converge. You might want to increase the number of iterations. Duality gap: 3220902530.671602, tolerance: 12402283.903266668\n",
      "  model = cd_fast.sparse_enet_coordinate_descent(\n",
      "/Users/dasasoloveva/opt/anaconda3/lib/python3.9/site-packages/sklearn/linear_model/_coordinate_descent.py:592: ConvergenceWarning: Objective did not converge. You might want to increase the number of iterations. Duality gap: 3114969262.6753883, tolerance: 12459668.080406614\n",
      "  model = cd_fast.sparse_enet_coordinate_descent(\n",
      "/Users/dasasoloveva/opt/anaconda3/lib/python3.9/site-packages/sklearn/linear_model/_coordinate_descent.py:592: ConvergenceWarning: Objective did not converge. You might want to increase the number of iterations. Duality gap: 2351487816.475553, tolerance: 11806997.097332874\n",
      "  model = cd_fast.sparse_enet_coordinate_descent(\n",
      "/Users/dasasoloveva/opt/anaconda3/lib/python3.9/site-packages/sklearn/linear_model/_coordinate_descent.py:592: ConvergenceWarning: Objective did not converge. You might want to increase the number of iterations. Duality gap: 2390240533.8915224, tolerance: 11010570.434496412\n",
      "  model = cd_fast.sparse_enet_coordinate_descent(\n",
      "/Users/dasasoloveva/opt/anaconda3/lib/python3.9/site-packages/sklearn/linear_model/_coordinate_descent.py:592: ConvergenceWarning: Objective did not converge. You might want to increase the number of iterations. Duality gap: 2783233625.6616783, tolerance: 12376139.58238347\n",
      "  model = cd_fast.sparse_enet_coordinate_descent(\n",
      "/Users/dasasoloveva/opt/anaconda3/lib/python3.9/site-packages/sklearn/linear_model/_coordinate_descent.py:592: ConvergenceWarning: Objective did not converge. You might want to increase the number of iterations. Duality gap: 2786348242.302191, tolerance: 11681967.757742148\n",
      "  model = cd_fast.sparse_enet_coordinate_descent(\n",
      "/Users/dasasoloveva/opt/anaconda3/lib/python3.9/site-packages/sklearn/linear_model/_coordinate_descent.py:592: ConvergenceWarning: Objective did not converge. You might want to increase the number of iterations. Duality gap: 2711490404.019633, tolerance: 11165277.631839778\n",
      "  model = cd_fast.sparse_enet_coordinate_descent(\n",
      "/Users/dasasoloveva/opt/anaconda3/lib/python3.9/site-packages/sklearn/linear_model/_coordinate_descent.py:592: ConvergenceWarning: Objective did not converge. You might want to increase the number of iterations. Duality gap: 2840959109.278775, tolerance: 11734890.071066668\n",
      "  model = cd_fast.sparse_enet_coordinate_descent(\n",
      "/Users/dasasoloveva/opt/anaconda3/lib/python3.9/site-packages/sklearn/linear_model/_coordinate_descent.py:592: ConvergenceWarning: Objective did not converge. You might want to increase the number of iterations. Duality gap: 2171894117.425376, tolerance: 12402283.903266668\n",
      "  model = cd_fast.sparse_enet_coordinate_descent(\n",
      "/Users/dasasoloveva/opt/anaconda3/lib/python3.9/site-packages/sklearn/linear_model/_coordinate_descent.py:592: ConvergenceWarning: Objective did not converge. You might want to increase the number of iterations. Duality gap: 1941298637.4718494, tolerance: 11900457.240066668\n",
      "  model = cd_fast.sparse_enet_coordinate_descent(\n",
      "/Users/dasasoloveva/opt/anaconda3/lib/python3.9/site-packages/sklearn/linear_model/_coordinate_descent.py:592: ConvergenceWarning: Objective did not converge. You might want to increase the number of iterations. Duality gap: 2818937057.6643515, tolerance: 12459668.080406614\n",
      "  model = cd_fast.sparse_enet_coordinate_descent(\n",
      "/Users/dasasoloveva/opt/anaconda3/lib/python3.9/site-packages/sklearn/linear_model/_coordinate_descent.py:592: ConvergenceWarning: Objective did not converge. You might want to increase the number of iterations. Duality gap: 2930846006.791013, tolerance: 11788027.20630799\n",
      "  model = cd_fast.sparse_enet_coordinate_descent(\n",
      "/Users/dasasoloveva/opt/anaconda3/lib/python3.9/site-packages/sklearn/linear_model/_coordinate_descent.py:592: ConvergenceWarning: Objective did not converge. You might want to increase the number of iterations. Duality gap: 2353715033.5730553, tolerance: 11806997.097332874\n",
      "  model = cd_fast.sparse_enet_coordinate_descent(\n",
      "/Users/dasasoloveva/opt/anaconda3/lib/python3.9/site-packages/sklearn/linear_model/_coordinate_descent.py:592: ConvergenceWarning: Objective did not converge. You might want to increase the number of iterations. Duality gap: 2784627475.3701143, tolerance: 12376139.58238347\n",
      "  model = cd_fast.sparse_enet_coordinate_descent(\n",
      "/Users/dasasoloveva/opt/anaconda3/lib/python3.9/site-packages/sklearn/linear_model/_coordinate_descent.py:592: ConvergenceWarning: Objective did not converge. You might want to increase the number of iterations. Duality gap: 2557374762.667237, tolerance: 11734890.071066668\n",
      "  model = cd_fast.sparse_enet_coordinate_descent(\n",
      "/Users/dasasoloveva/opt/anaconda3/lib/python3.9/site-packages/sklearn/linear_model/_coordinate_descent.py:592: ConvergenceWarning: Objective did not converge. You might want to increase the number of iterations. Duality gap: 1582504686.8247232, tolerance: 11010570.434496412\n",
      "  model = cd_fast.sparse_enet_coordinate_descent(\n",
      "/Users/dasasoloveva/opt/anaconda3/lib/python3.9/site-packages/sklearn/linear_model/_coordinate_descent.py:592: ConvergenceWarning: Objective did not converge. You might want to increase the number of iterations. Duality gap: 2425240669.2746453, tolerance: 11165277.631839778\n",
      "  model = cd_fast.sparse_enet_coordinate_descent(\n",
      "/Users/dasasoloveva/opt/anaconda3/lib/python3.9/site-packages/sklearn/linear_model/_coordinate_descent.py:592: ConvergenceWarning: Objective did not converge. You might want to increase the number of iterations. Duality gap: 2110602552.0185146, tolerance: 11681967.757742148\n",
      "  model = cd_fast.sparse_enet_coordinate_descent(\n",
      "/Users/dasasoloveva/opt/anaconda3/lib/python3.9/site-packages/sklearn/linear_model/_coordinate_descent.py:592: ConvergenceWarning: Objective did not converge. You might want to increase the number of iterations. Duality gap: 2173909059.846067, tolerance: 12402283.903266668\n",
      "  model = cd_fast.sparse_enet_coordinate_descent(\n",
      "/Users/dasasoloveva/opt/anaconda3/lib/python3.9/site-packages/sklearn/linear_model/_coordinate_descent.py:592: ConvergenceWarning: Objective did not converge. You might want to increase the number of iterations. Duality gap: 1943394367.2047648, tolerance: 11900457.240066668\n",
      "  model = cd_fast.sparse_enet_coordinate_descent(\n",
      "/Users/dasasoloveva/opt/anaconda3/lib/python3.9/site-packages/sklearn/linear_model/_coordinate_descent.py:592: ConvergenceWarning: Objective did not converge. You might want to increase the number of iterations. Duality gap: 2598462075.7435327, tolerance: 11788027.20630799\n",
      "  model = cd_fast.sparse_enet_coordinate_descent(\n",
      "/Users/dasasoloveva/opt/anaconda3/lib/python3.9/site-packages/sklearn/linear_model/_coordinate_descent.py:592: ConvergenceWarning: Objective did not converge. You might want to increase the number of iterations. Duality gap: 2189004341.62414, tolerance: 11734890.071066668\n",
      "  model = cd_fast.sparse_enet_coordinate_descent(\n",
      "/Users/dasasoloveva/opt/anaconda3/lib/python3.9/site-packages/sklearn/linear_model/_coordinate_descent.py:592: ConvergenceWarning: Objective did not converge. You might want to increase the number of iterations. Duality gap: 2430289991.8718505, tolerance: 12459668.080406614\n",
      "  model = cd_fast.sparse_enet_coordinate_descent(\n",
      "/Users/dasasoloveva/opt/anaconda3/lib/python3.9/site-packages/sklearn/linear_model/_coordinate_descent.py:592: ConvergenceWarning: Objective did not converge. You might want to increase the number of iterations. Duality gap: 2520909059.695738, tolerance: 12376139.58238347\n",
      "  model = cd_fast.sparse_enet_coordinate_descent(\n",
      "/Users/dasasoloveva/opt/anaconda3/lib/python3.9/site-packages/sklearn/linear_model/_coordinate_descent.py:592: ConvergenceWarning: Objective did not converge. You might want to increase the number of iterations. Duality gap: 2016012741.5455413, tolerance: 11806997.097332874\n",
      "  model = cd_fast.sparse_enet_coordinate_descent(\n",
      "/Users/dasasoloveva/opt/anaconda3/lib/python3.9/site-packages/sklearn/linear_model/_coordinate_descent.py:592: ConvergenceWarning: Objective did not converge. You might want to increase the number of iterations. Duality gap: 2058307536.4612799, tolerance: 11165277.631839778\n",
      "  model = cd_fast.sparse_enet_coordinate_descent(\n",
      "/Users/dasasoloveva/opt/anaconda3/lib/python3.9/site-packages/sklearn/linear_model/_coordinate_descent.py:592: ConvergenceWarning: Objective did not converge. You might want to increase the number of iterations. Duality gap: 956282109.1073046, tolerance: 11010570.434496412\n",
      "  model = cd_fast.sparse_enet_coordinate_descent(\n",
      "/Users/dasasoloveva/opt/anaconda3/lib/python3.9/site-packages/sklearn/linear_model/_coordinate_descent.py:592: ConvergenceWarning: Objective did not converge. You might want to increase the number of iterations. Duality gap: 1613485473.7952995, tolerance: 11681967.757742148\n",
      "  model = cd_fast.sparse_enet_coordinate_descent(\n",
      "/Users/dasasoloveva/opt/anaconda3/lib/python3.9/site-packages/sklearn/linear_model/_coordinate_descent.py:592: ConvergenceWarning: Objective did not converge. You might want to increase the number of iterations. Duality gap: 1521302817.73348, tolerance: 11900457.240066668\n",
      "  model = cd_fast.sparse_enet_coordinate_descent(\n",
      "/Users/dasasoloveva/opt/anaconda3/lib/python3.9/site-packages/sklearn/linear_model/_coordinate_descent.py:592: ConvergenceWarning: Objective did not converge. You might want to increase the number of iterations. Duality gap: 2601694183.3847575, tolerance: 11788027.20630799\n",
      "  model = cd_fast.sparse_enet_coordinate_descent(\n",
      "/Users/dasasoloveva/opt/anaconda3/lib/python3.9/site-packages/sklearn/linear_model/_coordinate_descent.py:592: ConvergenceWarning: Objective did not converge. You might want to increase the number of iterations. Duality gap: 2177493216.5895133, tolerance: 12402283.903266668\n",
      "  model = cd_fast.sparse_enet_coordinate_descent(\n",
      "/Users/dasasoloveva/opt/anaconda3/lib/python3.9/site-packages/sklearn/linear_model/_coordinate_descent.py:592: ConvergenceWarning: Objective did not converge. You might want to increase the number of iterations. Duality gap: 1903568465.894341, tolerance: 12459668.080406614\n",
      "  model = cd_fast.sparse_enet_coordinate_descent(\n",
      "/Users/dasasoloveva/opt/anaconda3/lib/python3.9/site-packages/sklearn/linear_model/_coordinate_descent.py:592: ConvergenceWarning: Objective did not converge. You might want to increase the number of iterations. Duality gap: 1037762011.7372904, tolerance: 11734890.071066668\n",
      "  model = cd_fast.sparse_enet_coordinate_descent(\n",
      "/Users/dasasoloveva/opt/anaconda3/lib/python3.9/site-packages/sklearn/linear_model/_coordinate_descent.py:592: ConvergenceWarning: Objective did not converge. You might want to increase the number of iterations. Duality gap: 1838979294.3030782, tolerance: 12376139.58238347\n",
      "  model = cd_fast.sparse_enet_coordinate_descent(\n",
      "/Users/dasasoloveva/opt/anaconda3/lib/python3.9/site-packages/sklearn/linear_model/_coordinate_descent.py:592: ConvergenceWarning: Objective did not converge. You might want to increase the number of iterations. Duality gap: 190893056.50596428, tolerance: 11900457.240066668\n",
      "  model = cd_fast.sparse_enet_coordinate_descent(\n",
      "/Users/dasasoloveva/opt/anaconda3/lib/python3.9/site-packages/sklearn/linear_model/_coordinate_descent.py:592: ConvergenceWarning: Objective did not converge. You might want to increase the number of iterations. Duality gap: 205437564.5895195, tolerance: 11734890.071066668\n",
      "  model = cd_fast.sparse_enet_coordinate_descent(\n",
      "/Users/dasasoloveva/opt/anaconda3/lib/python3.9/site-packages/sklearn/linear_model/_coordinate_descent.py:592: ConvergenceWarning: Objective did not converge. You might want to increase the number of iterations. Duality gap: 239190466.8082838, tolerance: 12459668.080406614\n",
      "  model = cd_fast.sparse_enet_coordinate_descent(\n"
     ]
    }
   ],
   "source": [
    "alphas = np.logspace(-2, 3, 20)\n",
    "\n",
    "searcher = GridSearchCV(lasso_pipeline, [{\"regression__alpha\": alphas}], cv=10, n_jobs=-1)\n",
    "\n",
    "searcher.fit(X_train, y_train)\n",
    "\n",
    "best_alpha = searcher.best_params_[\"regression__alpha\"]"
   ]
  },
  {
   "cell_type": "code",
   "execution_count": 1028,
   "id": "8007968f",
   "metadata": {},
   "outputs": [
    {
     "data": {
      "text/plain": [
       "7.847599703514607"
      ]
     },
     "execution_count": 1028,
     "metadata": {},
     "output_type": "execute_result"
    }
   ],
   "source": [
    "best_alpha"
   ]
  },
  {
   "cell_type": "code",
   "execution_count": 1029,
   "id": "bbdf6071",
   "metadata": {},
   "outputs": [
    {
     "name": "stdout",
     "output_type": "stream",
     "text": [
      "MAE на тестовой выборке = 4393.910019717524\n",
      "MAE на обучающей выборке = 3474.1611148525208\n"
     ]
    }
   ],
   "source": [
    "pipeline = Pipeline(steps=[\n",
    "    ('ohe_and_scaling', column_transformer),\n",
    "    ('regression', Lasso(best_alpha))\n",
    "])\n",
    "\n",
    "model_with_alpha = pipeline.fit(X_train, y_train)\n",
    "y_pred_new = model_with_alpha.predict(X_test)\n",
    "y_pred_train_new = model_with_alpha.predict(X_train)\n",
    "\n",
    "print(f'MAE на тестовой выборке = {mean_absolute_error(y_test, y_pred_new)}')\n",
    "print(f'MAE на обучающей выборке = {mean_absolute_error(y_train, y_pred_train_new)}')"
   ]
  },
  {
   "cell_type": "code",
   "execution_count": 1030,
   "id": "6fad67cf",
   "metadata": {},
   "outputs": [
    {
     "name": "stdout",
     "output_type": "stream",
     "text": [
      "R2 на тестовой выборке = 0.8611594009400217\n",
      "R2 на обучающей выборке = 0.9146776949909068\n"
     ]
    }
   ],
   "source": [
    "print(f'R2 на тестовой выборке = {r2_score(y_test, y_pred_new)}')\n",
    "print(f'R2 на обучающей выборке = {r2_score(y_train, y_pred_train_new)}')"
   ]
  },
  {
   "cell_type": "markdown",
   "id": "132f0b4f",
   "metadata": {},
   "source": [
    "Заметим, что обе метрики улучшились в качестве на тестовой выборке, но ухудшились на обучающей выборке. Возможно, это связано с переобучением нашей модели. После подбора гиперпараметра модель стала меньше \"запоминать\" обучающую выборку, стала лучше прогнозировать данные на тестовой. "
   ]
  },
  {
   "cell_type": "markdown",
   "id": "889f1320",
   "metadata": {},
   "source": [
    "Выведем список прзинаков, которые Lasso-регрессия занулила:"
   ]
  },
  {
   "cell_type": "code",
   "execution_count": 1031,
   "id": "17efe2ac",
   "metadata": {},
   "outputs": [
    {
     "data": {
      "text/plain": [
       "['Battery', 'Operating system', 'Color']"
      ]
     },
     "execution_count": 1031,
     "metadata": {},
     "output_type": "execute_result"
    }
   ],
   "source": [
    "lasso = pipeline.named_steps['regression']\n",
    "zero_coef_features = [feature for feature, coef in zip(X.columns, lasso.coef_) if coef == 0]\n",
    "zero_coef_features"
   ]
  },
  {
   "cell_type": "markdown",
   "id": "a91f3115",
   "metadata": {},
   "source": [
    "Попробуем уменьшить количество признаков с помощью SelectFromModel для выбора наиболее важных признаков."
   ]
  },
  {
   "cell_type": "code",
   "execution_count": 1032,
   "id": "ec67dcf5",
   "metadata": {},
   "outputs": [],
   "source": [
    "from sklearn.feature_selection import SelectFromModel"
   ]
  },
  {
   "cell_type": "code",
   "execution_count": 1033,
   "id": "571d47c0",
   "metadata": {},
   "outputs": [],
   "source": [
    "selector = SelectFromModel(pipeline.named_steps['regression'], threshold=0.1, prefit=False)\n",
    "X_new = selector.fit_transform(X[numeric_features], y)\n",
    "\n",
    "selected_features = selector.get_support()\n",
    "selected_columns = X[numeric_features].columns[selected_features]"
   ]
  },
  {
   "cell_type": "code",
   "execution_count": 1034,
   "id": "aeb35ae1",
   "metadata": {},
   "outputs": [
    {
     "data": {
      "text/plain": [
       "Index(['Screen', 'Inch', 'Main camera', 'Second camera', 'Processor rate',\n",
       "       'Internal memory', 'RAM', 'Battery', 'eSim'],\n",
       "      dtype='object')"
      ]
     },
     "execution_count": 1034,
     "metadata": {},
     "output_type": "execute_result"
    }
   ],
   "source": [
    "numeric_features_new = selected_columns\n",
    "numeric_features_new  # только выбранные численные переменные"
   ]
  },
  {
   "cell_type": "code",
   "execution_count": 1035,
   "id": "957da47d",
   "metadata": {},
   "outputs": [],
   "source": [
    "X_train_new = X_train[numeric_features_new]  # выберем только те признаки, которые остались после SelectFromModel\n",
    "X_test_new = X_test[numeric_features_new]\n",
    "\n",
    "scaler = StandardScaler()\n",
    "sc = scaler.fit(X_train_new)\n",
    "X_train_scaled = sc.transform(X_train_new)  # скалируем\n",
    "X_test_scaled = sc.transform(X_test_new)"
   ]
  },
  {
   "cell_type": "code",
   "execution_count": 1036,
   "id": "fec2382b",
   "metadata": {},
   "outputs": [
    {
     "name": "stdout",
     "output_type": "stream",
     "text": [
      "MAE на тестовой выборке = 4853.690285555464\n",
      "MAE на обучающей выборке = 4727.514335026559\n"
     ]
    }
   ],
   "source": [
    "model = Lasso(best_alpha)\n",
    "\n",
    "model_with_alpha = model.fit(X_train_scaled, y_train)\n",
    "y_pred_select = model_with_alpha.predict(X_test_scaled)\n",
    "y_pred_train_select = model_with_alpha.predict(X_train_scaled)\n",
    "\n",
    "print(f'MAE на тестовой выборке = {mean_absolute_error(y_test, y_pred_select)}')\n",
    "print(f'MAE на обучающей выборке = {mean_absolute_error(y_train, y_pred_train_select)}')"
   ]
  },
  {
   "cell_type": "code",
   "execution_count": 1037,
   "id": "2bc06f7f",
   "metadata": {},
   "outputs": [
    {
     "name": "stdout",
     "output_type": "stream",
     "text": [
      "R2 на тестовой выборке = 0.8588899376979893\n",
      "R2 на обучающей выборке = 0.8320130195392885\n"
     ]
    }
   ],
   "source": [
    "print(f'R2 на тестовой выборке = {r2_score(y_test, y_pred_select)}')\n",
    "print(f'R2 на обучающей выборке = {r2_score(y_train, y_pred_train_select)}')"
   ]
  },
  {
   "cell_type": "markdown",
   "id": "0b052ba5",
   "metadata": {},
   "source": [
    "Можнем заметить, что метрики ухудшились, поэтому откажемся от использования SelectFromModel."
   ]
  },
  {
   "cell_type": "markdown",
   "id": "6f641769",
   "metadata": {},
   "source": [
    "Теперь попробуем использовать градиентный бустинг. Используем pipeline, как и ранее, в котором первым этапом будет скалирование численных переменных и OneHotEncoding категориальных переменных."
   ]
  },
  {
   "cell_type": "code",
   "execution_count": 1038,
   "id": "6fddc4a9",
   "metadata": {},
   "outputs": [],
   "source": [
    "from xgboost import XGBRegressor"
   ]
  },
  {
   "cell_type": "code",
   "execution_count": 1039,
   "id": "431cf1f1",
   "metadata": {},
   "outputs": [],
   "source": [
    "boost_pipeline = Pipeline(steps=[\n",
    "    ('ohe_and_scaling', column_transformer),\n",
    "    ('boost', XGBRegressor())\n",
    "])"
   ]
  },
  {
   "cell_type": "code",
   "execution_count": 1040,
   "id": "870dd65b",
   "metadata": {},
   "outputs": [
    {
     "name": "stdout",
     "output_type": "stream",
     "text": [
      "MAE на тестовой выборке = 1728.6589150003867\n",
      "MAE на обучающей выборке = 113.13599798992905\n"
     ]
    }
   ],
   "source": [
    "model_boost = boost_pipeline.fit(X_train, y_train)\n",
    "\n",
    "y_pred_boost = model_boost.predict(X_test)\n",
    "y_pred_train_boost = model_boost.predict(X_train)\n",
    "\n",
    "print(f'MAE на тестовой выборке = {mean_absolute_error(y_test, y_pred_boost)}')\n",
    "print(f'MAE на обучающей выборке = {mean_absolute_error(y_train, y_pred_train_boost)}')"
   ]
  },
  {
   "cell_type": "code",
   "execution_count": 1041,
   "id": "045bcf37",
   "metadata": {},
   "outputs": [
    {
     "name": "stdout",
     "output_type": "stream",
     "text": [
      "R2 на тестовой выборке = 0.9239692615243094\n",
      "R2 на обучающей выборке = 0.9999198424313334\n"
     ]
    }
   ],
   "source": [
    "print(f'R2 на тестовой выборке = {r2_score(y_test, y_pred_boost)}')\n",
    "print(f'R2 на обучающей выборке = {r2_score(y_train, y_pred_train_boost)}')"
   ]
  },
  {
   "cell_type": "markdown",
   "id": "a173c59e",
   "metadata": {},
   "source": [
    "Бустинг справляется значительно лучше. Подберем гиперпараметры. "
   ]
  },
  {
   "cell_type": "code",
   "execution_count": 1042,
   "id": "e77734f1",
   "metadata": {},
   "outputs": [],
   "source": [
    "param_grid = {\n",
    "    'boost__learning_rate': [0.1, 0.2, 0.3],\n",
    "    'boost__max_depth': [3, 4, 5, 6, 10],\n",
    "    'boost__n_estimators': [100, 200, 300, 1000]\n",
    "}"
   ]
  },
  {
   "cell_type": "code",
   "execution_count": 1043,
   "id": "bdebae89",
   "metadata": {},
   "outputs": [
    {
     "data": {
      "text/html": [
       "<style>#sk-container-id-4 {color: black;background-color: white;}#sk-container-id-4 pre{padding: 0;}#sk-container-id-4 div.sk-toggleable {background-color: white;}#sk-container-id-4 label.sk-toggleable__label {cursor: pointer;display: block;width: 100%;margin-bottom: 0;padding: 0.3em;box-sizing: border-box;text-align: center;}#sk-container-id-4 label.sk-toggleable__label-arrow:before {content: \"▸\";float: left;margin-right: 0.25em;color: #696969;}#sk-container-id-4 label.sk-toggleable__label-arrow:hover:before {color: black;}#sk-container-id-4 div.sk-estimator:hover label.sk-toggleable__label-arrow:before {color: black;}#sk-container-id-4 div.sk-toggleable__content {max-height: 0;max-width: 0;overflow: hidden;text-align: left;background-color: #f0f8ff;}#sk-container-id-4 div.sk-toggleable__content pre {margin: 0.2em;color: black;border-radius: 0.25em;background-color: #f0f8ff;}#sk-container-id-4 input.sk-toggleable__control:checked~div.sk-toggleable__content {max-height: 200px;max-width: 100%;overflow: auto;}#sk-container-id-4 input.sk-toggleable__control:checked~label.sk-toggleable__label-arrow:before {content: \"▾\";}#sk-container-id-4 div.sk-estimator input.sk-toggleable__control:checked~label.sk-toggleable__label {background-color: #d4ebff;}#sk-container-id-4 div.sk-label input.sk-toggleable__control:checked~label.sk-toggleable__label {background-color: #d4ebff;}#sk-container-id-4 input.sk-hidden--visually {border: 0;clip: rect(1px 1px 1px 1px);clip: rect(1px, 1px, 1px, 1px);height: 1px;margin: -1px;overflow: hidden;padding: 0;position: absolute;width: 1px;}#sk-container-id-4 div.sk-estimator {font-family: monospace;background-color: #f0f8ff;border: 1px dotted black;border-radius: 0.25em;box-sizing: border-box;margin-bottom: 0.5em;}#sk-container-id-4 div.sk-estimator:hover {background-color: #d4ebff;}#sk-container-id-4 div.sk-parallel-item::after {content: \"\";width: 100%;border-bottom: 1px solid gray;flex-grow: 1;}#sk-container-id-4 div.sk-label:hover label.sk-toggleable__label {background-color: #d4ebff;}#sk-container-id-4 div.sk-serial::before {content: \"\";position: absolute;border-left: 1px solid gray;box-sizing: border-box;top: 0;bottom: 0;left: 50%;z-index: 0;}#sk-container-id-4 div.sk-serial {display: flex;flex-direction: column;align-items: center;background-color: white;padding-right: 0.2em;padding-left: 0.2em;position: relative;}#sk-container-id-4 div.sk-item {position: relative;z-index: 1;}#sk-container-id-4 div.sk-parallel {display: flex;align-items: stretch;justify-content: center;background-color: white;position: relative;}#sk-container-id-4 div.sk-item::before, #sk-container-id-4 div.sk-parallel-item::before {content: \"\";position: absolute;border-left: 1px solid gray;box-sizing: border-box;top: 0;bottom: 0;left: 50%;z-index: -1;}#sk-container-id-4 div.sk-parallel-item {display: flex;flex-direction: column;z-index: 1;position: relative;background-color: white;}#sk-container-id-4 div.sk-parallel-item:first-child::after {align-self: flex-end;width: 50%;}#sk-container-id-4 div.sk-parallel-item:last-child::after {align-self: flex-start;width: 50%;}#sk-container-id-4 div.sk-parallel-item:only-child::after {width: 0;}#sk-container-id-4 div.sk-dashed-wrapped {border: 1px dashed gray;margin: 0 0.4em 0.5em 0.4em;box-sizing: border-box;padding-bottom: 0.4em;background-color: white;}#sk-container-id-4 div.sk-label label {font-family: monospace;font-weight: bold;display: inline-block;line-height: 1.2em;}#sk-container-id-4 div.sk-label-container {text-align: center;}#sk-container-id-4 div.sk-container {/* jupyter's `normalize.less` sets `[hidden] { display: none; }` but bootstrap.min.css set `[hidden] { display: none !important; }` so we also need the `!important` here to be able to override the default hidden behavior on the sphinx rendered scikit-learn.org. See: https://github.com/scikit-learn/scikit-learn/issues/21755 */display: inline-block !important;position: relative;}#sk-container-id-4 div.sk-text-repr-fallback {display: none;}</style><div id=\"sk-container-id-4\" class=\"sk-top-container\"><div class=\"sk-text-repr-fallback\"><pre>GridSearchCV(cv=4,\n",
       "             estimator=Pipeline(steps=[(&#x27;ohe_and_scaling&#x27;,\n",
       "                                        ColumnTransformer(transformers=[(&#x27;scaling&#x27;,\n",
       "                                                                         StandardScaler(),\n",
       "                                                                         Index([&#x27;Articul&#x27;, &#x27;Screen&#x27;, &#x27;Inch&#x27;, &#x27;Main camera&#x27;, &#x27;Second camera&#x27;,\n",
       "       &#x27;Processor rate&#x27;, &#x27;Internal memory&#x27;, &#x27;RAM&#x27;, &#x27;Battery&#x27;, &#x27;eSim&#x27;],\n",
       "      dtype=&#x27;object&#x27;)),\n",
       "                                                                        (&#x27;ohe&#x27;,\n",
       "                                                                         OneHotEncoder(handle_unknown=&#x27;ignore&#x27;),\n",
       "                                                                         [&#x27;Name &#x27;\n",
       "                                                                          &#x27;of &#x27;\n",
       "                                                                          &#x27;brand&#x27;,\n",
       "                                                                          &#x27;Color&#x27;])])),\n",
       "                                       (&#x27;boost&#x27;,\n",
       "                                        XGBRe...\n",
       "                                                     max_delta_step=None,\n",
       "                                                     max_depth=None,\n",
       "                                                     max_leaves=None,\n",
       "                                                     min_child_weight=None,\n",
       "                                                     missing=nan,\n",
       "                                                     monotone_constraints=None,\n",
       "                                                     n_estimators=100,\n",
       "                                                     n_jobs=None,\n",
       "                                                     num_parallel_tree=None,\n",
       "                                                     predictor=None,\n",
       "                                                     random_state=None, ...))]),\n",
       "             param_grid={&#x27;boost__learning_rate&#x27;: [0.1, 0.2, 0.3],\n",
       "                         &#x27;boost__max_depth&#x27;: [3, 4, 5, 6, 10],\n",
       "                         &#x27;boost__n_estimators&#x27;: [100, 200, 300, 1000]},\n",
       "             scoring=&#x27;neg_mean_absolute_error&#x27;)</pre><b>In a Jupyter environment, please rerun this cell to show the HTML representation or trust the notebook. <br />On GitHub, the HTML representation is unable to render, please try loading this page with nbviewer.org.</b></div><div class=\"sk-container\" hidden><div class=\"sk-item sk-dashed-wrapped\"><div class=\"sk-label-container\"><div class=\"sk-label sk-toggleable\"><input class=\"sk-toggleable__control sk-hidden--visually\" id=\"sk-estimator-id-18\" type=\"checkbox\" ><label for=\"sk-estimator-id-18\" class=\"sk-toggleable__label sk-toggleable__label-arrow\">GridSearchCV</label><div class=\"sk-toggleable__content\"><pre>GridSearchCV(cv=4,\n",
       "             estimator=Pipeline(steps=[(&#x27;ohe_and_scaling&#x27;,\n",
       "                                        ColumnTransformer(transformers=[(&#x27;scaling&#x27;,\n",
       "                                                                         StandardScaler(),\n",
       "                                                                         Index([&#x27;Articul&#x27;, &#x27;Screen&#x27;, &#x27;Inch&#x27;, &#x27;Main camera&#x27;, &#x27;Second camera&#x27;,\n",
       "       &#x27;Processor rate&#x27;, &#x27;Internal memory&#x27;, &#x27;RAM&#x27;, &#x27;Battery&#x27;, &#x27;eSim&#x27;],\n",
       "      dtype=&#x27;object&#x27;)),\n",
       "                                                                        (&#x27;ohe&#x27;,\n",
       "                                                                         OneHotEncoder(handle_unknown=&#x27;ignore&#x27;),\n",
       "                                                                         [&#x27;Name &#x27;\n",
       "                                                                          &#x27;of &#x27;\n",
       "                                                                          &#x27;brand&#x27;,\n",
       "                                                                          &#x27;Color&#x27;])])),\n",
       "                                       (&#x27;boost&#x27;,\n",
       "                                        XGBRe...\n",
       "                                                     max_delta_step=None,\n",
       "                                                     max_depth=None,\n",
       "                                                     max_leaves=None,\n",
       "                                                     min_child_weight=None,\n",
       "                                                     missing=nan,\n",
       "                                                     monotone_constraints=None,\n",
       "                                                     n_estimators=100,\n",
       "                                                     n_jobs=None,\n",
       "                                                     num_parallel_tree=None,\n",
       "                                                     predictor=None,\n",
       "                                                     random_state=None, ...))]),\n",
       "             param_grid={&#x27;boost__learning_rate&#x27;: [0.1, 0.2, 0.3],\n",
       "                         &#x27;boost__max_depth&#x27;: [3, 4, 5, 6, 10],\n",
       "                         &#x27;boost__n_estimators&#x27;: [100, 200, 300, 1000]},\n",
       "             scoring=&#x27;neg_mean_absolute_error&#x27;)</pre></div></div></div><div class=\"sk-parallel\"><div class=\"sk-parallel-item\"><div class=\"sk-item\"><div class=\"sk-label-container\"><div class=\"sk-label sk-toggleable\"><input class=\"sk-toggleable__control sk-hidden--visually\" id=\"sk-estimator-id-19\" type=\"checkbox\" ><label for=\"sk-estimator-id-19\" class=\"sk-toggleable__label sk-toggleable__label-arrow\">estimator: Pipeline</label><div class=\"sk-toggleable__content\"><pre>Pipeline(steps=[(&#x27;ohe_and_scaling&#x27;,\n",
       "                 ColumnTransformer(transformers=[(&#x27;scaling&#x27;, StandardScaler(),\n",
       "                                                  Index([&#x27;Articul&#x27;, &#x27;Screen&#x27;, &#x27;Inch&#x27;, &#x27;Main camera&#x27;, &#x27;Second camera&#x27;,\n",
       "       &#x27;Processor rate&#x27;, &#x27;Internal memory&#x27;, &#x27;RAM&#x27;, &#x27;Battery&#x27;, &#x27;eSim&#x27;],\n",
       "      dtype=&#x27;object&#x27;)),\n",
       "                                                 (&#x27;ohe&#x27;,\n",
       "                                                  OneHotEncoder(handle_unknown=&#x27;ignore&#x27;),\n",
       "                                                  [&#x27;Name of brand&#x27;,\n",
       "                                                   &#x27;Color&#x27;])])),\n",
       "                (&#x27;boost&#x27;,\n",
       "                 XGBRegressor(base_score=None, booster=...\n",
       "                              feature_types=None, gamma=None, gpu_id=None,\n",
       "                              grow_policy=None, importance_type=None,\n",
       "                              interaction_constraints=None, learning_rate=None,\n",
       "                              max_bin=None, max_cat_threshold=None,\n",
       "                              max_cat_to_onehot=None, max_delta_step=None,\n",
       "                              max_depth=None, max_leaves=None,\n",
       "                              min_child_weight=None, missing=nan,\n",
       "                              monotone_constraints=None, n_estimators=100,\n",
       "                              n_jobs=None, num_parallel_tree=None,\n",
       "                              predictor=None, random_state=None, ...))])</pre></div></div></div><div class=\"sk-serial\"><div class=\"sk-item\"><div class=\"sk-serial\"><div class=\"sk-item sk-dashed-wrapped\"><div class=\"sk-label-container\"><div class=\"sk-label sk-toggleable\"><input class=\"sk-toggleable__control sk-hidden--visually\" id=\"sk-estimator-id-20\" type=\"checkbox\" ><label for=\"sk-estimator-id-20\" class=\"sk-toggleable__label sk-toggleable__label-arrow\">ohe_and_scaling: ColumnTransformer</label><div class=\"sk-toggleable__content\"><pre>ColumnTransformer(transformers=[(&#x27;scaling&#x27;, StandardScaler(),\n",
       "                                 Index([&#x27;Articul&#x27;, &#x27;Screen&#x27;, &#x27;Inch&#x27;, &#x27;Main camera&#x27;, &#x27;Second camera&#x27;,\n",
       "       &#x27;Processor rate&#x27;, &#x27;Internal memory&#x27;, &#x27;RAM&#x27;, &#x27;Battery&#x27;, &#x27;eSim&#x27;],\n",
       "      dtype=&#x27;object&#x27;)),\n",
       "                                (&#x27;ohe&#x27;, OneHotEncoder(handle_unknown=&#x27;ignore&#x27;),\n",
       "                                 [&#x27;Name of brand&#x27;, &#x27;Color&#x27;])])</pre></div></div></div><div class=\"sk-parallel\"><div class=\"sk-parallel-item\"><div class=\"sk-item\"><div class=\"sk-label-container\"><div class=\"sk-label sk-toggleable\"><input class=\"sk-toggleable__control sk-hidden--visually\" id=\"sk-estimator-id-21\" type=\"checkbox\" ><label for=\"sk-estimator-id-21\" class=\"sk-toggleable__label sk-toggleable__label-arrow\">scaling</label><div class=\"sk-toggleable__content\"><pre>Index([&#x27;Articul&#x27;, &#x27;Screen&#x27;, &#x27;Inch&#x27;, &#x27;Main camera&#x27;, &#x27;Second camera&#x27;,\n",
       "       &#x27;Processor rate&#x27;, &#x27;Internal memory&#x27;, &#x27;RAM&#x27;, &#x27;Battery&#x27;, &#x27;eSim&#x27;],\n",
       "      dtype=&#x27;object&#x27;)</pre></div></div></div><div class=\"sk-serial\"><div class=\"sk-item\"><div class=\"sk-estimator sk-toggleable\"><input class=\"sk-toggleable__control sk-hidden--visually\" id=\"sk-estimator-id-22\" type=\"checkbox\" ><label for=\"sk-estimator-id-22\" class=\"sk-toggleable__label sk-toggleable__label-arrow\">StandardScaler</label><div class=\"sk-toggleable__content\"><pre>StandardScaler()</pre></div></div></div></div></div></div><div class=\"sk-parallel-item\"><div class=\"sk-item\"><div class=\"sk-label-container\"><div class=\"sk-label sk-toggleable\"><input class=\"sk-toggleable__control sk-hidden--visually\" id=\"sk-estimator-id-23\" type=\"checkbox\" ><label for=\"sk-estimator-id-23\" class=\"sk-toggleable__label sk-toggleable__label-arrow\">ohe</label><div class=\"sk-toggleable__content\"><pre>[&#x27;Name of brand&#x27;, &#x27;Color&#x27;]</pre></div></div></div><div class=\"sk-serial\"><div class=\"sk-item\"><div class=\"sk-estimator sk-toggleable\"><input class=\"sk-toggleable__control sk-hidden--visually\" id=\"sk-estimator-id-24\" type=\"checkbox\" ><label for=\"sk-estimator-id-24\" class=\"sk-toggleable__label sk-toggleable__label-arrow\">OneHotEncoder</label><div class=\"sk-toggleable__content\"><pre>OneHotEncoder(handle_unknown=&#x27;ignore&#x27;)</pre></div></div></div></div></div></div></div></div><div class=\"sk-item\"><div class=\"sk-estimator sk-toggleable\"><input class=\"sk-toggleable__control sk-hidden--visually\" id=\"sk-estimator-id-25\" type=\"checkbox\" ><label for=\"sk-estimator-id-25\" class=\"sk-toggleable__label sk-toggleable__label-arrow\">XGBRegressor</label><div class=\"sk-toggleable__content\"><pre>XGBRegressor(base_score=None, booster=None, callbacks=None,\n",
       "             colsample_bylevel=None, colsample_bynode=None,\n",
       "             colsample_bytree=None, early_stopping_rounds=None,\n",
       "             enable_categorical=False, eval_metric=None, feature_types=None,\n",
       "             gamma=None, gpu_id=None, grow_policy=None, importance_type=None,\n",
       "             interaction_constraints=None, learning_rate=None, max_bin=None,\n",
       "             max_cat_threshold=None, max_cat_to_onehot=None,\n",
       "             max_delta_step=None, max_depth=None, max_leaves=None,\n",
       "             min_child_weight=None, missing=nan, monotone_constraints=None,\n",
       "             n_estimators=100, n_jobs=None, num_parallel_tree=None,\n",
       "             predictor=None, random_state=None, ...)</pre></div></div></div></div></div></div></div></div></div></div></div></div>"
      ],
      "text/plain": [
       "GridSearchCV(cv=4,\n",
       "             estimator=Pipeline(steps=[('ohe_and_scaling',\n",
       "                                        ColumnTransformer(transformers=[('scaling',\n",
       "                                                                         StandardScaler(),\n",
       "                                                                         Index(['Articul', 'Screen', 'Inch', 'Main camera', 'Second camera',\n",
       "       'Processor rate', 'Internal memory', 'RAM', 'Battery', 'eSim'],\n",
       "      dtype='object')),\n",
       "                                                                        ('ohe',\n",
       "                                                                         OneHotEncoder(handle_unknown='ignore'),\n",
       "                                                                         ['Name '\n",
       "                                                                          'of '\n",
       "                                                                          'brand',\n",
       "                                                                          'Color'])])),\n",
       "                                       ('boost',\n",
       "                                        XGBRe...\n",
       "                                                     max_delta_step=None,\n",
       "                                                     max_depth=None,\n",
       "                                                     max_leaves=None,\n",
       "                                                     min_child_weight=None,\n",
       "                                                     missing=nan,\n",
       "                                                     monotone_constraints=None,\n",
       "                                                     n_estimators=100,\n",
       "                                                     n_jobs=None,\n",
       "                                                     num_parallel_tree=None,\n",
       "                                                     predictor=None,\n",
       "                                                     random_state=None, ...))]),\n",
       "             param_grid={'boost__learning_rate': [0.1, 0.2, 0.3],\n",
       "                         'boost__max_depth': [3, 4, 5, 6, 10],\n",
       "                         'boost__n_estimators': [100, 200, 300, 1000]},\n",
       "             scoring='neg_mean_absolute_error')"
      ]
     },
     "execution_count": 1043,
     "metadata": {},
     "output_type": "execute_result"
    }
   ],
   "source": [
    "grid_search = GridSearchCV(boost_pipeline, param_grid, cv=4, scoring='neg_mean_absolute_error')\n",
    "grid_search.fit(X_train, y_train)"
   ]
  },
  {
   "cell_type": "code",
   "execution_count": 1044,
   "id": "eaf0d6c6",
   "metadata": {},
   "outputs": [
    {
     "data": {
      "text/plain": [
       "{'boost__learning_rate': 0.3,\n",
       " 'boost__max_depth': 3,\n",
       " 'boost__n_estimators': 1000}"
      ]
     },
     "execution_count": 1044,
     "metadata": {},
     "output_type": "execute_result"
    }
   ],
   "source": [
    "best = grid_search.best_params_\n",
    "best"
   ]
  },
  {
   "cell_type": "code",
   "execution_count": 1045,
   "id": "80b0e085",
   "metadata": {},
   "outputs": [],
   "source": [
    "y_pred_boost_params = grid_search.predict(X_test)\n",
    "y_pred_train_boost_params = grid_search.predict(X_train)"
   ]
  },
  {
   "cell_type": "code",
   "execution_count": 1046,
   "id": "31e396a9",
   "metadata": {},
   "outputs": [
    {
     "name": "stdout",
     "output_type": "stream",
     "text": [
      "MAE на тестовой выборке = 1810.7445044187036\n",
      "MAE на обучающей выборке = 21.888258486764308\n"
     ]
    }
   ],
   "source": [
    "print(f'MAE на тестовой выборке = {mean_absolute_error(y_test, y_pred_boost_params)}')\n",
    "print(f'MAE на обучающей выборке = {mean_absolute_error(y_train, y_pred_train_boost_params)}')"
   ]
  },
  {
   "cell_type": "code",
   "execution_count": 1047,
   "id": "dae356c6",
   "metadata": {},
   "outputs": [
    {
     "name": "stdout",
     "output_type": "stream",
     "text": [
      "R2 на тестовой выборке = 0.9274394011673006\n",
      "R2 на обучающей выборке = 0.9999972308584238\n"
     ]
    }
   ],
   "source": [
    "print(f'R2 на тестовой выборке = {r2_score(y_test, y_pred_boost_params)}')\n",
    "print(f'R2 на обучающей выборке = {r2_score(y_train, y_pred_train_boost_params)}')"
   ]
  },
  {
   "cell_type": "markdown",
   "id": "0007ec60",
   "metadata": {},
   "source": [
    "Таким образом, нам удалось обучить модель таким образом, что значение R2 очень близко к единице. Также и MAE значительно снизилась относительно самой первой модели. "
   ]
  }
 ],
 "metadata": {
  "kernelspec": {
   "display_name": "Python 3 (ipykernel)",
   "language": "python",
   "name": "python3"
  },
  "language_info": {
   "codemirror_mode": {
    "name": "ipython",
    "version": 3
   },
   "file_extension": ".py",
   "mimetype": "text/x-python",
   "name": "python",
   "nbconvert_exporter": "python",
   "pygments_lexer": "ipython3",
   "version": "3.9.7"
  }
 },
 "nbformat": 4,
 "nbformat_minor": 5
}
