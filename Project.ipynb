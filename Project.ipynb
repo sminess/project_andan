{
 "cells": [
  {
   "cell_type": "code",
   "execution_count": 1,
   "id": "834e5359",
   "metadata": {},
   "outputs": [],
   "source": [
    "import requests\n",
    "from bs4 import BeautifulSoup\n",
    "\n",
    "import matplotlib.pyplot as plt"
   ]
  },
  {
   "cell_type": "code",
   "execution_count": 2,
   "id": "a07f4ad7",
   "metadata": {},
   "outputs": [
    {
     "name": "stdout",
     "output_type": "stream",
     "text": [
      "<Response [200]>\n"
     ]
    }
   ],
   "source": [
    "url = 'https://quke.ru/shop/smartfony?pfrom=379&pto=148490&availability=instock&page-size=72'\n",
    "response = requests.get(url)\n",
    "print(response)"
   ]
  },
  {
   "cell_type": "code",
   "execution_count": 105,
   "id": "ddeb8f2a",
   "metadata": {},
   "outputs": [],
   "source": [
    "bs = BeautifulSoup(response.text)"
   ]
  },
  {
   "cell_type": "code",
   "execution_count": 4,
   "id": "b88adba1",
   "metadata": {},
   "outputs": [],
   "source": [
    "url = 'https://quke.ru/shop/smartfony?pfrom=379&pto=148490&availability=instock&page-size=72'\n",
    "max_pages = 11\n",
    "\n",
    "price_list = []\n",
    "\n",
    "for p in range(max_pages):\n",
    "    cur_url = url + '&page=' + str(p + 1)\n",
    "    html_text = requests.get(cur_url).text\n",
    "    soup = BeautifulSoup(html_text, 'lxml')\n",
    "    p = soup.find_all('span', 'b-card2-v2__price-val') \n",
    "    for i in p:\n",
    "        price = i.text\n",
    "        if len(price.split()) != 1:\n",
    "            price_list.append(int(str(price.split()[0]) + str(price.split()[1])))\n",
    "        else:\n",
    "            price_list.append(int(price))\n",
    "        \n",
    "names_list = []\n",
    "\n",
    "for n in range(max_pages):\n",
    "    cur_url = url + '&page=' + str(n + 1)\n",
    "    html_text = requests.get(cur_url).text\n",
    "    soup = BeautifulSoup(html_text, 'lxml')\n",
    "    n = soup.find_all('a', 'b-card2-v2__name') \n",
    "    for i in n:\n",
    "        name = i.text\n",
    "        names_list.append(name)\n",
    "        \n",
    "articul_list = []\n",
    "\n",
    "for x in range(max_pages):\n",
    "    cur_url = url + '&page=' + str(x + 1)\n",
    "    html_text = requests.get(cur_url).text\n",
    "    soup = BeautifulSoup(html_text, 'lxml')\n",
    "    x = soup.find_all('div', 'b-card2-v2__artnumber') \n",
    "    for i in x:\n",
    "        articul = i.text\n",
    "        articul_list.append(int(articul.split(':')[1]))\n",
    "        \n",
    "screen = []\n",
    "\n",
    "for info in range(max_pages):\n",
    "    cur_url = url + '&page=' + str(info + 1)\n",
    "    html_text = requests.get(cur_url).text\n",
    "    soup = BeautifulSoup(html_text, 'lxml')\n",
    "    info = soup.find_all('div', 'b-card2-v2') \n",
    "    for i in info:\n",
    "        info_for_one = i.find_all('span', 'value')\n",
    "        screen.append(info_for_one[0].text.split(',')[0])\n",
    "\n",
    "inch = []\n",
    "\n",
    "for i in range(max_pages):\n",
    "    cur_url = url + '&page=' + str(i + 1)\n",
    "    html_text = requests.get(cur_url).text\n",
    "    soup = BeautifulSoup(html_text, 'lxml')\n",
    "    i = soup.find_all('div', 'b-card2-v2') \n",
    "    for j in i:\n",
    "        inch_for_one = j.find_all('span', 'value')\n",
    "        if len(inch_for_one[0].text.split(',')) == 1:\n",
    "            inch.append(None)\n",
    "        else:\n",
    "            if float(inch_for_one[0].text.split(',')[1].split()[0]) > 10:\n",
    "                inch.append(None)\n",
    "            else:\n",
    "                inch.append(float(inch_for_one[0].text.split(',')[1].split()[0]))\n",
    "\n",
    "main_camera = []\n",
    "second_camera = []\n",
    "\n",
    "for i in range(max_pages):\n",
    "    cur_url = url + '&page=' + str(i + 1)\n",
    "    html_text = requests.get(cur_url).text\n",
    "    soup = BeautifulSoup(html_text, 'lxml')\n",
    "    i = soup.find_all('div', 'b-card2-v2') \n",
    "    for j in i:\n",
    "        main_camera_for_one = j.find_all('span', 'value')\n",
    "        photo = main_camera_for_one[1].text.split()\n",
    "        if len(photo) == 1:\n",
    "            main_camera.append(None)\n",
    "        elif photo[1] == 'Мп' or photo[1] == 'Мп,':\n",
    "            main_camera.append(float(photo[0]))\n",
    "        elif photo[1] == 'мАч':\n",
    "            main_camera.append(None)\n",
    "        else:\n",
    "            main_camera.append(float(photo[0]))\n",
    "        if len(photo) == 6:\n",
    "            second_camera.append(float(photo[4]))\n",
    "        else:\n",
    "            second_camera.append(None)\n",
    "            \n",
    "processor_name = []\n",
    "processor_rate = []\n",
    "\n",
    "for i in range(max_pages):\n",
    "    cur_url = url + '&page=' + str(i + 1)\n",
    "    html_text = requests.get(cur_url).text\n",
    "    soup = BeautifulSoup(html_text, 'lxml')\n",
    "    i = soup.find_all('div', 'b-card2-v2') \n",
    "    for j in i:\n",
    "        proc = j.find_all('span', 'value')\n",
    "        if len(proc) >=4:\n",
    "            if len(proc[3].text.split()) != 1:\n",
    "                if len(proc[3].text.split(', ')) != 1:\n",
    "                    processor_name.append(proc[3].text.split(', ')[0])\n",
    "                    processor_rate.append(float(proc[3].text.split(', ')[1].split()[0]))\n",
    "                else:\n",
    "                    processor_name.append(None)\n",
    "                    processor_rate.append(None)\n",
    "            else:\n",
    "                processor_name.append(None)\n",
    "                processor_rate.append(None)\n",
    "        else:\n",
    "            processor_name.append(None)\n",
    "            processor_rate.append(None)\n",
    "\n",
    "internal_memory = []\n",
    "ram = []\n",
    "\n",
    "for i in range(max_pages):\n",
    "    cur_url = url + '&page=' + str(i + 1)\n",
    "    html_text = requests.get(cur_url).text\n",
    "    soup = BeautifulSoup(html_text, 'lxml')\n",
    "    i = soup.find_all('div', 'b-card2-v2') \n",
    "    for j in i:\n",
    "        memory = j.find_all('span', 'value')\n",
    "        if len(memory) > 3:\n",
    "            if len(memory[2].text) != 1:\n",
    "                if '/' in memory[2].text:\n",
    "                    memory = memory[2].text.split('/')\n",
    "                    internal_memory.append(float(memory[0].split()[0]))\n",
    "                    ram.append(float(memory[1].split()[0]))\n",
    "                else:\n",
    "                    if 'ГБ' in memory[2].text:\n",
    "                        internal_memory.append(float(memory[2].text.split()[0]))\n",
    "                        ram.append(None)\n",
    "                    else:\n",
    "                        internal_memory.append(None)\n",
    "                        ram.append(None)\n",
    "            else:\n",
    "                internal_memory.append(None)\n",
    "                ram.append(None)\n",
    "        else:\n",
    "            internal_memory.append(None)\n",
    "            ram.append(None)\n",
    "\n",
    "battery = []\n",
    "\n",
    "for i in range(max_pages):\n",
    "    cur_url = url + '&page=' + str(i + 1)\n",
    "    html_text = requests.get(cur_url).text\n",
    "    soup = BeautifulSoup(html_text, 'lxml')\n",
    "    i = soup.find_all('div', 'b-card2-v2') \n",
    "    for j in i:\n",
    "        bat = j.find_all('span', 'value')\n",
    "        if len(bat) > 4:\n",
    "            battery.append(int(bat[4].text.split()[0]))\n",
    "        else:\n",
    "            battery.append(None)"
   ]
  },
  {
   "cell_type": "code",
   "execution_count": 5,
   "id": "3b2cc74c",
   "metadata": {},
   "outputs": [],
   "source": [
    "import pandas as pd\n",
    "df = pd.DataFrame({'Name':names_list,\n",
    "             'Price': price_list,\n",
    "             'Articul': articul_list,\n",
    "              'Screen': screen, \n",
    "              'Inch': inch, \n",
    "              'Main camera': main_camera,\n",
    "              'Second camera': second_camera,\n",
    "              'Processor name': processor_name, \n",
    "              'Processor rate': processor_rate, \n",
    "              'Internal memory': internal_memory,\n",
    "              'RAM': ram, \n",
    "              'Battery': battery\n",
    "             })"
   ]
  },
  {
   "cell_type": "code",
   "execution_count": 6,
   "id": "a62d9da6",
   "metadata": {},
   "outputs": [
    {
     "data": {
      "text/html": [
       "<div>\n",
       "<style scoped>\n",
       "    .dataframe tbody tr th:only-of-type {\n",
       "        vertical-align: middle;\n",
       "    }\n",
       "\n",
       "    .dataframe tbody tr th {\n",
       "        vertical-align: top;\n",
       "    }\n",
       "\n",
       "    .dataframe thead th {\n",
       "        text-align: right;\n",
       "    }\n",
       "</style>\n",
       "<table border=\"1\" class=\"dataframe\">\n",
       "  <thead>\n",
       "    <tr style=\"text-align: right;\">\n",
       "      <th></th>\n",
       "      <th>Name</th>\n",
       "      <th>Price</th>\n",
       "      <th>Articul</th>\n",
       "      <th>Screen</th>\n",
       "      <th>Inch</th>\n",
       "      <th>Main camera</th>\n",
       "      <th>Second camera</th>\n",
       "      <th>Processor name</th>\n",
       "      <th>Processor rate</th>\n",
       "      <th>Internal memory</th>\n",
       "      <th>RAM</th>\n",
       "      <th>Battery</th>\n",
       "    </tr>\n",
       "  </thead>\n",
       "  <tbody>\n",
       "    <tr>\n",
       "      <th>0</th>\n",
       "      <td>Realme 10 8 128Gb Black</td>\n",
       "      <td>16590</td>\n",
       "      <td>118653</td>\n",
       "      <td>2400x1080</td>\n",
       "      <td>6.40</td>\n",
       "      <td>50.0</td>\n",
       "      <td>16.0</td>\n",
       "      <td>Helio G99</td>\n",
       "      <td>2.20</td>\n",
       "      <td>128.0</td>\n",
       "      <td>8.0</td>\n",
       "      <td>5000.0</td>\n",
       "    </tr>\n",
       "    <tr>\n",
       "      <th>1</th>\n",
       "      <td>Apple iPhone 14 Pro Max 256Gb nanoSim + eSim ...</td>\n",
       "      <td>112990</td>\n",
       "      <td>116596</td>\n",
       "      <td>2796x1290</td>\n",
       "      <td>6.70</td>\n",
       "      <td>48.0</td>\n",
       "      <td>12.0</td>\n",
       "      <td>A16 Bionic</td>\n",
       "      <td>3.46</td>\n",
       "      <td>256.0</td>\n",
       "      <td>6.0</td>\n",
       "      <td>4323.0</td>\n",
       "    </tr>\n",
       "    <tr>\n",
       "      <th>2</th>\n",
       "      <td>Apple iPhone 14 Pro Max 256Gb nanoSim + eSim ...</td>\n",
       "      <td>108990</td>\n",
       "      <td>116609</td>\n",
       "      <td>2796x1290</td>\n",
       "      <td>6.70</td>\n",
       "      <td>48.0</td>\n",
       "      <td>12.0</td>\n",
       "      <td>A16 Bionic</td>\n",
       "      <td>3.46</td>\n",
       "      <td>256.0</td>\n",
       "      <td>6.0</td>\n",
       "      <td>4323.0</td>\n",
       "    </tr>\n",
       "    <tr>\n",
       "      <th>3</th>\n",
       "      <td>Realme 10 8 128Gb White</td>\n",
       "      <td>16590</td>\n",
       "      <td>118650</td>\n",
       "      <td>2400x1080</td>\n",
       "      <td>6.40</td>\n",
       "      <td>50.0</td>\n",
       "      <td>16.0</td>\n",
       "      <td>Helio G99</td>\n",
       "      <td>2.20</td>\n",
       "      <td>128.0</td>\n",
       "      <td>8.0</td>\n",
       "      <td>5000.0</td>\n",
       "    </tr>\n",
       "    <tr>\n",
       "      <th>4</th>\n",
       "      <td>Xiaomi Redmi Note 11 NFC 4 64Gb RU Star Blue</td>\n",
       "      <td>11450</td>\n",
       "      <td>111788</td>\n",
       "      <td>2400x1080</td>\n",
       "      <td>6.43</td>\n",
       "      <td>50.0</td>\n",
       "      <td>13.0</td>\n",
       "      <td>Snapdragon 680 4G</td>\n",
       "      <td>2.40</td>\n",
       "      <td>64.0</td>\n",
       "      <td>4.0</td>\n",
       "      <td>5000.0</td>\n",
       "    </tr>\n",
       "    <tr>\n",
       "      <th>...</th>\n",
       "      <td>...</td>\n",
       "      <td>...</td>\n",
       "      <td>...</td>\n",
       "      <td>...</td>\n",
       "      <td>...</td>\n",
       "      <td>...</td>\n",
       "      <td>...</td>\n",
       "      <td>...</td>\n",
       "      <td>...</td>\n",
       "      <td>...</td>\n",
       "      <td>...</td>\n",
       "      <td>...</td>\n",
       "    </tr>\n",
       "    <tr>\n",
       "      <th>653</th>\n",
       "      <td>Xiaomi Redmi Note 12 Pro 5G 8 128Gb EU Blue</td>\n",
       "      <td>28990</td>\n",
       "      <td>118995</td>\n",
       "      <td>2400x1080</td>\n",
       "      <td>6.67</td>\n",
       "      <td>50.0</td>\n",
       "      <td>16.0</td>\n",
       "      <td>Dimensity 1080</td>\n",
       "      <td>2.60</td>\n",
       "      <td>128.0</td>\n",
       "      <td>8.0</td>\n",
       "      <td>5000.0</td>\n",
       "    </tr>\n",
       "    <tr>\n",
       "      <th>654</th>\n",
       "      <td>Xiaomi Redmi Note 12 Pro 5G 8 256Gb EU Pink</td>\n",
       "      <td>39990</td>\n",
       "      <td>119001</td>\n",
       "      <td>2400x1080</td>\n",
       "      <td>6.67</td>\n",
       "      <td>50.0</td>\n",
       "      <td>16.0</td>\n",
       "      <td>Dimensity 1080</td>\n",
       "      <td>2.60</td>\n",
       "      <td>256.0</td>\n",
       "      <td>8.0</td>\n",
       "      <td>5000.0</td>\n",
       "    </tr>\n",
       "    <tr>\n",
       "      <th>655</th>\n",
       "      <td>Samsung Galaxy A24 4G 6 128Gb Global Amazing ...</td>\n",
       "      <td>20990</td>\n",
       "      <td>126874</td>\n",
       "      <td>2408x1080</td>\n",
       "      <td>6.50</td>\n",
       "      <td>50.0</td>\n",
       "      <td>13.0</td>\n",
       "      <td>Helio G99</td>\n",
       "      <td>2.20</td>\n",
       "      <td>128.0</td>\n",
       "      <td>6.0</td>\n",
       "      <td>5000.0</td>\n",
       "    </tr>\n",
       "    <tr>\n",
       "      <th>656</th>\n",
       "      <td>Xiaomi Redmi Note 12 Pro 5G 6 128Gb EU White</td>\n",
       "      <td>26990</td>\n",
       "      <td>118991</td>\n",
       "      <td>2400x1080</td>\n",
       "      <td>6.67</td>\n",
       "      <td>50.0</td>\n",
       "      <td>16.0</td>\n",
       "      <td>Dimensity 1080</td>\n",
       "      <td>2.60</td>\n",
       "      <td>128.0</td>\n",
       "      <td>6.0</td>\n",
       "      <td>5000.0</td>\n",
       "    </tr>\n",
       "    <tr>\n",
       "      <th>657</th>\n",
       "      <td>Xiaomi Redmi Note 12 Pro 5G 8 128Gb EU Pink</td>\n",
       "      <td>28990</td>\n",
       "      <td>118994</td>\n",
       "      <td>2400x1080</td>\n",
       "      <td>6.67</td>\n",
       "      <td>50.0</td>\n",
       "      <td>16.0</td>\n",
       "      <td>Dimensity 1080</td>\n",
       "      <td>2.60</td>\n",
       "      <td>128.0</td>\n",
       "      <td>8.0</td>\n",
       "      <td>5000.0</td>\n",
       "    </tr>\n",
       "  </tbody>\n",
       "</table>\n",
       "<p>658 rows × 12 columns</p>\n",
       "</div>"
      ],
      "text/plain": [
       "                                                  Name   Price  Articul  \\\n",
       "0                              Realme 10 8 128Gb Black   16590   118653   \n",
       "1     Apple iPhone 14 Pro Max 256Gb nanoSim + eSim ...  112990   116596   \n",
       "2     Apple iPhone 14 Pro Max 256Gb nanoSim + eSim ...  108990   116609   \n",
       "3                              Realme 10 8 128Gb White   16590   118650   \n",
       "4         Xiaomi Redmi Note 11 NFC 4 64Gb RU Star Blue   11450   111788   \n",
       "..                                                 ...     ...      ...   \n",
       "653        Xiaomi Redmi Note 12 Pro 5G 8 128Gb EU Blue   28990   118995   \n",
       "654        Xiaomi Redmi Note 12 Pro 5G 8 256Gb EU Pink   39990   119001   \n",
       "655   Samsung Galaxy A24 4G 6 128Gb Global Amazing ...   20990   126874   \n",
       "656       Xiaomi Redmi Note 12 Pro 5G 6 128Gb EU White   26990   118991   \n",
       "657        Xiaomi Redmi Note 12 Pro 5G 8 128Gb EU Pink   28990   118994   \n",
       "\n",
       "        Screen  Inch  Main camera  Second camera     Processor name  \\\n",
       "0    2400x1080  6.40         50.0           16.0          Helio G99   \n",
       "1    2796x1290  6.70         48.0           12.0         A16 Bionic   \n",
       "2    2796x1290  6.70         48.0           12.0         A16 Bionic   \n",
       "3    2400x1080  6.40         50.0           16.0          Helio G99   \n",
       "4    2400x1080  6.43         50.0           13.0  Snapdragon 680 4G   \n",
       "..         ...   ...          ...            ...                ...   \n",
       "653  2400x1080  6.67         50.0           16.0     Dimensity 1080   \n",
       "654  2400x1080  6.67         50.0           16.0     Dimensity 1080   \n",
       "655  2408x1080  6.50         50.0           13.0          Helio G99   \n",
       "656  2400x1080  6.67         50.0           16.0     Dimensity 1080   \n",
       "657  2400x1080  6.67         50.0           16.0     Dimensity 1080   \n",
       "\n",
       "     Processor rate  Internal memory  RAM  Battery  \n",
       "0              2.20            128.0  8.0   5000.0  \n",
       "1              3.46            256.0  6.0   4323.0  \n",
       "2              3.46            256.0  6.0   4323.0  \n",
       "3              2.20            128.0  8.0   5000.0  \n",
       "4              2.40             64.0  4.0   5000.0  \n",
       "..              ...              ...  ...      ...  \n",
       "653            2.60            128.0  8.0   5000.0  \n",
       "654            2.60            256.0  8.0   5000.0  \n",
       "655            2.20            128.0  6.0   5000.0  \n",
       "656            2.60            128.0  6.0   5000.0  \n",
       "657            2.60            128.0  8.0   5000.0  \n",
       "\n",
       "[658 rows x 12 columns]"
      ]
     },
     "execution_count": 6,
     "metadata": {},
     "output_type": "execute_result"
    }
   ],
   "source": [
    "df"
   ]
  },
  {
   "cell_type": "code",
   "execution_count": 7,
   "id": "858f1f9d",
   "metadata": {},
   "outputs": [],
   "source": [
    "df.to_csv('project_data')"
   ]
  },
  {
   "cell_type": "markdown",
   "id": "bb59e5e1",
   "metadata": {},
   "source": [
    "Описание перменных:"
   ]
  },
  {
   "cell_type": "markdown",
   "id": "efc56919",
   "metadata": {},
   "source": [
    "- Name - полное название телефона\n",
    "- Price - цена \n",
    "- Articul - артикул на сайте\n",
    "- Screen - разрешение экрана\n",
    "- Inch - диагональ смартфона (в дюймах)\n",
    "- Main camera - основная камера(в мп)\n",
    "- Second camera - фронтальная камера (в мп)\n",
    "- Processor name - модель процессора\n",
    "- Processor rate - частота процессора (в ГГц)\n",
    "- Internal memory - встроенная память (в ГБ)\n",
    "- RAM - оперативная память (в ГБ)\n",
    "- Battery - характеристика аккумулятора"
   ]
  },
  {
   "cell_type": "markdown",
   "id": "4522542b",
   "metadata": {},
   "source": [
    "Необходимо обработать разрешение экрана, чтобы сделать его числовым. "
   ]
  },
  {
   "cell_type": "code",
   "execution_count": 8,
   "id": "63ed8baa",
   "metadata": {},
   "outputs": [],
   "source": [
    "a = 0\n",
    "for i in df['Screen']:\n",
    "    if 'дюйм' in i:\n",
    "        df = df.replace(i, None)\n",
    "    else:\n",
    "        if 'x' in i:\n",
    "            a = i.split('x')\n",
    "        else:\n",
    "            a = i.split('х')\n",
    "        df = df.replace(i, int(a[1]))"
   ]
  },
  {
   "cell_type": "markdown",
   "id": "7a8ac14c",
   "metadata": {},
   "source": [
    "Займемся обработкой пропусков."
   ]
  },
  {
   "cell_type": "code",
   "execution_count": 9,
   "id": "bbc33e4a",
   "metadata": {},
   "outputs": [
    {
     "data": {
      "text/plain": [
       "Name                0\n",
       "Price               0\n",
       "Articul             0\n",
       "Screen              5\n",
       "Inch                5\n",
       "Main camera        20\n",
       "Second camera      70\n",
       "Processor name     82\n",
       "Processor rate     82\n",
       "Internal memory    61\n",
       "RAM                65\n",
       "Battery            95\n",
       "dtype: int64"
      ]
     },
     "execution_count": 9,
     "metadata": {},
     "output_type": "execute_result"
    }
   ],
   "source": [
    "df.isnull().sum()"
   ]
  },
  {
   "cell_type": "markdown",
   "id": "44753198",
   "metadata": {},
   "source": [
    "Заполним None значения. Я буду заполнять их модой по каждому столбцу соответственно, так как использовать среднее в данном случае будет не лучшим вариантом, ведь переменные могут принимать только конкретные значения. Подсчет среднего может привести к тому, что средним значением будет, например, RAM=7,25, однако данный показатель не может принимать дробное значение. "
   ]
  },
  {
   "cell_type": "code",
   "execution_count": 10,
   "id": "4cafe661",
   "metadata": {},
   "outputs": [
    {
     "name": "stderr",
     "output_type": "stream",
     "text": [
      "/var/folders/db/n7ph30_n6793fmm710rhb95m0000gn/T/ipykernel_49137/2915442042.py:1: SettingWithCopyWarning: \n",
      "A value is trying to be set on a copy of a slice from a DataFrame\n",
      "\n",
      "See the caveats in the documentation: https://pandas.pydata.org/pandas-docs/stable/user_guide/indexing.html#returning-a-view-versus-a-copy\n",
      "  df['Screen'][df['Screen'].isnull()] = df['Screen'].mode()[0]  # заполняем пропуски в столбце \"Screen\"\n",
      "/var/folders/db/n7ph30_n6793fmm710rhb95m0000gn/T/ipykernel_49137/2915442042.py:2: SettingWithCopyWarning: \n",
      "A value is trying to be set on a copy of a slice from a DataFrame\n",
      "\n",
      "See the caveats in the documentation: https://pandas.pydata.org/pandas-docs/stable/user_guide/indexing.html#returning-a-view-versus-a-copy\n",
      "  df['Inch'][df['Inch'].isnull()] = df['Inch'].mode()[0]  # заполняем пропуски в столбце \"Inch\"\n",
      "/var/folders/db/n7ph30_n6793fmm710rhb95m0000gn/T/ipykernel_49137/2915442042.py:3: SettingWithCopyWarning: \n",
      "A value is trying to be set on a copy of a slice from a DataFrame\n",
      "\n",
      "See the caveats in the documentation: https://pandas.pydata.org/pandas-docs/stable/user_guide/indexing.html#returning-a-view-versus-a-copy\n",
      "  df['Main camera'][df['Main camera'].isnull()] = df['Main camera'].mode()[0]  # заполняем пропуски в столбце \"Main camera\"\n",
      "/var/folders/db/n7ph30_n6793fmm710rhb95m0000gn/T/ipykernel_49137/2915442042.py:4: SettingWithCopyWarning: \n",
      "A value is trying to be set on a copy of a slice from a DataFrame\n",
      "\n",
      "See the caveats in the documentation: https://pandas.pydata.org/pandas-docs/stable/user_guide/indexing.html#returning-a-view-versus-a-copy\n",
      "  df['Second camera'][df['Second camera'].isnull()] = df['Second camera'].mode()[0]  # заполняем пропуски в столбце \"Second camera\"\n",
      "/var/folders/db/n7ph30_n6793fmm710rhb95m0000gn/T/ipykernel_49137/2915442042.py:5: SettingWithCopyWarning: \n",
      "A value is trying to be set on a copy of a slice from a DataFrame\n",
      "\n",
      "See the caveats in the documentation: https://pandas.pydata.org/pandas-docs/stable/user_guide/indexing.html#returning-a-view-versus-a-copy\n",
      "  df['Processor name'][df['Processor name'].isnull()] = df['Processor name'].mode()[0]  # заполняем пропуски в столбце \"Processor name\"\n",
      "/var/folders/db/n7ph30_n6793fmm710rhb95m0000gn/T/ipykernel_49137/2915442042.py:6: SettingWithCopyWarning: \n",
      "A value is trying to be set on a copy of a slice from a DataFrame\n",
      "\n",
      "See the caveats in the documentation: https://pandas.pydata.org/pandas-docs/stable/user_guide/indexing.html#returning-a-view-versus-a-copy\n",
      "  df['Processor rate'][df['Processor rate'].isnull()] = df['Processor rate'].mode()[0]  # заполняем пропуски в столбце \"Processor rate\"\n",
      "/var/folders/db/n7ph30_n6793fmm710rhb95m0000gn/T/ipykernel_49137/2915442042.py:7: SettingWithCopyWarning: \n",
      "A value is trying to be set on a copy of a slice from a DataFrame\n",
      "\n",
      "See the caveats in the documentation: https://pandas.pydata.org/pandas-docs/stable/user_guide/indexing.html#returning-a-view-versus-a-copy\n",
      "  df['Internal memory'][df['Internal memory'].isnull()] = df['Internal memory'].mode()[0]  # заполняем пропуски в столбце \"Internal memory\"\n",
      "/var/folders/db/n7ph30_n6793fmm710rhb95m0000gn/T/ipykernel_49137/2915442042.py:8: SettingWithCopyWarning: \n",
      "A value is trying to be set on a copy of a slice from a DataFrame\n",
      "\n",
      "See the caveats in the documentation: https://pandas.pydata.org/pandas-docs/stable/user_guide/indexing.html#returning-a-view-versus-a-copy\n",
      "  df['RAM'][df['RAM'].isnull()] = df['RAM'].mode()[0]  # заполняем пропуски в столбце \"RAM\"\n",
      "/var/folders/db/n7ph30_n6793fmm710rhb95m0000gn/T/ipykernel_49137/2915442042.py:9: SettingWithCopyWarning: \n",
      "A value is trying to be set on a copy of a slice from a DataFrame\n",
      "\n",
      "See the caveats in the documentation: https://pandas.pydata.org/pandas-docs/stable/user_guide/indexing.html#returning-a-view-versus-a-copy\n",
      "  df['Battery'][df['Battery'].isnull()] = df['Battery'].mode()[0]  # заполняем пропуски в столбце \"Battery\"\n"
     ]
    }
   ],
   "source": [
    "df['Screen'][df['Screen'].isnull()] = df['Screen'].mode()[0]  # заполняем пропуски в столбце \"Screen\"\n",
    "df['Inch'][df['Inch'].isnull()] = df['Inch'].mode()[0]  # заполняем пропуски в столбце \"Inch\"\n",
    "df['Main camera'][df['Main camera'].isnull()] = df['Main camera'].mode()[0]  # заполняем пропуски в столбце \"Main camera\"\n",
    "df['Second camera'][df['Second camera'].isnull()] = df['Second camera'].mode()[0]  # заполняем пропуски в столбце \"Second camera\"\n",
    "df['Processor name'][df['Processor name'].isnull()] = df['Processor name'].mode()[0]  # заполняем пропуски в столбце \"Processor name\"\n",
    "df['Processor rate'][df['Processor rate'].isnull()] = df['Processor rate'].mode()[0]  # заполняем пропуски в столбце \"Processor rate\"\n",
    "df['Internal memory'][df['Internal memory'].isnull()] = df['Internal memory'].mode()[0]  # заполняем пропуски в столбце \"Internal memory\"\n",
    "df['RAM'][df['RAM'].isnull()] = df['RAM'].mode()[0]  # заполняем пропуски в столбце \"RAM\"\n",
    "df['Battery'][df['Battery'].isnull()] = df['Battery'].mode()[0]  # заполняем пропуски в столбце \"Battery\""
   ]
  },
  {
   "cell_type": "code",
   "execution_count": 11,
   "id": "24dbddc9",
   "metadata": {},
   "outputs": [],
   "source": [
    "df['Screen'] = df['Screen'].astype(int)"
   ]
  },
  {
   "cell_type": "markdown",
   "id": "f871327c",
   "metadata": {},
   "source": [
    "Создадим новые переменные."
   ]
  },
  {
   "cell_type": "code",
   "execution_count": 12,
   "id": "569c0be9",
   "metadata": {},
   "outputs": [],
   "source": [
    "brand = []\n",
    "for elem in df['Name']:\n",
    "    brand.append(elem.split()[0])"
   ]
  },
  {
   "cell_type": "code",
   "execution_count": 13,
   "id": "14e5de54",
   "metadata": {},
   "outputs": [],
   "source": [
    "df['Name of brand'] = brand"
   ]
  },
  {
   "cell_type": "markdown",
   "id": "ff013866",
   "metadata": {},
   "source": [
    "Обобщим и добавим еще один признак \"Операционная система\"."
   ]
  },
  {
   "cell_type": "code",
   "execution_count": 14,
   "id": "0059df62",
   "metadata": {},
   "outputs": [],
   "source": [
    "operating_system = []\n",
    "for x in df['Name of brand']:\n",
    "    if x == 'Apple':\n",
    "        operating_system.append('IOS')\n",
    "    elif x == 'Philips':\n",
    "        operating_system.append('Nucleus')\n",
    "    elif x == 'Digma' or x == 'Vertex' or x == 'Alcatel' or x == 'Corn' or x == 'Sunwind' or x == 'Joys' or x == 'Panasonic':\n",
    "        operating_system.append('Not defined')\n",
    "    else:\n",
    "        operating_system.append('Android')"
   ]
  },
  {
   "cell_type": "code",
   "execution_count": 15,
   "id": "c859540c",
   "metadata": {},
   "outputs": [],
   "source": [
    "df['Operating system'] = operating_system"
   ]
  },
  {
   "cell_type": "markdown",
   "id": "87659f1c",
   "metadata": {},
   "source": [
    "Создадим еще один признак - цвет телефона. "
   ]
  },
  {
   "cell_type": "code",
   "execution_count": 16,
   "id": "d1dc6ddf",
   "metadata": {},
   "outputs": [],
   "source": [
    "color = []\n",
    "for elem in df['Name']:\n",
    "    color.append(elem.split()[-1])"
   ]
  },
  {
   "cell_type": "code",
   "execution_count": 17,
   "id": "7c2bf971",
   "metadata": {},
   "outputs": [],
   "source": [
    "df['Color'] = color"
   ]
  },
  {
   "cell_type": "markdown",
   "id": "e45c3d29",
   "metadata": {},
   "source": [
    "Признак - наличие eSim. "
   ]
  },
  {
   "cell_type": "code",
   "execution_count": 18,
   "id": "4b2206c2",
   "metadata": {},
   "outputs": [],
   "source": [
    "eSim = []\n",
    "for i in df['Name']:\n",
    "    if 'eSim' in i:\n",
    "        eSim.append(1)\n",
    "    else:\n",
    "        eSim.append(0)"
   ]
  },
  {
   "cell_type": "code",
   "execution_count": 19,
   "id": "c26ec220",
   "metadata": {},
   "outputs": [],
   "source": [
    "df['eSim'] = eSim"
   ]
  },
  {
   "cell_type": "code",
   "execution_count": 20,
   "id": "d0fd40d5",
   "metadata": {},
   "outputs": [
    {
     "data": {
      "text/html": [
       "<div>\n",
       "<style scoped>\n",
       "    .dataframe tbody tr th:only-of-type {\n",
       "        vertical-align: middle;\n",
       "    }\n",
       "\n",
       "    .dataframe tbody tr th {\n",
       "        vertical-align: top;\n",
       "    }\n",
       "\n",
       "    .dataframe thead th {\n",
       "        text-align: right;\n",
       "    }\n",
       "</style>\n",
       "<table border=\"1\" class=\"dataframe\">\n",
       "  <thead>\n",
       "    <tr style=\"text-align: right;\">\n",
       "      <th></th>\n",
       "      <th>Name</th>\n",
       "      <th>Price</th>\n",
       "      <th>Articul</th>\n",
       "      <th>Screen</th>\n",
       "      <th>Inch</th>\n",
       "      <th>Main camera</th>\n",
       "      <th>Second camera</th>\n",
       "      <th>Processor name</th>\n",
       "      <th>Processor rate</th>\n",
       "      <th>Internal memory</th>\n",
       "      <th>RAM</th>\n",
       "      <th>Battery</th>\n",
       "      <th>Name of brand</th>\n",
       "      <th>Operating system</th>\n",
       "      <th>Color</th>\n",
       "      <th>eSim</th>\n",
       "    </tr>\n",
       "  </thead>\n",
       "  <tbody>\n",
       "    <tr>\n",
       "      <th>0</th>\n",
       "      <td>Realme 10 8 128Gb Black</td>\n",
       "      <td>16590</td>\n",
       "      <td>118653</td>\n",
       "      <td>1080</td>\n",
       "      <td>6.40</td>\n",
       "      <td>50.0</td>\n",
       "      <td>16.0</td>\n",
       "      <td>Helio G99</td>\n",
       "      <td>2.20</td>\n",
       "      <td>128.0</td>\n",
       "      <td>8.0</td>\n",
       "      <td>5000.0</td>\n",
       "      <td>Realme</td>\n",
       "      <td>Android</td>\n",
       "      <td>Black</td>\n",
       "      <td>0</td>\n",
       "    </tr>\n",
       "    <tr>\n",
       "      <th>1</th>\n",
       "      <td>Apple iPhone 14 Pro Max 256Gb nanoSim + eSim ...</td>\n",
       "      <td>112990</td>\n",
       "      <td>116596</td>\n",
       "      <td>1290</td>\n",
       "      <td>6.70</td>\n",
       "      <td>48.0</td>\n",
       "      <td>12.0</td>\n",
       "      <td>A16 Bionic</td>\n",
       "      <td>3.46</td>\n",
       "      <td>256.0</td>\n",
       "      <td>6.0</td>\n",
       "      <td>4323.0</td>\n",
       "      <td>Apple</td>\n",
       "      <td>IOS</td>\n",
       "      <td>Black</td>\n",
       "      <td>1</td>\n",
       "    </tr>\n",
       "    <tr>\n",
       "      <th>2</th>\n",
       "      <td>Apple iPhone 14 Pro Max 256Gb nanoSim + eSim ...</td>\n",
       "      <td>108990</td>\n",
       "      <td>116609</td>\n",
       "      <td>1290</td>\n",
       "      <td>6.70</td>\n",
       "      <td>48.0</td>\n",
       "      <td>12.0</td>\n",
       "      <td>A16 Bionic</td>\n",
       "      <td>3.46</td>\n",
       "      <td>256.0</td>\n",
       "      <td>6.0</td>\n",
       "      <td>4323.0</td>\n",
       "      <td>Apple</td>\n",
       "      <td>IOS</td>\n",
       "      <td>Purple</td>\n",
       "      <td>1</td>\n",
       "    </tr>\n",
       "    <tr>\n",
       "      <th>3</th>\n",
       "      <td>Realme 10 8 128Gb White</td>\n",
       "      <td>16590</td>\n",
       "      <td>118650</td>\n",
       "      <td>1080</td>\n",
       "      <td>6.40</td>\n",
       "      <td>50.0</td>\n",
       "      <td>16.0</td>\n",
       "      <td>Helio G99</td>\n",
       "      <td>2.20</td>\n",
       "      <td>128.0</td>\n",
       "      <td>8.0</td>\n",
       "      <td>5000.0</td>\n",
       "      <td>Realme</td>\n",
       "      <td>Android</td>\n",
       "      <td>White</td>\n",
       "      <td>0</td>\n",
       "    </tr>\n",
       "    <tr>\n",
       "      <th>4</th>\n",
       "      <td>Xiaomi Redmi Note 11 NFC 4 64Gb RU Star Blue</td>\n",
       "      <td>11450</td>\n",
       "      <td>111788</td>\n",
       "      <td>1080</td>\n",
       "      <td>6.43</td>\n",
       "      <td>50.0</td>\n",
       "      <td>13.0</td>\n",
       "      <td>Snapdragon 680 4G</td>\n",
       "      <td>2.40</td>\n",
       "      <td>64.0</td>\n",
       "      <td>4.0</td>\n",
       "      <td>5000.0</td>\n",
       "      <td>Xiaomi</td>\n",
       "      <td>Android</td>\n",
       "      <td>Blue</td>\n",
       "      <td>0</td>\n",
       "    </tr>\n",
       "    <tr>\n",
       "      <th>...</th>\n",
       "      <td>...</td>\n",
       "      <td>...</td>\n",
       "      <td>...</td>\n",
       "      <td>...</td>\n",
       "      <td>...</td>\n",
       "      <td>...</td>\n",
       "      <td>...</td>\n",
       "      <td>...</td>\n",
       "      <td>...</td>\n",
       "      <td>...</td>\n",
       "      <td>...</td>\n",
       "      <td>...</td>\n",
       "      <td>...</td>\n",
       "      <td>...</td>\n",
       "      <td>...</td>\n",
       "      <td>...</td>\n",
       "    </tr>\n",
       "    <tr>\n",
       "      <th>653</th>\n",
       "      <td>Xiaomi Redmi Note 12 Pro 5G 8 128Gb EU Blue</td>\n",
       "      <td>28990</td>\n",
       "      <td>118995</td>\n",
       "      <td>1080</td>\n",
       "      <td>6.67</td>\n",
       "      <td>50.0</td>\n",
       "      <td>16.0</td>\n",
       "      <td>Dimensity 1080</td>\n",
       "      <td>2.60</td>\n",
       "      <td>128.0</td>\n",
       "      <td>8.0</td>\n",
       "      <td>5000.0</td>\n",
       "      <td>Xiaomi</td>\n",
       "      <td>Android</td>\n",
       "      <td>Blue</td>\n",
       "      <td>0</td>\n",
       "    </tr>\n",
       "    <tr>\n",
       "      <th>654</th>\n",
       "      <td>Xiaomi Redmi Note 12 Pro 5G 8 256Gb EU Pink</td>\n",
       "      <td>39990</td>\n",
       "      <td>119001</td>\n",
       "      <td>1080</td>\n",
       "      <td>6.67</td>\n",
       "      <td>50.0</td>\n",
       "      <td>16.0</td>\n",
       "      <td>Dimensity 1080</td>\n",
       "      <td>2.60</td>\n",
       "      <td>256.0</td>\n",
       "      <td>8.0</td>\n",
       "      <td>5000.0</td>\n",
       "      <td>Xiaomi</td>\n",
       "      <td>Android</td>\n",
       "      <td>Pink</td>\n",
       "      <td>0</td>\n",
       "    </tr>\n",
       "    <tr>\n",
       "      <th>655</th>\n",
       "      <td>Samsung Galaxy A24 4G 6 128Gb Global Amazing ...</td>\n",
       "      <td>20990</td>\n",
       "      <td>126874</td>\n",
       "      <td>1080</td>\n",
       "      <td>6.50</td>\n",
       "      <td>50.0</td>\n",
       "      <td>13.0</td>\n",
       "      <td>Helio G99</td>\n",
       "      <td>2.20</td>\n",
       "      <td>128.0</td>\n",
       "      <td>6.0</td>\n",
       "      <td>5000.0</td>\n",
       "      <td>Samsung</td>\n",
       "      <td>Android</td>\n",
       "      <td>Lime</td>\n",
       "      <td>0</td>\n",
       "    </tr>\n",
       "    <tr>\n",
       "      <th>656</th>\n",
       "      <td>Xiaomi Redmi Note 12 Pro 5G 6 128Gb EU White</td>\n",
       "      <td>26990</td>\n",
       "      <td>118991</td>\n",
       "      <td>1080</td>\n",
       "      <td>6.67</td>\n",
       "      <td>50.0</td>\n",
       "      <td>16.0</td>\n",
       "      <td>Dimensity 1080</td>\n",
       "      <td>2.60</td>\n",
       "      <td>128.0</td>\n",
       "      <td>6.0</td>\n",
       "      <td>5000.0</td>\n",
       "      <td>Xiaomi</td>\n",
       "      <td>Android</td>\n",
       "      <td>White</td>\n",
       "      <td>0</td>\n",
       "    </tr>\n",
       "    <tr>\n",
       "      <th>657</th>\n",
       "      <td>Xiaomi Redmi Note 12 Pro 5G 8 128Gb EU Pink</td>\n",
       "      <td>28990</td>\n",
       "      <td>118994</td>\n",
       "      <td>1080</td>\n",
       "      <td>6.67</td>\n",
       "      <td>50.0</td>\n",
       "      <td>16.0</td>\n",
       "      <td>Dimensity 1080</td>\n",
       "      <td>2.60</td>\n",
       "      <td>128.0</td>\n",
       "      <td>8.0</td>\n",
       "      <td>5000.0</td>\n",
       "      <td>Xiaomi</td>\n",
       "      <td>Android</td>\n",
       "      <td>Pink</td>\n",
       "      <td>0</td>\n",
       "    </tr>\n",
       "  </tbody>\n",
       "</table>\n",
       "<p>658 rows × 16 columns</p>\n",
       "</div>"
      ],
      "text/plain": [
       "                                                  Name   Price  Articul  \\\n",
       "0                              Realme 10 8 128Gb Black   16590   118653   \n",
       "1     Apple iPhone 14 Pro Max 256Gb nanoSim + eSim ...  112990   116596   \n",
       "2     Apple iPhone 14 Pro Max 256Gb nanoSim + eSim ...  108990   116609   \n",
       "3                              Realme 10 8 128Gb White   16590   118650   \n",
       "4         Xiaomi Redmi Note 11 NFC 4 64Gb RU Star Blue   11450   111788   \n",
       "..                                                 ...     ...      ...   \n",
       "653        Xiaomi Redmi Note 12 Pro 5G 8 128Gb EU Blue   28990   118995   \n",
       "654        Xiaomi Redmi Note 12 Pro 5G 8 256Gb EU Pink   39990   119001   \n",
       "655   Samsung Galaxy A24 4G 6 128Gb Global Amazing ...   20990   126874   \n",
       "656       Xiaomi Redmi Note 12 Pro 5G 6 128Gb EU White   26990   118991   \n",
       "657        Xiaomi Redmi Note 12 Pro 5G 8 128Gb EU Pink   28990   118994   \n",
       "\n",
       "     Screen  Inch  Main camera  Second camera     Processor name  \\\n",
       "0      1080  6.40         50.0           16.0          Helio G99   \n",
       "1      1290  6.70         48.0           12.0         A16 Bionic   \n",
       "2      1290  6.70         48.0           12.0         A16 Bionic   \n",
       "3      1080  6.40         50.0           16.0          Helio G99   \n",
       "4      1080  6.43         50.0           13.0  Snapdragon 680 4G   \n",
       "..      ...   ...          ...            ...                ...   \n",
       "653    1080  6.67         50.0           16.0     Dimensity 1080   \n",
       "654    1080  6.67         50.0           16.0     Dimensity 1080   \n",
       "655    1080  6.50         50.0           13.0          Helio G99   \n",
       "656    1080  6.67         50.0           16.0     Dimensity 1080   \n",
       "657    1080  6.67         50.0           16.0     Dimensity 1080   \n",
       "\n",
       "     Processor rate  Internal memory  RAM  Battery Name of brand  \\\n",
       "0              2.20            128.0  8.0   5000.0        Realme   \n",
       "1              3.46            256.0  6.0   4323.0         Apple   \n",
       "2              3.46            256.0  6.0   4323.0         Apple   \n",
       "3              2.20            128.0  8.0   5000.0        Realme   \n",
       "4              2.40             64.0  4.0   5000.0        Xiaomi   \n",
       "..              ...              ...  ...      ...           ...   \n",
       "653            2.60            128.0  8.0   5000.0        Xiaomi   \n",
       "654            2.60            256.0  8.0   5000.0        Xiaomi   \n",
       "655            2.20            128.0  6.0   5000.0       Samsung   \n",
       "656            2.60            128.0  6.0   5000.0        Xiaomi   \n",
       "657            2.60            128.0  8.0   5000.0        Xiaomi   \n",
       "\n",
       "    Operating system   Color  eSim  \n",
       "0            Android   Black     0  \n",
       "1                IOS   Black     1  \n",
       "2                IOS  Purple     1  \n",
       "3            Android   White     0  \n",
       "4            Android    Blue     0  \n",
       "..               ...     ...   ...  \n",
       "653          Android    Blue     0  \n",
       "654          Android    Pink     0  \n",
       "655          Android    Lime     0  \n",
       "656          Android   White     0  \n",
       "657          Android    Pink     0  \n",
       "\n",
       "[658 rows x 16 columns]"
      ]
     },
     "execution_count": 20,
     "metadata": {},
     "output_type": "execute_result"
    }
   ],
   "source": [
    "df"
   ]
  },
  {
   "cell_type": "markdown",
   "id": "93dc520c",
   "metadata": {},
   "source": [
    "Построим графики для того, чтобы посмотреть на распределение разных признаков."
   ]
  },
  {
   "cell_type": "code",
   "execution_count": 21,
   "id": "e80120a9",
   "metadata": {},
   "outputs": [
    {
     "data": {
      "image/png": "[encoded data removed]",
      "text/plain": [
       "<Figure size 720x576 with 1 Axes>"
      ]
     },
     "metadata": {
      "needs_background": "light"
     },
     "output_type": "display_data"
    }
   ],
   "source": [
    "plt.figure(figsize=(10, 8))\n",
    "popular_brands = df['Name of brand'].value_counts()[:10]\n",
    "plt.bar(popular_brands.index, popular_brands)\n",
    "plt.xlabel('Название фирмы телефона')\n",
    "plt.ylabel('Количество телефонов с заданной фирмой')\n",
    "plt.title('10 самых популярных фирм телефонов');"
   ]
  },
  {
   "cell_type": "code",
   "execution_count": 22,
   "id": "1727b4ea",
   "metadata": {},
   "outputs": [
    {
     "data": {
      "image/png": "[encoded data removed]",
      "text/plain": [
       "<Figure size 432x288 with 1 Axes>"
      ]
     },
     "metadata": {
      "needs_background": "light"
     },
     "output_type": "display_data"
    }
   ],
   "source": [
    "plt.bar(df['Operating system'].value_counts().index, df['Operating system'].value_counts());\n",
    "plt.xlabel('Операционная система телефона')\n",
    "plt.ylabel('Количество телефонов')\n",
    "plt.title('Распределение операционных систем');"
   ]
  },
  {
   "cell_type": "code",
   "execution_count": 23,
   "id": "9e754933",
   "metadata": {},
   "outputs": [
    {
     "data": {
      "image/png": "[encoded data removed]",
      "text/plain": [
       "<Figure size 1440x1800 with 8 Axes>"
      ]
     },
     "metadata": {
      "needs_background": "light"
     },
     "output_type": "display_data"
    }
   ],
   "source": [
    "plt.figure(figsize=(20, 25))\n",
    "\n",
    "sp = plt.subplot(421)\n",
    "df['Price'].hist(bins=30)\n",
    "plt.xlabel('Цена')\n",
    "plt.ylabel('Количество телефонов')\n",
    "plt.title('Распределение цены телефона');\n",
    "\n",
    "sp = plt.subplot(422)\n",
    "df['Inch'].hist(bins=30)\n",
    "plt.xlabel('Экран в дюймах')\n",
    "plt.ylabel('Количество телефонов')\n",
    "plt.title('Распределение характеристики экрана');\n",
    "\n",
    "sp = plt.subplot(423)\n",
    "df['Main camera'].hist(bins=30)\n",
    "plt.xlabel('Значение 1 камеры в мп')\n",
    "plt.ylabel('Количество телефонов')\n",
    "plt.title('Распределение характеристики основной камеры');\n",
    "\n",
    "sp = plt.subplot(424)\n",
    "df['Second camera'].hist(bins=30)\n",
    "plt.xlabel('Значение 2 камеры в мп')\n",
    "plt.ylabel('Количество телефонов')\n",
    "plt.title('Распределение второй камеры');\n",
    "\n",
    "sp = plt.subplot(425)\n",
    "df['Processor rate'].hist(bins=30)\n",
    "plt.xlabel('Частота процессора')\n",
    "plt.ylabel('Количество телефонов')\n",
    "plt.title('Распределение частоты процессора');\n",
    "\n",
    "sp = plt.subplot(426)\n",
    "df['Internal memory'].hist(bins=10)\n",
    "plt.xlabel('Значение встроенной памяти')\n",
    "plt.ylabel('Количество телефонов')\n",
    "plt.title('Распределение встроенной памяти');\n",
    "\n",
    "sp = plt.subplot(427)\n",
    "df['RAM'].hist(bins=10)\n",
    "plt.xlabel('Оперативная память телефона')\n",
    "plt.ylabel('Количество телефонов')\n",
    "plt.title('Распределение оперативной памяти');\n",
    "\n",
    "sp = plt.subplot(428)\n",
    "df['Battery'].hist(bins=30)\n",
    "plt.xlabel('Емкость аккумулятора')\n",
    "plt.ylabel('Количество телефонов')\n",
    "plt.title('Распределение емкости аккумулятора');"
   ]
  },
  {
   "cell_type": "markdown",
   "id": "0bfc2ca5",
   "metadata": {},
   "source": [
    "На каждом графике можно заметить значения, которые похожи на выбросы. Например, на графике Main Camera есть несколько выбросов больше 175. Аналогично на графике Internal memory выбросы со значениями больше 800. \n",
    "Лучше всего их удалить, так как иначе некоторые предпосылки для проверки гипотез будут нарушены, а так же выбросы могут оказать негативное влияние на ML. "
   ]
  },
  {
   "cell_type": "code",
   "execution_count": 24,
   "id": "726a1094",
   "metadata": {},
   "outputs": [],
   "source": [
    "df = df[df['Screen'] < 1500]"
   ]
  },
  {
   "cell_type": "code",
   "execution_count": 25,
   "id": "68e81aeb",
   "metadata": {},
   "outputs": [],
   "source": [
    "df = df[df['Main camera'] < 150]"
   ]
  },
  {
   "cell_type": "code",
   "execution_count": 26,
   "id": "2145aabd",
   "metadata": {},
   "outputs": [],
   "source": [
    "df = df[df['Second camera'] < 50]"
   ]
  },
  {
   "cell_type": "code",
   "execution_count": 27,
   "id": "28b1f64f",
   "metadata": {},
   "outputs": [],
   "source": [
    "df = df[df['Processor rate'] < 4]"
   ]
  },
  {
   "cell_type": "code",
   "execution_count": 28,
   "id": "004d2fcf",
   "metadata": {},
   "outputs": [],
   "source": [
    "df = df[df['Internal memory'] < 600]"
   ]
  },
  {
   "cell_type": "code",
   "execution_count": 29,
   "id": "10e2520a",
   "metadata": {},
   "outputs": [],
   "source": [
    "df = df[df['Battery'] < 8000]"
   ]
  },
  {
   "cell_type": "markdown",
   "id": "675c0043",
   "metadata": {},
   "source": [
    "Теперь попробуем найти определенные зависимости в признаках:"
   ]
  },
  {
   "cell_type": "code",
   "execution_count": 31,
   "id": "557ab08a",
   "metadata": {
    "scrolled": true
   },
   "outputs": [
    {
     "data": {
      "image/png": "[encoded data removed]",
      "text/plain": [
       "<Figure size 432x288 with 1 Axes>"
      ]
     },
     "metadata": {
      "needs_background": "light"
     },
     "output_type": "display_data"
    }
   ],
   "source": [
    "plt.scatter(x=df['Price'], y=df['Processor rate'])\n",
    "plt.xlabel('Цена')\n",
    "plt.ylabel('Частота процессора')\n",
    "plt.title('Зависимость цены и процессора телефона');"
   ]
  },
  {
   "cell_type": "markdown",
   "id": "f7188fc0",
   "metadata": {},
   "source": [
    "Чем ниже цена, то меньше значение частоты процессора. Однако стоит отметить, что график похож на логарифмическую функцию, то есть после определенного уровня цены значения по оси y почти перестают рости. Таким образом, есть определенное максимальное (на данный момент) значение частоты процессора. Телефоны с большим значением пока что не делают, что может объясняться разными прчинами. И отсутствуем необходимости, и невозможностью из-за ограниченных технологий. "
   ]
  },
  {
   "cell_type": "code",
   "execution_count": 32,
   "id": "de273a03",
   "metadata": {},
   "outputs": [
    {
     "data": {
      "image/png": "[encoded data removed]",
      "text/plain": [
       "<Figure size 432x288 with 1 Axes>"
      ]
     },
     "metadata": {
      "needs_background": "light"
     },
     "output_type": "display_data"
    }
   ],
   "source": [
    "plt.scatter(x=df['Price'], y=df['Battery'])\n",
    "plt.xlabel('Цена')\n",
    "plt.ylabel('Емкость батареи')\n",
    "plt.title('Зависимость характеристики аккумулятора от цены');"
   ]
  },
  {
   "cell_type": "code",
   "execution_count": 33,
   "id": "3183279b",
   "metadata": {},
   "outputs": [
    {
     "data": {
      "image/png": "[encoded data removed]",
      "text/plain": [
       "<Figure size 432x288 with 1 Axes>"
      ]
     },
     "metadata": {
      "needs_background": "light"
     },
     "output_type": "display_data"
    }
   ],
   "source": [
    "plt.scatter(x=df['Internal memory'], y=df['RAM'])\n",
    "plt.xlabel('Память телефона')\n",
    "plt.ylabel('RAM')\n",
    "plt.title('Зависимость внутренней памяти от операционной памяти');"
   ]
  },
  {
   "cell_type": "markdown",
   "id": "9b4d1750",
   "metadata": {},
   "source": [
    "В начале графика можно заметить небольшую зависимость: чем больше Internal memory, тем больше RAM. Однако есть выброс."
   ]
  },
  {
   "cell_type": "code",
   "execution_count": 34,
   "id": "6212a7d0",
   "metadata": {},
   "outputs": [
    {
     "data": {
      "image/png": "[encoded data removed]",
      "text/plain": [
       "<Figure size 432x288 with 1 Axes>"
      ]
     },
     "metadata": {
      "needs_background": "light"
     },
     "output_type": "display_data"
    }
   ],
   "source": [
    "plt.scatter(df['Internal memory'], df['Screen'])\n",
    "plt.xlabel('Внутренняя память')\n",
    "plt.ylabel('Характеристика экрана')\n",
    "plt.title('Зависимость внутренней памяти от экрана');"
   ]
  },
  {
   "cell_type": "code",
   "execution_count": 35,
   "id": "5e724be2",
   "metadata": {},
   "outputs": [
    {
     "data": {
      "image/png": "[encoded data removed]",
      "text/plain": [
       "<Figure size 432x288 with 1 Axes>"
      ]
     },
     "metadata": {
      "needs_background": "light"
     },
     "output_type": "display_data"
    }
   ],
   "source": [
    "plt.scatter(df['Operating system'], df['Price'])\n",
    "plt.xlabel('Операционная система')\n",
    "plt.ylabel('Цена')\n",
    "plt.title('Соотношение цены и операционной системы');"
   ]
  },
  {
   "cell_type": "markdown",
   "id": "30660a46",
   "metadata": {},
   "source": [
    "На графике можно заметить, что телефоны с операционной системой IOS стоят в среднем чуть больше, чем другие. Отдельно стоит отметить,что телефоны Nucleus и с неопределенной операционной системой стоят очень мало. В основном, это были кнопочные телефоны, либо очень дешевые телефоны с плохими характеристиками."
   ]
  },
  {
   "cell_type": "code",
   "execution_count": 36,
   "id": "d887c4c2",
   "metadata": {},
   "outputs": [
    {
     "data": {
      "image/png": "[encoded data removed]",
      "text/plain": [
       "<Figure size 432x288 with 1 Axes>"
      ]
     },
     "metadata": {
      "needs_background": "light"
     },
     "output_type": "display_data"
    }
   ],
   "source": [
    "plt.scatter(df['Articul'], df['Price'])\n",
    "plt.xlabel('Артикул')\n",
    "plt.ylabel('Цена')\n",
    "plt.title('Соотношение артикула на сайте с ценой');"
   ]
  },
  {
   "cell_type": "code",
   "execution_count": 37,
   "id": "4676821b",
   "metadata": {},
   "outputs": [
    {
     "data": {
      "image/png": "[encoded data removed]",
      "text/plain": [
       "<Figure size 432x288 with 1 Axes>"
      ]
     },
     "metadata": {
      "needs_background": "light"
     },
     "output_type": "display_data"
    }
   ],
   "source": [
    "plt.scatter(df['Articul'], df['Name of brand'])\n",
    "plt.xlabel('Артикул на сайте')\n",
    "plt.ylabel('Бренд')\n",
    "plt.title('Соотношение артикула и бренда телефона');"
   ]
  },
  {
   "cell_type": "code",
   "execution_count": 38,
   "id": "13769149",
   "metadata": {},
   "outputs": [
    {
     "data": {
      "image/png": "[encoded data removed]",
      "text/plain": [
       "<Figure size 720x576 with 1 Axes>"
      ]
     },
     "metadata": {
      "needs_background": "light"
     },
     "output_type": "display_data"
    }
   ],
   "source": [
    "plt.figure(figsize=(10, 8))\n",
    "plt.scatter(df['Name of brand'], df['Color'])\n",
    "plt.xlabel('Бренд')\n",
    "plt.ylabel('Цвет')\n",
    "plt.title('Соотношение бренда и цвета телефона');"
   ]
  },
  {
   "cell_type": "markdown",
   "id": "dbf75219",
   "metadata": {},
   "source": [
    "Можно заметить, что почти у всех брендов есть телефоны черного цвета. Также достаточно популярны серый, голубой и белый цвета. "
   ]
  },
  {
   "cell_type": "markdown",
   "id": "135d1089",
   "metadata": {},
   "source": [
    "### Гипотезы. "
   ]
  },
  {
   "cell_type": "markdown",
   "id": "76f41f2e",
   "metadata": {},
   "source": [
    "- мат ожидание цены равно 30000\n",
    "- айфон в среднем стоит дороже чем андроид\n",
    "- медиана цены равна 15000\n",
    "- цвет не влияет на цену телефона\n",
    "\n",
    "- гипотеза о взаимосвязи цены телефона и экрана в дюймах (тест отношения правдоподобий)\n",
    "- вероятность наткнуться на телефон ксяоми больше 0,3 ?\n",
    "- более половины телефонов стоят меньше 40к (критерий знаков) ?"
   ]
  },
  {
   "cell_type": "code",
   "execution_count": 42,
   "id": "16933540",
   "metadata": {},
   "outputs": [],
   "source": [
    "import numpy as np\n",
    "from scipy import stats"
   ]
  },
  {
   "cell_type": "markdown",
   "id": "f79ef5f6",
   "metadata": {},
   "source": [
    "Проверим самую просто гипотезу о том, что математическое ожидание цены равно 30000 с помощью z-теста (предпосылки соблюдаются)"
   ]
  },
  {
   "cell_type": "code",
   "execution_count": 43,
   "id": "e547ae09",
   "metadata": {},
   "outputs": [],
   "source": [
    "price_mean = df['Price'].mean()\n",
    "price_std = df['Price'].std()\n",
    "n = df.shape[0]"
   ]
  },
  {
   "cell_type": "code",
   "execution_count": 44,
   "id": "33328cf2",
   "metadata": {},
   "outputs": [
    {
     "data": {
      "text/plain": [
       "-7.955180314516822"
      ]
     },
     "execution_count": 44,
     "metadata": {},
     "output_type": "execute_result"
    }
   ],
   "source": [
    "diff = price_mean - 30000\n",
    "z_obs = diff / (price_std / np.sqrt(n))\n",
    "z_obs"
   ]
  },
  {
   "cell_type": "code",
   "execution_count": 45,
   "id": "e978378a",
   "metadata": {},
   "outputs": [],
   "source": [
    "alpha = 0.05\n",
    "z_cr = stats.norm.ppf(1-alpha/2)"
   ]
  },
  {
   "cell_type": "code",
   "execution_count": 46,
   "id": "00ecf9e6",
   "metadata": {},
   "outputs": [
    {
     "data": {
      "text/plain": [
       "(-7.955180314516822, 1.959963984540054)"
      ]
     },
     "execution_count": 46,
     "metadata": {},
     "output_type": "execute_result"
    }
   ],
   "source": [
    "z_obs, z_cr"
   ]
  },
  {
   "cell_type": "markdown",
   "id": "6d84ded3",
   "metadata": {},
   "source": [
    "z_obs < -z_cr, поэтому гипотеза отвергается. "
   ]
  },
  {
   "cell_type": "markdown",
   "id": "bc506bd0",
   "metadata": {},
   "source": [
    "Проверим гипотезу о равенстве математических ожиданий цены айфона и цены на операционной системе андроид с помощью z-теста, предпосылки так же соблюдаются."
   ]
  },
  {
   "cell_type": "code",
   "execution_count": 47,
   "id": "25aa351b",
   "metadata": {},
   "outputs": [],
   "source": [
    "alpha = 0.05  \n",
    "y = df[df['Operating system'] == 'Android'].Price\n",
    "x = df[df['Operating system'] == 'IOS'].Price\n",
    "\n",
    "diff = x.mean() - y.mean() \n",
    "nx, ny = x.size, y.size\n",
    "diff_std = np.sqrt(x.var(ddof=1)/nx + y.var(ddof=1)/ny)\n",
    "                                    \n",
    "z_obs = diff/diff_std    \n",
    "z_crit = stats.norm.ppf(1 - alpha/2) "
   ]
  },
  {
   "cell_type": "code",
   "execution_count": 48,
   "id": "d78cd850",
   "metadata": {},
   "outputs": [
    {
     "data": {
      "text/plain": [
       "17.79172280416515"
      ]
     },
     "execution_count": 48,
     "metadata": {},
     "output_type": "execute_result"
    }
   ],
   "source": [
    "z_obs"
   ]
  },
  {
   "cell_type": "code",
   "execution_count": 49,
   "id": "1cf4dd54",
   "metadata": {},
   "outputs": [
    {
     "data": {
      "text/plain": [
       "1.959963984540054"
      ]
     },
     "execution_count": 49,
     "metadata": {},
     "output_type": "execute_result"
    }
   ],
   "source": [
    "z_crit"
   ]
  },
  {
   "cell_type": "markdown",
   "id": "0d00e411",
   "metadata": {},
   "source": [
    "z-obs > z-crit, поэтому гипотеза о равенстве математических ожиданий отвергается."
   ]
  },
  {
   "cell_type": "markdown",
   "id": "e9202a2d",
   "metadata": {},
   "source": [
    "Проверим гипотезу о том, что медиана цены равна 15000 с помощью критерия знаков. "
   ]
  },
  {
   "cell_type": "code",
   "execution_count": 57,
   "id": "a7e50144",
   "metadata": {},
   "outputs": [
    {
     "data": {
      "text/plain": [
       "0.05981633757349703"
      ]
     },
     "execution_count": 57,
     "metadata": {},
     "output_type": "execute_result"
    }
   ],
   "source": [
    "from statsmodels.stats.descriptivestats import sign_test\n",
    "_, pvalue_1 = sign_test(df['Price'], mu0=15000)\n",
    "pvalue_1"
   ]
  },
  {
   "cell_type": "markdown",
   "id": "9631f25c",
   "metadata": {},
   "source": [
    "Данное значение больше 5%, то есть p-value > alpha, поэтому на уровне значимости 5% нет оснований отвергнуть гипотезу о том, что медиана цены равна 15000. "
   ]
  },
  {
   "cell_type": "markdown",
   "id": "212e72d5",
   "metadata": {},
   "source": [
    "Теперь проверим гипотезу о том, что цвет не влияет на цену телефона. Возьмем для сравнения black и blue телефоны (самых распорстраненных цветов). Проверим с помощью теста Манна-Уитни."
   ]
  },
  {
   "cell_type": "code",
   "execution_count": 61,
   "id": "52448c7e",
   "metadata": {},
   "outputs": [
    {
     "data": {
      "text/plain": [
       "Black    170\n",
       "Blue     133\n",
       "Name: Color, dtype: int64"
      ]
     },
     "execution_count": 61,
     "metadata": {},
     "output_type": "execute_result"
    }
   ],
   "source": [
    "df['Color'].value_counts()[:2]"
   ]
  },
  {
   "cell_type": "code",
   "execution_count": 75,
   "id": "6b7252eb",
   "metadata": {},
   "outputs": [],
   "source": [
    "df_black = df['Price'][df['Color'] == 'Black']\n",
    "df_blue = df['Price'][df['Color'] == 'Blue']"
   ]
  },
  {
   "cell_type": "markdown",
   "id": "2a3df1b7",
   "metadata": {},
   "source": [
    "Для того, чтобы тест Манна-Уитни сработал, распределение телефонов разных цветов должно быть из одного распределения. Посмотрим на это."
   ]
  },
  {
   "cell_type": "code",
   "execution_count": 76,
   "id": "cae60aa6",
   "metadata": {},
   "outputs": [
    {
     "data": {
      "image/png": "[encoded data removed]",
      "text/plain": [
       "<Figure size 720x360 with 1 Axes>"
      ]
     },
     "metadata": {
      "needs_background": "light"
     },
     "output_type": "display_data"
    }
   ],
   "source": [
    "plt.figure(figsize=(10,5))\n",
    "plt.hist(df_blue, bins=20, density=True, alpha=0.4, label='Blue')\n",
    "plt.hist(df_black, bins=20, density=True, alpha=0.4, label='Black')\n",
    "plt.legend();"
   ]
  },
  {
   "cell_type": "markdown",
   "id": "fd4024c6",
   "metadata": {},
   "source": [
    "У нас есть длинные хвосты, возможны выбросы, поэтому лучше применить не z-тест, а тест Манна-Уитни. "
   ]
  },
  {
   "cell_type": "code",
   "execution_count": 78,
   "id": "097e4677",
   "metadata": {},
   "outputs": [
    {
     "data": {
      "text/plain": [
       "0.6183848813889874"
      ]
     },
     "execution_count": 78,
     "metadata": {},
     "output_type": "execute_result"
    }
   ],
   "source": [
    "U, pval = stats.mannwhitneyu(df_black, df_blue, alternative='two-sided')\n",
    "pval"
   ]
  },
  {
   "cell_type": "markdown",
   "id": "6fc38572",
   "metadata": {},
   "source": [
    "P-value > alpha, поэтому нет оснований отвергнуть гипотезу."
   ]
  },
  {
   "cell_type": "markdown",
   "id": "1c36a0da",
   "metadata": {},
   "source": [
    "Теперь попробуем проверить эту же гипотезу с помощью бутстрапа. "
   ]
  },
  {
   "cell_type": "code",
   "execution_count": 80,
   "id": "bfc90c58",
   "metadata": {},
   "outputs": [],
   "source": [
    "def get_bootstrap_sample(x, B_sample=1):\n",
    "    N = x.size \n",
    "    sample = np.random.choice(x, size=(N, B_sample), replace=True)\n",
    "    \n",
    "    if B_sample == 1:\n",
    "        sample = sample.T[0]\n",
    "    return sample"
   ]
  },
  {
   "cell_type": "code",
   "execution_count": 81,
   "id": "9c024ef7",
   "metadata": {},
   "outputs": [],
   "source": [
    "x_boot = get_bootstrap_sample(df_black, B_sample=10**4)\n",
    "x_boot = np.median(x_boot, axis=0)\n",
    "\n",
    "y_boot = get_bootstrap_sample(df_blue, B_sample=10**4)\n",
    "y_boot = np.median(y_boot, axis=0)"
   ]
  },
  {
   "cell_type": "code",
   "execution_count": 82,
   "id": "26a58018",
   "metadata": {},
   "outputs": [],
   "source": [
    "def stat_intervals(boot, alpha=0.05):\n",
    "    left = np.quantile(boot, alpha/2)\n",
    "    right = np.quantile(boot, 1-alpha/2)\n",
    "    return left, right"
   ]
  },
  {
   "cell_type": "code",
   "execution_count": 83,
   "id": "fdca9bbb",
   "metadata": {},
   "outputs": [
    {
     "data": {
      "text/plain": [
       "(-1160.0, 4560.0)"
      ]
     },
     "execution_count": 83,
     "metadata": {},
     "output_type": "execute_result"
    }
   ],
   "source": [
    "stat_intervals(x_boot - y_boot)"
   ]
  },
  {
   "cell_type": "markdown",
   "id": "2a5234ca",
   "metadata": {},
   "source": [
    "Ноль попадает в доверительный интервал, значит нет оснований отвергнуть гипотезу. "
   ]
  },
  {
   "cell_type": "code",
   "execution_count": null,
   "id": "dadff34a",
   "metadata": {},
   "outputs": [],
   "source": []
  },
  {
   "cell_type": "code",
   "execution_count": null,
   "id": "5b52ceae",
   "metadata": {},
   "outputs": [],
   "source": []
  },
  {
   "cell_type": "code",
   "execution_count": null,
   "id": "986b1643",
   "metadata": {},
   "outputs": [],
   "source": []
  },
  {
   "cell_type": "code",
   "execution_count": null,
   "id": "49b3635a",
   "metadata": {},
   "outputs": [],
   "source": []
  },
  {
   "cell_type": "code",
   "execution_count": null,
   "id": "f4f038a9",
   "metadata": {},
   "outputs": [],
   "source": []
  },
  {
   "cell_type": "markdown",
   "id": "9a9d778b",
   "metadata": {},
   "source": [
    "### Машинное обучение."
   ]
  },
  {
   "cell_type": "markdown",
   "id": "8c0292b0",
   "metadata": {},
   "source": [
    "Я буду предсказывать цену телефона, основываясь на других числовых переменных, то есть решать задачу линейной регрессии. В качестве метрик использую mae, r2."
   ]
  },
  {
   "cell_type": "code",
   "execution_count": 84,
   "id": "3b00dda1",
   "metadata": {},
   "outputs": [],
   "source": [
    "import numpy as np\n",
    "\n",
    "from sklearn.model_selection import train_test_split\n",
    "from sklearn.preprocessing import PolynomialFeatures, StandardScaler, OneHotEncoder\n",
    "from sklearn.compose import ColumnTransformer\n",
    "from sklearn.linear_model import LinearRegression, Lasso\n",
    "from sklearn.metrics import mean_absolute_percentage_error\n",
    "from sklearn.pipeline import Pipeline\n",
    "from sklearn.model_selection import GridSearchCV"
   ]
  },
  {
   "cell_type": "code",
   "execution_count": 85,
   "id": "b31d05c7",
   "metadata": {},
   "outputs": [],
   "source": [
    "y = df['Price']\n",
    "X = df.drop(columns=['Price'])\n",
    "feature_names = X.columns.values\n",
    "\n",
    "numeric_features = X.select_dtypes([np.number]).columns\n",
    "categorical_features = X.dtypes[X.dtypes == \"object\"].index\n",
    "\n",
    "X_train, X_test, y_train, y_test = train_test_split(X, y, test_size=0.2, random_state=111) "
   ]
  },
  {
   "cell_type": "code",
   "execution_count": 86,
   "id": "52ab44b7",
   "metadata": {},
   "outputs": [],
   "source": [
    "column_transformer = ColumnTransformer([\n",
    "    ('scaling', StandardScaler(), numeric_features),    \n",
    "    ('ohe', OneHotEncoder(handle_unknown=\"ignore\"), categorical_features)\n",
    "])"
   ]
  },
  {
   "cell_type": "code",
   "execution_count": 87,
   "id": "74774a9d",
   "metadata": {},
   "outputs": [
    {
     "name": "stdout",
     "output_type": "stream",
     "text": [
      "Кол-во признаков до OneHot: 15\n",
      "Кол-во признаков после OneHot: 647\n"
     ]
    }
   ],
   "source": [
    "print(\"Кол-во признаков до OneHot:\", X_train.shape[1])\n",
    "print(\"Кол-во признаков после OneHot:\", column_transformer.fit_transform(X_train).shape[1])"
   ]
  },
  {
   "cell_type": "markdown",
   "id": "37e51df2",
   "metadata": {},
   "source": [
    "Можно заметить, что количество признаков сильно увеличилось после OneHotEncoding. Наверное, лучше оставить только самые основные категориальные признаки, иначе количество переменных становится больше, чем количество наблюдений.\n",
    "Оставим колонки Name of brand, Color. Сделаем еще раз. "
   ]
  },
  {
   "cell_type": "code",
   "execution_count": 88,
   "id": "143479da",
   "metadata": {},
   "outputs": [],
   "source": [
    "y = df['Price']\n",
    "X = df.drop(columns=['Price'])\n",
    "feature_names = X.columns.values\n",
    "\n",
    "numeric_features = X.select_dtypes([np.number]).columns\n",
    "categorical_features = [X.dtypes[X.dtypes == \"object\"].index[2], X.dtypes[X.dtypes == \"object\"].index[4]]\n",
    "\n",
    "X_train, X_test, y_train, y_test = train_test_split(X, y, test_size=0.2, random_state=42) "
   ]
  },
  {
   "cell_type": "code",
   "execution_count": 89,
   "id": "90504f49",
   "metadata": {},
   "outputs": [],
   "source": [
    "column_transformer = ColumnTransformer([\n",
    "    ('scaling', StandardScaler(), numeric_features),    \n",
    "    ('ohe', OneHotEncoder(handle_unknown=\"ignore\"), categorical_features)\n",
    "])"
   ]
  },
  {
   "cell_type": "code",
   "execution_count": 90,
   "id": "4eb31af7",
   "metadata": {},
   "outputs": [
    {
     "name": "stdout",
     "output_type": "stream",
     "text": [
      "Кол-во признаков до OneHot: 15\n",
      "Кол-во признаков после OneHot: 76\n"
     ]
    }
   ],
   "source": [
    "print(\"Кол-во признаков до OneHot:\", X_train.shape[1])\n",
    "print(\"Кол-во признаков после OneHot:\", column_transformer.fit_transform(X_train).shape[1])"
   ]
  },
  {
   "cell_type": "markdown",
   "id": "390ec490",
   "metadata": {},
   "source": [
    "Однако, чтобы не возникло переобучения, необходимо использовать регуляризацию. Я решила использовать Лассо, так как, возможно, какие-то признаки никак не влияют на цену (например, цвет телефона), поэтому возможность зануления некоторых признаков в данном случае может пригодиться."
   ]
  },
  {
   "cell_type": "code",
   "execution_count": 91,
   "id": "13285bd0",
   "metadata": {},
   "outputs": [],
   "source": [
    "from sklearn.metrics import r2_score, mean_absolute_error"
   ]
  },
  {
   "cell_type": "code",
   "execution_count": 92,
   "id": "5d050eb8",
   "metadata": {},
   "outputs": [
    {
     "name": "stdout",
     "output_type": "stream",
     "text": [
      "MAE на тестовой выборке = 6713.020286825139\n",
      "MAE на обучающей выборке = 4373.799507288103\n"
     ]
    }
   ],
   "source": [
    "lasso_pipeline = Pipeline(steps=[\n",
    "    ('ohe_and_scaling', column_transformer),\n",
    "    ('regression', Lasso())\n",
    "])\n",
    "\n",
    "model = lasso_pipeline.fit(X_train, y_train)\n",
    "\n",
    "y_pred = model.predict(X_test)\n",
    "y_pred_train = model.predict(X_train)\n",
    "\n",
    "print(f'MAE на тестовой выборке = {mean_absolute_error(y_test, y_pred)}')\n",
    "print(f'MAE на обучающей выборке = {mean_absolute_error(y_train, y_pred_train)}')"
   ]
  },
  {
   "cell_type": "code",
   "execution_count": 93,
   "id": "1cf24bd5",
   "metadata": {},
   "outputs": [
    {
     "name": "stdout",
     "output_type": "stream",
     "text": [
      "R2 на тестовой выборке = 0.8889645709420967\n",
      "R2 на обучающей выборке = 0.9175283736143208\n"
     ]
    }
   ],
   "source": [
    "print(f'R2 на тестовой выборке = {r2_score(y_test, y_pred)}')\n",
    "print(f'R2 на обучающей выборке = {r2_score(y_train, y_pred_train)}')"
   ]
  },
  {
   "cell_type": "markdown",
   "id": "e6a45069",
   "metadata": {},
   "source": [
    "Подбор гиперпараметров. "
   ]
  },
  {
   "cell_type": "code",
   "execution_count": 95,
   "id": "556e73c1",
   "metadata": {},
   "outputs": [
    {
     "name": "stderr",
     "output_type": "stream",
     "text": [
      "/Users/dasasoloveva/opt/anaconda3/lib/python3.9/site-packages/sklearn/linear_model/_coordinate_descent.py:592: ConvergenceWarning: Objective did not converge. You might want to increase the number of iterations. Duality gap: 2748592089.7152596, tolerance: 21338478.31618753\n",
      "  model = cd_fast.sparse_enet_coordinate_descent(\n",
      "/Users/dasasoloveva/opt/anaconda3/lib/python3.9/site-packages/sklearn/linear_model/_coordinate_descent.py:592: ConvergenceWarning: Objective did not converge. You might want to increase the number of iterations. Duality gap: 1363290545.6527653, tolerance: 21231812.180907797\n",
      "  model = cd_fast.sparse_enet_coordinate_descent(\n",
      "/Users/dasasoloveva/opt/anaconda3/lib/python3.9/site-packages/sklearn/linear_model/_coordinate_descent.py:592: ConvergenceWarning: Objective did not converge. You might want to increase the number of iterations. Duality gap: 1304197801.051611, tolerance: 22802491.999803565\n",
      "  model = cd_fast.sparse_enet_coordinate_descent(\n",
      "/Users/dasasoloveva/opt/anaconda3/lib/python3.9/site-packages/sklearn/linear_model/_coordinate_descent.py:592: ConvergenceWarning: Objective did not converge. You might want to increase the number of iterations. Duality gap: 1916631051.5509777, tolerance: 22967701.3477755\n",
      "  model = cd_fast.sparse_enet_coordinate_descent(\n",
      "/Users/dasasoloveva/opt/anaconda3/lib/python3.9/site-packages/sklearn/linear_model/_coordinate_descent.py:592: ConvergenceWarning: Objective did not converge. You might want to increase the number of iterations. Duality gap: 1250150206.749979, tolerance: 21648743.071421824\n",
      "  model = cd_fast.sparse_enet_coordinate_descent(\n",
      "/Users/dasasoloveva/opt/anaconda3/lib/python3.9/site-packages/sklearn/linear_model/_coordinate_descent.py:592: ConvergenceWarning: Objective did not converge. You might want to increase the number of iterations. Duality gap: 1466807596.4193974, tolerance: 23014958.948107794\n",
      "  model = cd_fast.sparse_enet_coordinate_descent(\n",
      "/Users/dasasoloveva/opt/anaconda3/lib/python3.9/site-packages/sklearn/linear_model/_coordinate_descent.py:592: ConvergenceWarning: Objective did not converge. You might want to increase the number of iterations. Duality gap: 1934278026.333352, tolerance: 21521681.84812161\n",
      "  model = cd_fast.sparse_enet_coordinate_descent(\n",
      "/Users/dasasoloveva/opt/anaconda3/lib/python3.9/site-packages/sklearn/linear_model/_coordinate_descent.py:592: ConvergenceWarning: Objective did not converge. You might want to increase the number of iterations. Duality gap: 1300480458.8010902, tolerance: 21827458.815560356\n",
      "  model = cd_fast.sparse_enet_coordinate_descent(\n",
      "/Users/dasasoloveva/opt/anaconda3/lib/python3.9/site-packages/sklearn/linear_model/_coordinate_descent.py:592: ConvergenceWarning: Objective did not converge. You might want to increase the number of iterations. Duality gap: 1786760631.6344624, tolerance: 22649373.852254346\n",
      "  model = cd_fast.sparse_enet_coordinate_descent(\n",
      "/Users/dasasoloveva/opt/anaconda3/lib/python3.9/site-packages/sklearn/linear_model/_coordinate_descent.py:592: ConvergenceWarning: Objective did not converge. You might want to increase the number of iterations. Duality gap: 2139857238.8988342, tolerance: 23291042.488063112\n",
      "  model = cd_fast.sparse_enet_coordinate_descent(\n",
      "/Users/dasasoloveva/opt/anaconda3/lib/python3.9/site-packages/sklearn/linear_model/_coordinate_descent.py:592: ConvergenceWarning: Objective did not converge. You might want to increase the number of iterations. Duality gap: 1436009080.6819153, tolerance: 22967701.3477755\n",
      "  model = cd_fast.sparse_enet_coordinate_descent(\n",
      "/Users/dasasoloveva/opt/anaconda3/lib/python3.9/site-packages/sklearn/linear_model/_coordinate_descent.py:592: ConvergenceWarning: Objective did not converge. You might want to increase the number of iterations. Duality gap: 1304878012.913725, tolerance: 22802491.999803565\n",
      "  model = cd_fast.sparse_enet_coordinate_descent(\n",
      "/Users/dasasoloveva/opt/anaconda3/lib/python3.9/site-packages/sklearn/linear_model/_coordinate_descent.py:592: ConvergenceWarning: Objective did not converge. You might want to increase the number of iterations. Duality gap: 849402980.1930618, tolerance: 21648743.071421824\n",
      "  model = cd_fast.sparse_enet_coordinate_descent(\n",
      "/Users/dasasoloveva/opt/anaconda3/lib/python3.9/site-packages/sklearn/linear_model/_coordinate_descent.py:592: ConvergenceWarning: Objective did not converge. You might want to increase the number of iterations. Duality gap: 2749319558.985299, tolerance: 21338478.31618753\n",
      "  model = cd_fast.sparse_enet_coordinate_descent(\n",
      "/Users/dasasoloveva/opt/anaconda3/lib/python3.9/site-packages/sklearn/linear_model/_coordinate_descent.py:592: ConvergenceWarning: Objective did not converge. You might want to increase the number of iterations. Duality gap: 1467515008.1920738, tolerance: 23014958.948107794\n",
      "  model = cd_fast.sparse_enet_coordinate_descent(\n",
      "/Users/dasasoloveva/opt/anaconda3/lib/python3.9/site-packages/sklearn/linear_model/_coordinate_descent.py:592: ConvergenceWarning: Objective did not converge. You might want to increase the number of iterations. Duality gap: 1363860767.7259884, tolerance: 21231812.180907797\n",
      "  model = cd_fast.sparse_enet_coordinate_descent(\n",
      "/Users/dasasoloveva/opt/anaconda3/lib/python3.9/site-packages/sklearn/linear_model/_coordinate_descent.py:592: ConvergenceWarning: Objective did not converge. You might want to increase the number of iterations. Duality gap: 1725321573.9797974, tolerance: 21827458.815560356\n",
      "  model = cd_fast.sparse_enet_coordinate_descent(\n",
      "/Users/dasasoloveva/opt/anaconda3/lib/python3.9/site-packages/sklearn/linear_model/_coordinate_descent.py:592: ConvergenceWarning: Objective did not converge. You might want to increase the number of iterations. Duality gap: 1937000819.3837194, tolerance: 21521681.84812161\n",
      "  model = cd_fast.sparse_enet_coordinate_descent(\n",
      "/Users/dasasoloveva/opt/anaconda3/lib/python3.9/site-packages/sklearn/linear_model/_coordinate_descent.py:592: ConvergenceWarning: Objective did not converge. You might want to increase the number of iterations. Duality gap: 2203392410.280699, tolerance: 22649373.852254346\n",
      "  model = cd_fast.sparse_enet_coordinate_descent(\n",
      "/Users/dasasoloveva/opt/anaconda3/lib/python3.9/site-packages/sklearn/linear_model/_coordinate_descent.py:592: ConvergenceWarning: Objective did not converge. You might want to increase the number of iterations. Duality gap: 2141065844.6026516, tolerance: 23291042.488063112\n",
      "  model = cd_fast.sparse_enet_coordinate_descent(\n",
      "/Users/dasasoloveva/opt/anaconda3/lib/python3.9/site-packages/sklearn/linear_model/_coordinate_descent.py:592: ConvergenceWarning: Objective did not converge. You might want to increase the number of iterations. Duality gap: 1652245157.138155, tolerance: 23014958.948107794\n",
      "  model = cd_fast.sparse_enet_coordinate_descent(\n",
      "/Users/dasasoloveva/opt/anaconda3/lib/python3.9/site-packages/sklearn/linear_model/_coordinate_descent.py:592: ConvergenceWarning: Objective did not converge. You might want to increase the number of iterations. Duality gap: 1437155369.5705338, tolerance: 22967701.3477755\n",
      "  model = cd_fast.sparse_enet_coordinate_descent(\n",
      "/Users/dasasoloveva/opt/anaconda3/lib/python3.9/site-packages/sklearn/linear_model/_coordinate_descent.py:592: ConvergenceWarning: Objective did not converge. You might want to increase the number of iterations. Duality gap: 1572981591.4488506, tolerance: 22802491.999803565\n",
      "  model = cd_fast.sparse_enet_coordinate_descent(\n",
      "/Users/dasasoloveva/opt/anaconda3/lib/python3.9/site-packages/sklearn/linear_model/_coordinate_descent.py:592: ConvergenceWarning: Objective did not converge. You might want to increase the number of iterations. Duality gap: 846630657.3927345, tolerance: 21648743.071421824\n",
      "  model = cd_fast.sparse_enet_coordinate_descent(\n",
      "/Users/dasasoloveva/opt/anaconda3/lib/python3.9/site-packages/sklearn/linear_model/_coordinate_descent.py:592: ConvergenceWarning: Objective did not converge. You might want to increase the number of iterations. Duality gap: 2750588384.122713, tolerance: 21338478.31618753\n",
      "  model = cd_fast.sparse_enet_coordinate_descent(\n",
      "/Users/dasasoloveva/opt/anaconda3/lib/python3.9/site-packages/sklearn/linear_model/_coordinate_descent.py:592: ConvergenceWarning: Objective did not converge. You might want to increase the number of iterations. Duality gap: 1044796823.8794861, tolerance: 21231812.180907797\n",
      "  model = cd_fast.sparse_enet_coordinate_descent(\n",
      "/Users/dasasoloveva/opt/anaconda3/lib/python3.9/site-packages/sklearn/linear_model/_coordinate_descent.py:592: ConvergenceWarning: Objective did not converge. You might want to increase the number of iterations. Duality gap: 1471395821.6728764, tolerance: 21521681.84812161\n",
      "  model = cd_fast.sparse_enet_coordinate_descent(\n",
      "/Users/dasasoloveva/opt/anaconda3/lib/python3.9/site-packages/sklearn/linear_model/_coordinate_descent.py:592: ConvergenceWarning: Objective did not converge. You might want to increase the number of iterations. Duality gap: 1726589509.4945736, tolerance: 21827458.815560356\n",
      "  model = cd_fast.sparse_enet_coordinate_descent(\n",
      "/Users/dasasoloveva/opt/anaconda3/lib/python3.9/site-packages/sklearn/linear_model/_coordinate_descent.py:592: ConvergenceWarning: Objective did not converge. You might want to increase the number of iterations. Duality gap: 2204730298.7304935, tolerance: 22649373.852254346\n",
      "  model = cd_fast.sparse_enet_coordinate_descent(\n",
      "/Users/dasasoloveva/opt/anaconda3/lib/python3.9/site-packages/sklearn/linear_model/_coordinate_descent.py:592: ConvergenceWarning: Objective did not converge. You might want to increase the number of iterations. Duality gap: 1439020227.8427773, tolerance: 22967701.3477755\n",
      "  model = cd_fast.sparse_enet_coordinate_descent(\n",
      "/Users/dasasoloveva/opt/anaconda3/lib/python3.9/site-packages/sklearn/linear_model/_coordinate_descent.py:592: ConvergenceWarning: Objective did not converge. You might want to increase the number of iterations. Duality gap: 1624629080.751978, tolerance: 23291042.488063112\n",
      "  model = cd_fast.sparse_enet_coordinate_descent(\n",
      "/Users/dasasoloveva/opt/anaconda3/lib/python3.9/site-packages/sklearn/linear_model/_coordinate_descent.py:592: ConvergenceWarning: Objective did not converge. You might want to increase the number of iterations. Duality gap: 1575196245.986765, tolerance: 22802491.999803565\n",
      "  model = cd_fast.sparse_enet_coordinate_descent(\n",
      "/Users/dasasoloveva/opt/anaconda3/lib/python3.9/site-packages/sklearn/linear_model/_coordinate_descent.py:592: ConvergenceWarning: Objective did not converge. You might want to increase the number of iterations. Duality gap: 1093465423.64118, tolerance: 23014958.948107794\n",
      "  model = cd_fast.sparse_enet_coordinate_descent(\n",
      "/Users/dasasoloveva/opt/anaconda3/lib/python3.9/site-packages/sklearn/linear_model/_coordinate_descent.py:592: ConvergenceWarning: Objective did not converge. You might want to increase the number of iterations. Duality gap: 848060278.5083942, tolerance: 21648743.071421824\n",
      "  model = cd_fast.sparse_enet_coordinate_descent(\n",
      "/Users/dasasoloveva/opt/anaconda3/lib/python3.9/site-packages/sklearn/linear_model/_coordinate_descent.py:592: ConvergenceWarning: Objective did not converge. You might want to increase the number of iterations. Duality gap: 1039955302.0657482, tolerance: 21338478.31618753\n",
      "  model = cd_fast.sparse_enet_coordinate_descent(\n",
      "/Users/dasasoloveva/opt/anaconda3/lib/python3.9/site-packages/sklearn/linear_model/_coordinate_descent.py:592: ConvergenceWarning: Objective did not converge. You might want to increase the number of iterations. Duality gap: 508884454.31814003, tolerance: 21231812.180907797\n",
      "  model = cd_fast.sparse_enet_coordinate_descent(\n",
      "/Users/dasasoloveva/opt/anaconda3/lib/python3.9/site-packages/sklearn/linear_model/_coordinate_descent.py:592: ConvergenceWarning: Objective did not converge. You might want to increase the number of iterations. Duality gap: 1473387940.8286858, tolerance: 21521681.84812161\n",
      "  model = cd_fast.sparse_enet_coordinate_descent(\n",
      "/Users/dasasoloveva/opt/anaconda3/lib/python3.9/site-packages/sklearn/linear_model/_coordinate_descent.py:592: ConvergenceWarning: Objective did not converge. You might want to increase the number of iterations. Duality gap: 1728836110.973772, tolerance: 21827458.815560356\n",
      "  model = cd_fast.sparse_enet_coordinate_descent(\n",
      "/Users/dasasoloveva/opt/anaconda3/lib/python3.9/site-packages/sklearn/linear_model/_coordinate_descent.py:592: ConvergenceWarning: Objective did not converge. You might want to increase the number of iterations. Duality gap: 1228113287.7611027, tolerance: 22649373.852254346\n",
      "  model = cd_fast.sparse_enet_coordinate_descent(\n",
      "/Users/dasasoloveva/opt/anaconda3/lib/python3.9/site-packages/sklearn/linear_model/_coordinate_descent.py:592: ConvergenceWarning: Objective did not converge. You might want to increase the number of iterations. Duality gap: 1626747847.1875992, tolerance: 23291042.488063112\n",
      "  model = cd_fast.sparse_enet_coordinate_descent(\n",
      "/Users/dasasoloveva/opt/anaconda3/lib/python3.9/site-packages/sklearn/linear_model/_coordinate_descent.py:592: ConvergenceWarning: Objective did not converge. You might want to increase the number of iterations. Duality gap: 935989371.4720821, tolerance: 22967701.3477755\n",
      "  model = cd_fast.sparse_enet_coordinate_descent(\n",
      "/Users/dasasoloveva/opt/anaconda3/lib/python3.9/site-packages/sklearn/linear_model/_coordinate_descent.py:592: ConvergenceWarning: Objective did not converge. You might want to increase the number of iterations. Duality gap: 815354764.2394447, tolerance: 22802491.999803565\n",
      "  model = cd_fast.sparse_enet_coordinate_descent(\n",
      "/Users/dasasoloveva/opt/anaconda3/lib/python3.9/site-packages/sklearn/linear_model/_coordinate_descent.py:592: ConvergenceWarning: Objective did not converge. You might want to increase the number of iterations. Duality gap: 506492339.20572853, tolerance: 21338478.31618753\n",
      "  model = cd_fast.sparse_enet_coordinate_descent(\n",
      "/Users/dasasoloveva/opt/anaconda3/lib/python3.9/site-packages/sklearn/linear_model/_coordinate_descent.py:592: ConvergenceWarning: Objective did not converge. You might want to increase the number of iterations. Duality gap: 1096700163.3954945, tolerance: 23014958.948107794\n",
      "  model = cd_fast.sparse_enet_coordinate_descent(\n",
      "/Users/dasasoloveva/opt/anaconda3/lib/python3.9/site-packages/sklearn/linear_model/_coordinate_descent.py:592: ConvergenceWarning: Objective did not converge. You might want to increase the number of iterations. Duality gap: 850599533.3556404, tolerance: 21648743.071421824\n",
      "  model = cd_fast.sparse_enet_coordinate_descent(\n",
      "/Users/dasasoloveva/opt/anaconda3/lib/python3.9/site-packages/sklearn/linear_model/_coordinate_descent.py:592: ConvergenceWarning: Objective did not converge. You might want to increase the number of iterations. Duality gap: 228721834.69979286, tolerance: 21231812.180907797\n",
      "  model = cd_fast.sparse_enet_coordinate_descent(\n",
      "/Users/dasasoloveva/opt/anaconda3/lib/python3.9/site-packages/sklearn/linear_model/_coordinate_descent.py:592: ConvergenceWarning: Objective did not converge. You might want to increase the number of iterations. Duality gap: 1150189082.5128841, tolerance: 21827458.815560356\n",
      "  model = cd_fast.sparse_enet_coordinate_descent(\n",
      "/Users/dasasoloveva/opt/anaconda3/lib/python3.9/site-packages/sklearn/linear_model/_coordinate_descent.py:592: ConvergenceWarning: Objective did not converge. You might want to increase the number of iterations. Duality gap: 1477193614.4820747, tolerance: 21521681.84812161\n",
      "  model = cd_fast.sparse_enet_coordinate_descent(\n",
      "/Users/dasasoloveva/opt/anaconda3/lib/python3.9/site-packages/sklearn/linear_model/_coordinate_descent.py:592: ConvergenceWarning: Objective did not converge. You might want to increase the number of iterations. Duality gap: 710118484.7246246, tolerance: 22649373.852254346\n",
      "  model = cd_fast.sparse_enet_coordinate_descent(\n",
      "/Users/dasasoloveva/opt/anaconda3/lib/python3.9/site-packages/sklearn/linear_model/_coordinate_descent.py:592: ConvergenceWarning: Objective did not converge. You might want to increase the number of iterations. Duality gap: 1074573179.8666267, tolerance: 23291042.488063112\n",
      "  model = cd_fast.sparse_enet_coordinate_descent(\n",
      "/Users/dasasoloveva/opt/anaconda3/lib/python3.9/site-packages/sklearn/linear_model/_coordinate_descent.py:592: ConvergenceWarning: Objective did not converge. You might want to increase the number of iterations. Duality gap: 648264009.8439598, tolerance: 22802491.999803565\n",
      "  model = cd_fast.sparse_enet_coordinate_descent(\n",
      "/Users/dasasoloveva/opt/anaconda3/lib/python3.9/site-packages/sklearn/linear_model/_coordinate_descent.py:592: ConvergenceWarning: Objective did not converge. You might want to increase the number of iterations. Duality gap: 446823487.9509678, tolerance: 22967701.3477755\n",
      "  model = cd_fast.sparse_enet_coordinate_descent(\n",
      "/Users/dasasoloveva/opt/anaconda3/lib/python3.9/site-packages/sklearn/linear_model/_coordinate_descent.py:592: ConvergenceWarning: Objective did not converge. You might want to increase the number of iterations. Duality gap: 1102371379.7006645, tolerance: 23014958.948107794\n",
      "  model = cd_fast.sparse_enet_coordinate_descent(\n",
      "/Users/dasasoloveva/opt/anaconda3/lib/python3.9/site-packages/sklearn/linear_model/_coordinate_descent.py:592: ConvergenceWarning: Objective did not converge. You might want to increase the number of iterations. Duality gap: 401102405.03876305, tolerance: 21648743.071421824\n",
      "  model = cd_fast.sparse_enet_coordinate_descent(\n",
      "/Users/dasasoloveva/opt/anaconda3/lib/python3.9/site-packages/sklearn/linear_model/_coordinate_descent.py:592: ConvergenceWarning: Objective did not converge. You might want to increase the number of iterations. Duality gap: 82060161.28603554, tolerance: 21338478.31618753\n",
      "  model = cd_fast.sparse_enet_coordinate_descent(\n",
      "/Users/dasasoloveva/opt/anaconda3/lib/python3.9/site-packages/sklearn/linear_model/_coordinate_descent.py:592: ConvergenceWarning: Objective did not converge. You might want to increase the number of iterations. Duality gap: 1155740850.103239, tolerance: 21827458.815560356\n",
      "  model = cd_fast.sparse_enet_coordinate_descent(\n",
      "/Users/dasasoloveva/opt/anaconda3/lib/python3.9/site-packages/sklearn/linear_model/_coordinate_descent.py:592: ConvergenceWarning: Objective did not converge. You might want to increase the number of iterations. Duality gap: 368925834.167696, tolerance: 22649373.852254346\n",
      "  model = cd_fast.sparse_enet_coordinate_descent(\n",
      "/Users/dasasoloveva/opt/anaconda3/lib/python3.9/site-packages/sklearn/linear_model/_coordinate_descent.py:592: ConvergenceWarning: Objective did not converge. You might want to increase the number of iterations. Duality gap: 258495184.30895233, tolerance: 23291042.488063112\n",
      "  model = cd_fast.sparse_enet_coordinate_descent(\n",
      "/Users/dasasoloveva/opt/anaconda3/lib/python3.9/site-packages/sklearn/linear_model/_coordinate_descent.py:592: ConvergenceWarning: Objective did not converge. You might want to increase the number of iterations. Duality gap: 702611767.8744526, tolerance: 21521681.84812161\n",
      "  model = cd_fast.sparse_enet_coordinate_descent(\n",
      "/Users/dasasoloveva/opt/anaconda3/lib/python3.9/site-packages/sklearn/linear_model/_coordinate_descent.py:592: ConvergenceWarning: Objective did not converge. You might want to increase the number of iterations. Duality gap: 133297702.8289299, tolerance: 23014958.948107794\n",
      "  model = cd_fast.sparse_enet_coordinate_descent(\n",
      "/Users/dasasoloveva/opt/anaconda3/lib/python3.9/site-packages/sklearn/linear_model/_coordinate_descent.py:592: ConvergenceWarning: Objective did not converge. You might want to increase the number of iterations. Duality gap: 301431942.73030853, tolerance: 21648743.071421824\n",
      "  model = cd_fast.sparse_enet_coordinate_descent(\n",
      "/Users/dasasoloveva/opt/anaconda3/lib/python3.9/site-packages/sklearn/linear_model/_coordinate_descent.py:592: ConvergenceWarning: Objective did not converge. You might want to increase the number of iterations. Duality gap: 137745986.84887695, tolerance: 22967701.3477755\n",
      "  model = cd_fast.sparse_enet_coordinate_descent(\n",
      "/Users/dasasoloveva/opt/anaconda3/lib/python3.9/site-packages/sklearn/linear_model/_coordinate_descent.py:592: ConvergenceWarning: Objective did not converge. You might want to increase the number of iterations. Duality gap: 23632173.16197014, tolerance: 21521681.84812161\n",
      "  model = cd_fast.sparse_enet_coordinate_descent(\n",
      "/Users/dasasoloveva/opt/anaconda3/lib/python3.9/site-packages/sklearn/linear_model/_coordinate_descent.py:592: ConvergenceWarning: Objective did not converge. You might want to increase the number of iterations. Duality gap: 57709258.515987396, tolerance: 23014958.948107794\n",
      "  model = cd_fast.sparse_enet_coordinate_descent(\n"
     ]
    }
   ],
   "source": [
    "alphas = np.logspace(-2, 3, 20)\n",
    "\n",
    "searcher = GridSearchCV(lasso_pipeline, [{\"regression__alpha\": alphas}], cv=10, n_jobs=-1)\n",
    "\n",
    "searcher.fit(X_train, y_train)\n",
    "\n",
    "best_alpha = searcher.best_params_[\"regression__alpha\"]"
   ]
  },
  {
   "cell_type": "code",
   "execution_count": 96,
   "id": "8007968f",
   "metadata": {},
   "outputs": [
    {
     "data": {
      "text/plain": [
       "14.38449888287663"
      ]
     },
     "execution_count": 96,
     "metadata": {},
     "output_type": "execute_result"
    }
   ],
   "source": [
    "best_alpha"
   ]
  },
  {
   "cell_type": "code",
   "execution_count": 97,
   "id": "bbdf6071",
   "metadata": {},
   "outputs": [
    {
     "name": "stdout",
     "output_type": "stream",
     "text": [
      "MAE на тестовой выборке = 6547.770568964838\n",
      "MAE на обучающей выборке = 4568.3298836617\n"
     ]
    }
   ],
   "source": [
    "pipeline = Pipeline(steps=[\n",
    "    ('ohe_and_scaling', column_transformer),\n",
    "    ('regression', Lasso(best_alpha))\n",
    "])\n",
    "\n",
    "model_with_alpha = pipeline.fit(X_train, y_train)\n",
    "y_pred_new = model_with_alpha.predict(X_test)\n",
    "y_pred_train_new = model_with_alpha.predict(X_train)\n",
    "\n",
    "print(f'MAE на тестовой выборке = {mean_absolute_error(y_test, y_pred_new)}')\n",
    "print(f'MAE на обучающей выборке = {mean_absolute_error(y_train, y_pred_train_new)}')"
   ]
  },
  {
   "cell_type": "code",
   "execution_count": 98,
   "id": "6fad67cf",
   "metadata": {},
   "outputs": [
    {
     "name": "stdout",
     "output_type": "stream",
     "text": [
      "R2 на тестовой выборке = 0.8968641129707077\n",
      "R2 на обучающей выборке = 0.9135062379255786\n"
     ]
    }
   ],
   "source": [
    "print(f'R2 на тестовой выборке = {r2_score(y_test, y_pred_new)}')\n",
    "print(f'R2 на обучающей выборке = {r2_score(y_train, y_pred_train_new)}')"
   ]
  }
 ],
 "metadata": {
  "kernelspec": {
   "display_name": "Python 3 (ipykernel)",
   "language": "python",
   "name": "python3"
  },
  "language_info": {
   "codemirror_mode": {
    "name": "ipython",
    "version": 3
   },
   "file_extension": ".py",
   "mimetype": "text/x-python",
   "name": "python",
   "nbconvert_exporter": "python",
   "pygments_lexer": "ipython3",
   "version": "3.9.7"
  }
 },
 "nbformat": 4,
 "nbformat_minor": 5
}
